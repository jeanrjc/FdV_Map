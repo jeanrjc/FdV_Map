{
 "metadata": {
  "name": "",
  "signature": "sha256:50634690ad788ec14967753d45d13d45e0cae6694a83e8d29ad310186c632195"
 },
 "nbformat": 3,
 "nbformat_minor": 0,
 "worksheets": [
  {
   "cells": [
    {
     "cell_type": "markdown",
     "metadata": {},
     "source": [
      "# Mapping FdV students"
     ]
    },
    {
     "cell_type": "markdown",
     "metadata": {},
     "source": [
      "Some import:"
     ]
    },
    {
     "cell_type": "code",
     "collapsed": false,
     "input": [
      "import pandas as pd\n",
      "import numpy as np\n",
      "from geopy.geocoders import Nominatim\n",
      "from geopy.exc import GeocoderTimedOut, GeocoderQueryError\n",
      "from geopy import Location\n",
      "import re"
     ],
     "language": "python",
     "metadata": {},
     "outputs": [],
     "prompt_number": 2
    },
    {
     "cell_type": "markdown",
     "metadata": {},
     "source": [
      "I choose Nominatim as it was used in the example of geopy, but it may not be the best geocoder, so I had to semi-manually check the addresses found."
     ]
    },
    {
     "cell_type": "code",
     "collapsed": false,
     "input": [
      "df = pd.read_table(\"Lab_addresses.txt\").drop_duplicates()"
     ],
     "language": "python",
     "metadata": {},
     "outputs": [],
     "prompt_number": 3
    },
    {
     "cell_type": "code",
     "collapsed": false,
     "input": [
      "df.head()"
     ],
     "language": "python",
     "metadata": {},
     "outputs": [
      {
       "html": [
        "<div style=\"max-height:1000px;max-width:1500px;overflow:auto;\">\n",
        "<table border=\"1\" class=\"dataframe\">\n",
        "  <thead>\n",
        "    <tr style=\"text-align: right;\">\n",
        "      <th></th>\n",
        "      <th>Name</th>\n",
        "      <th>Promo</th>\n",
        "      <th>Lab</th>\n",
        "      <th>Address_1</th>\n",
        "      <th>Address_2</th>\n",
        "      <th>Address_3</th>\n",
        "      <th>Address_City</th>\n",
        "      <th>Address_ZipCode</th>\n",
        "      <th>Address_Country</th>\n",
        "      <th>Website</th>\n",
        "    </tr>\n",
        "  </thead>\n",
        "  <tbody>\n",
        "    <tr>\n",
        "      <th>0</th>\n",
        "      <td>   ADRIEN</td>\n",
        "      <td> 2011</td>\n",
        "      <td> Biological Crystallography and NMR Laboratory</td>\n",
        "      <td> 4, avenue de l'Observatoire</td>\n",
        "      <td> NaN</td>\n",
        "      <td> NaN</td>\n",
        "      <td>  Paris cedex 6</td>\n",
        "      <td> 75270</td>\n",
        "      <td> FRANCE</td>\n",
        "      <td>            http://lcrbw.pharmacie.univ-paris5.fr/</td>\n",
        "    </tr>\n",
        "    <tr>\n",
        "      <th>1</th>\n",
        "      <td>   ADRIEN</td>\n",
        "      <td> 2011</td>\n",
        "      <td>                Statistical Physics Laboratory</td>\n",
        "      <td>             24, rue Lhomond</td>\n",
        "      <td> NaN</td>\n",
        "      <td> NaN</td>\n",
        "      <td> Paris Cedex 05</td>\n",
        "      <td> 75231</td>\n",
        "      <td> FRANCE</td>\n",
        "      <td>                            http://www.lps.ens.fr/</td>\n",
        "    </tr>\n",
        "    <tr>\n",
        "      <th>2</th>\n",
        "      <td>  BONAZZI</td>\n",
        "      <td> 2011</td>\n",
        "      <td>    Compartimentation et dynamique cellulaires</td>\n",
        "      <td>              12 Rue Lhomond</td>\n",
        "      <td> NaN</td>\n",
        "      <td> NaN</td>\n",
        "      <td>          Paris</td>\n",
        "      <td> 75005</td>\n",
        "      <td> FRANCE</td>\n",
        "      <td> http://umr144.curie.fr/en/research-groups/syst...</td>\n",
        "    </tr>\n",
        "    <tr>\n",
        "      <th>3</th>\n",
        "      <td>  BONAZZI</td>\n",
        "      <td> 2011</td>\n",
        "      <td>    Compartimentation et dynamique cellulaires</td>\n",
        "      <td>              12 Rue Lhomond</td>\n",
        "      <td> NaN</td>\n",
        "      <td> NaN</td>\n",
        "      <td>          Paris</td>\n",
        "      <td> 75005</td>\n",
        "      <td> FRANCE</td>\n",
        "      <td>                            http://umr144.curie.fr</td>\n",
        "    </tr>\n",
        "    <tr>\n",
        "      <th>4</th>\n",
        "      <td> BOUCCARA</td>\n",
        "      <td> 2011</td>\n",
        "      <td>                                          LPEM</td>\n",
        "      <td>            10 rue Vauquelin</td>\n",
        "      <td> NaN</td>\n",
        "      <td> NaN</td>\n",
        "      <td>          Paris</td>\n",
        "      <td> 75005</td>\n",
        "      <td> FRANCE</td>\n",
        "      <td>                                 www.lpem.espci.fr</td>\n",
        "    </tr>\n",
        "  </tbody>\n",
        "</table>\n",
        "</div>"
       ],
       "metadata": {},
       "output_type": "pyout",
       "prompt_number": 4,
       "text": [
        "       Name  Promo                                            Lab  \\\n",
        "0    ADRIEN   2011  Biological Crystallography and NMR Laboratory   \n",
        "1    ADRIEN   2011                 Statistical Physics Laboratory   \n",
        "2   BONAZZI   2011     Compartimentation et dynamique cellulaires   \n",
        "3   BONAZZI   2011     Compartimentation et dynamique cellulaires   \n",
        "4  BOUCCARA   2011                                           LPEM   \n",
        "\n",
        "                     Address_1 Address_2 Address_3    Address_City  \\\n",
        "0  4, avenue de l'Observatoire       NaN       NaN   Paris cedex 6   \n",
        "1              24, rue Lhomond       NaN       NaN  Paris Cedex 05   \n",
        "2               12 Rue Lhomond       NaN       NaN           Paris   \n",
        "3               12 Rue Lhomond       NaN       NaN           Paris   \n",
        "4             10 rue Vauquelin       NaN       NaN           Paris   \n",
        "\n",
        "  Address_ZipCode Address_Country  \\\n",
        "0           75270          FRANCE   \n",
        "1           75231          FRANCE   \n",
        "2           75005          FRANCE   \n",
        "3           75005          FRANCE   \n",
        "4           75005          FRANCE   \n",
        "\n",
        "                                             Website  \n",
        "0             http://lcrbw.pharmacie.univ-paris5.fr/  \n",
        "1                             http://www.lps.ens.fr/  \n",
        "2  http://umr144.curie.fr/en/research-groups/syst...  \n",
        "3                             http://umr144.curie.fr  \n",
        "4                                  www.lpem.espci.fr  "
       ]
      }
     ],
     "prompt_number": 4
    },
    {
     "cell_type": "markdown",
     "metadata": {},
     "source": [
      "Merge Address columns into one"
     ]
    },
    {
     "cell_type": "code",
     "collapsed": false,
     "input": [
      "adresses = df.filter(regex=\"Address\").apply(lambda x: \" \".join([str(i) for i in x if isinstance(i, str)]), axis=1)"
     ],
     "language": "python",
     "metadata": {},
     "outputs": [],
     "prompt_number": 5
    },
    {
     "cell_type": "code",
     "collapsed": false,
     "input": [
      "df = df[[\"Name\", \"Promo\", \"Lab\", \"Website\"]] "
     ],
     "language": "python",
     "metadata": {},
     "outputs": [],
     "prompt_number": 6
    },
    {
     "cell_type": "code",
     "collapsed": false,
     "input": [
      "df[\"Address\"] = adresses"
     ],
     "language": "python",
     "metadata": {},
     "outputs": [],
     "prompt_number": 7
    },
    {
     "cell_type": "code",
     "collapsed": false,
     "input": [
      "geolocator = Nominatim()"
     ],
     "language": "python",
     "metadata": {},
     "outputs": [],
     "prompt_number": 8
    },
    {
     "cell_type": "markdown",
     "metadata": {},
     "source": [
      "Code to semi-manually check addresses. cedex and zip code was causing problems."
     ]
    },
    {
     "cell_type": "code",
     "collapsed": false,
     "input": [
      "insensitive_address = re.compile(re.escape(\"cedex\"), re.IGNORECASE)\n",
      "code_postal = re.compile(re.escape(\"[\\d]{5}\"))\n",
      "\n",
      "for i in df.index:\n",
      "    addr_i = code_postal.sub(\"\", insensitive_address.sub(\"\", df.loc[i, \"Address\"]))\n",
      "    addr = \" \".join(addr_i.split()[:5])\n",
      "    location = None\n",
      "    print \">> \", i\n",
      "    ok = \"a\"\n",
      "    while location is None or ok != \"\":\n",
      "        try:\n",
      "            print \"addr : \", addr_i\n",
      "            location = geolocator.geocode(addr)\n",
      "            print \"loc : \", location.address\n",
      "            \n",
      "            ok = raw_input(\"ok1 ?\\n\")\n",
      "            \n",
      "            if ok != \"\":\n",
      "                addr = ok\n",
      "        \n",
      "        except (GeocoderTimedOut, GeocoderQueryError, AttributeError):\n",
      "            ok = raw_input(\"ok2 ?\\n\")\n",
      "            if ok != \"\":\n",
      "                addr = ok\n",
      "            \n",
      "    \n",
      "    if isinstance(location, Location):   \n",
      "        #print df.loc[i, \"Address\"]\n",
      "        #print location.address\n",
      "        print \"----\"\n",
      "        df.loc[i, \"latitude\"] = location.latitude\n",
      "        df.loc[i, \"longitude\"] = location.longitude\n",
      "        df.loc[i, \"Clean_Adress\"] = location.address\n"
     ],
     "language": "python",
     "metadata": {},
     "outputs": [
      {
       "output_type": "stream",
       "stream": "stdout",
       "text": [
        ">>  0\n",
        "addr :  4, avenue de l'Observatoire Paris  6 75270 FRANCE\n",
        "loc : "
       ]
      },
      {
       "output_type": "stream",
       "stream": "stdout",
       "text": [
        " 4, Avenue de l'Observatoire, Od\u00e9on, 6e, Paris, \u00cele-de-France, France m\u00e9tropolitaine, 75006, France\n"
       ]
      },
      {
       "name": "stdout",
       "output_type": "stream",
       "stream": "stdout",
       "text": [
        "ok1 ?\n",
        "\n"
       ]
      },
      {
       "output_type": "stream",
       "stream": "stdout",
       "text": [
        "----\n",
        ">>  1\n",
        "addr :  24, rue Lhomond Paris  05 75231 FRANCE\n",
        "loc : "
       ]
      },
      {
       "name": "stdout",
       "output_type": "stream",
       "stream": "stdout",
       "text": [
        "ok2 ?\n",
        "24, rue Lhomond Paris\n"
       ]
      },
      {
       "output_type": "stream",
       "stream": "stdout",
       "text": [
        " addr :  24, rue Lhomond Paris  05 75231 FRANCE\n",
        "loc : "
       ]
      },
      {
       "output_type": "stream",
       "stream": "stdout",
       "text": [
        " 24, Rue Lhomond, Val-de-Gr\u00e2ce, 5e, Paris, \u00cele-de-France, France m\u00e9tropolitaine, 75005, France\n"
       ]
      },
      {
       "name": "stdout",
       "output_type": "stream",
       "stream": "stdout",
       "text": [
        "ok1 ?\n",
        "\n"
       ]
      },
      {
       "output_type": "stream",
       "stream": "stdout",
       "text": [
        "----\n",
        ">>  2\n",
        "addr :  12 Rue Lhomond Paris 75005 FRANCE\n",
        "loc : "
       ]
      },
      {
       "output_type": "stream",
       "stream": "stdout",
       "text": [
        " 12, Rue Lhomond, Val-de-Gr\u00e2ce, 5e, Paris, \u00cele-de-France, France m\u00e9tropolitaine, 75005, France\n"
       ]
      },
      {
       "name": "stdout",
       "output_type": "stream",
       "stream": "stdout",
       "text": [
        "ok1 ?\n",
        "\n"
       ]
      },
      {
       "output_type": "stream",
       "stream": "stdout",
       "text": [
        "----\n",
        ">>  3\n",
        "addr :  12 Rue Lhomond Paris 75005 FRANCE\n",
        "loc : "
       ]
      },
      {
       "output_type": "stream",
       "stream": "stdout",
       "text": [
        " 12, Rue Lhomond, Val-de-Gr\u00e2ce, 5e, Paris, \u00cele-de-France, France m\u00e9tropolitaine, 75005, France\n"
       ]
      },
      {
       "name": "stdout",
       "output_type": "stream",
       "stream": "stdout",
       "text": [
        "ok1 ?\n",
        "\n"
       ]
      },
      {
       "output_type": "stream",
       "stream": "stdout",
       "text": [
        "----\n",
        ">>  4\n",
        "addr :  10 rue Vauquelin Paris 75005 FRANCE\n",
        "loc : "
       ]
      },
      {
       "output_type": "stream",
       "stream": "stdout",
       "text": [
        " ESPCI, 10, Rue Vauquelin, Val-de-Gr\u00e2ce, 5e, Paris, \u00cele-de-France, France m\u00e9tropolitaine, 75005, France\n"
       ]
      },
      {
       "name": "stdout",
       "output_type": "stream",
       "stream": "stdout",
       "text": [
        "ok1 ?\n",
        "\n"
       ]
      },
      {
       "output_type": "stream",
       "stream": "stdout",
       "text": [
        "----\n",
        ">>  5\n",
        "addr :  11 rue Pierre et Marie Curie, 75005 Paris, France Paris 75005 FRANCE\n",
        "loc : "
       ]
      },
      {
       "output_type": "stream",
       "stream": "stdout",
       "text": [
        " Rue Pierre et Marie, Portiragnes, B\u00e9ziers, H\u00e9rault, Languedoc-Roussillon, France m\u00e9tropolitaine, 34420, France\n"
       ]
      },
      {
       "name": "stdout",
       "output_type": "stream",
       "stream": "stdout",
       "text": [
        "ok1 ?\n",
        "11 rue Pierre et Marie Curie Paris\n"
       ]
      },
      {
       "output_type": "stream",
       "stream": "stdout",
       "text": [
        "addr :  11 rue Pierre et Marie Curie, 75005 Paris, France Paris 75005 FRANCE\n",
        "loc : "
       ]
      },
      {
       "output_type": "stream",
       "stream": "stdout",
       "text": [
        " 11, Rue Pierre et Marie Curie, Val-de-Gr\u00e2ce, 5e, Paris, \u00cele-de-France, France m\u00e9tropolitaine, 75005, France\n"
       ]
      },
      {
       "name": "stdout",
       "output_type": "stream",
       "stream": "stdout",
       "text": [
        "ok1 ?\n",
        "\n"
       ]
      },
      {
       "output_type": "stream",
       "stream": "stdout",
       "text": [
        "----\n",
        ">>  6\n",
        "addr :  Buffon (Universite Paris Diderot) Paris 75013 FRANCE\n",
        "loc : "
       ]
      },
      {
       "output_type": "stream",
       "stream": "stdout",
       "text": [
        " Buffon (Universit\u00e9 Paris Diderot), Rue Alice Domont et L\u00e9onie Duquet, Gare, 13e, Paris, \u00cele-de-France, France m\u00e9tropolitaine, 75013, France\n"
       ]
      },
      {
       "name": "stdout",
       "output_type": "stream",
       "stream": "stdout",
       "text": [
        "ok1 ?\n",
        "\n"
       ]
      },
      {
       "output_type": "stream",
       "stream": "stdout",
       "text": [
        "----\n",
        ">>  7\n",
        "addr :  24, rue du faubourg St Jacques Paris 75014 FRANCE\n",
        "loc : "
       ]
      },
      {
       "output_type": "stream",
       "stream": "stdout",
       "text": [
        " Rue du Faubourg, Dieffenbach-au-Val, S\u00e9lestat-Erstein, Bas-Rhin, Alsace, France m\u00e9tropolitaine, 67220, France\n"
       ]
      },
      {
       "name": "stdout",
       "output_type": "stream",
       "stream": "stdout",
       "text": [
        "ok1 ?\n",
        "24, rue du faubourg St Jacques Paris\n"
       ]
      },
      {
       "output_type": "stream",
       "stream": "stdout",
       "text": [
        "addr :  24, rue du faubourg St Jacques Paris 75014 FRANCE\n",
        "loc : "
       ]
      },
      {
       "output_type": "stream",
       "stream": "stdout",
       "text": [
        " 24, Rue du Faubourg Saint-Jacques, Montparnasse, 14e, Paris, \u00cele-de-France, France m\u00e9tropolitaine, 75014, France\n"
       ]
      },
      {
       "name": "stdout",
       "output_type": "stream",
       "stream": "stdout",
       "text": [
        "ok1 ?\n",
        "\n"
       ]
      },
      {
       "output_type": "stream",
       "stream": "stdout",
       "text": [
        "----\n",
        ">>  8\n",
        "addr :  rue d'ulm Paris  05 75231 FRANCE\n",
        "loc : "
       ]
      },
      {
       "name": "stdout",
       "output_type": "stream",
       "stream": "stdout",
       "text": [
        "ok2 ?\n",
        "rue d'ulm Paris\n"
       ]
      },
      {
       "output_type": "stream",
       "stream": "stdout",
       "text": [
        " addr :  rue d'ulm Paris  05 75231 FRANCE\n",
        "loc : "
       ]
      },
      {
       "output_type": "stream",
       "stream": "stdout",
       "text": [
        " Rue d'Ulm, 5e Arrondissement, 5e, Paris, \u00cele-de-France, France m\u00e9tropolitaine, 75005, France\n"
       ]
      },
      {
       "name": "stdout",
       "output_type": "stream",
       "stream": "stdout",
       "text": [
        "ok1 ?\n",
        "\n"
       ]
      },
      {
       "output_type": "stream",
       "stream": "stdout",
       "text": [
        "----\n",
        ">>  9\n",
        "addr :  INRA Domaine de Vilvert Jouy-en-Josas 78352  FRANCE\n",
        "loc : "
       ]
      },
      {
       "name": "stdout",
       "output_type": "stream",
       "stream": "stdout",
       "text": [
        "ok2 ?\n",
        "INRA Jouy-en-Josas\n"
       ]
      },
      {
       "output_type": "stream",
       "stream": "stdout",
       "text": [
        " addr :  INRA Domaine de Vilvert Jouy-en-Josas 78352  FRANCE\n",
        "loc : "
       ]
      },
      {
       "output_type": "stream",
       "stream": "stdout",
       "text": [
        " INRA, Jouy-en-Josas, Versailles, Yvelines, \u00cele-de-France, France m\u00e9tropolitaine, 78350, France\n"
       ]
      },
      {
       "name": "stdout",
       "output_type": "stream",
       "stream": "stdout",
       "text": [
        "ok1 ?\n",
        "\n"
       ]
      },
      {
       "output_type": "stream",
       "stream": "stdout",
       "text": [
        "----\n",
        ">>  10\n",
        "addr :  INRA Domaine de Vilvert Jouy-en-Josas 78352  FRANCE\n",
        "loc : "
       ]
      },
      {
       "name": "stdout",
       "output_type": "stream",
       "stream": "stdout",
       "text": [
        "ok2 ?\n",
        "INRA Jouy-en-Josas\n"
       ]
      },
      {
       "output_type": "stream",
       "stream": "stdout",
       "text": [
        " addr :  INRA Domaine de Vilvert Jouy-en-Josas 78352  FRANCE\n",
        "loc : "
       ]
      },
      {
       "output_type": "stream",
       "stream": "stdout",
       "text": [
        " INRA, Jouy-en-Josas, Versailles, Yvelines, \u00cele-de-France, France m\u00e9tropolitaine, 78350, France\n"
       ]
      },
      {
       "name": "stdout",
       "output_type": "stream",
       "stream": "stdout",
       "text": [
        "ok1 ?\n",
        "\n"
       ]
      },
      {
       "output_type": "stream",
       "stream": "stdout",
       "text": [
        "----\n",
        ">>  11\n",
        "addr :  156 rue de Vaugirard PARIS 75015 FRANCE\n",
        "loc : "
       ]
      },
      {
       "output_type": "stream",
       "stream": "stdout",
       "text": [
        " 156, Rue de Vaugirard, St-Lambert, 15e, Paris, \u00cele-de-France, France m\u00e9tropolitaine, 75015, France\n"
       ]
      },
      {
       "name": "stdout",
       "output_type": "stream",
       "stream": "stdout",
       "text": [
        "ok1 ?\n",
        "\n"
       ]
      },
      {
       "output_type": "stream",
       "stream": "stdout",
       "text": [
        "----\n",
        ">>  12\n",
        "addr :  10, rue Vauquelin Paris 75005 FRANCE\n",
        "loc : "
       ]
      },
      {
       "output_type": "stream",
       "stream": "stdout",
       "text": [
        " ESPCI, 10, Rue Vauquelin, Val-de-Gr\u00e2ce, 5e, Paris, \u00cele-de-France, France m\u00e9tropolitaine, 75005, France\n"
       ]
      },
      {
       "name": "stdout",
       "output_type": "stream",
       "stream": "stdout",
       "text": [
        "ok1 ?\n",
        "\n"
       ]
      },
      {
       "output_type": "stream",
       "stream": "stdout",
       "text": [
        "----\n",
        ">>  13\n",
        "addr :  55 rue Buffon Paris 75005 FRANCE\n",
        "loc : "
       ]
      },
      {
       "output_type": "stream",
       "stream": "stdout",
       "text": [
        " 55, Rue Buffon, Jardin des Plantes, 5e, Paris, \u00cele-de-France, France m\u00e9tropolitaine, 75005, France\n"
       ]
      },
      {
       "name": "stdout",
       "output_type": "stream",
       "stream": "stdout",
       "text": [
        "ok1 ?\n",
        "\n"
       ]
      },
      {
       "output_type": "stream",
       "stream": "stdout",
       "text": [
        "----\n",
        ">>  14\n",
        "addr :  7 Quai Saint-Bernard Paris 75005 FRANCE\n",
        "loc : "
       ]
      },
      {
       "output_type": "stream",
       "stream": "stdout",
       "text": [
        " Quai Saint-Bernard, Jardin des Plantes, 5e, Paris, \u00cele-de-France, France m\u00e9tropolitaine, 75005, France\n"
       ]
      },
      {
       "name": "stdout",
       "output_type": "stream",
       "stream": "stdout",
       "text": [
        "ok1 ?\n",
        "\n"
       ]
      },
      {
       "output_type": "stream",
       "stream": "stdout",
       "text": [
        "----\n",
        ">>  15\n",
        "addr :  47, bld de l'Hopital Paris  13 75651 FRANCE\n",
        "loc : "
       ]
      },
      {
       "name": "stdout",
       "output_type": "stream",
       "stream": "stdout",
       "text": [
        "ok2 ?\n",
        "47 boulevard de l'hopital paris\n"
       ]
      },
      {
       "output_type": "stream",
       "stream": "stdout",
       "text": [
        " addr :  47, bld de l'Hopital Paris  13 75651 FRANCE\n",
        "loc : "
       ]
      },
      {
       "output_type": "stream",
       "stream": "stdout",
       "text": [
        " 47, Boulevard de l'H\u00f4pital, Salp\u00eatri\u00e8re, 13e, Paris, \u00cele-de-France, France m\u00e9tropolitaine, 75013, France\n"
       ]
      },
      {
       "name": "stdout",
       "output_type": "stream",
       "stream": "stdout",
       "text": [
        "ok1 ?\n",
        "\n"
       ]
      },
      {
       "output_type": "stream",
       "stream": "stdout",
       "text": [
        "----\n",
        ">>  16\n",
        "addr :  Buffon (Universite Paris Diderot) Paris  13 75205 FRANCE\n",
        "loc : "
       ]
      },
      {
       "output_type": "stream",
       "stream": "stdout",
       "text": [
        " Buffon (Universit\u00e9 Paris Diderot), Rue Alice Domont et L\u00e9onie Duquet, Gare, 13e, Paris, \u00cele-de-France, France m\u00e9tropolitaine, 75013, France\n"
       ]
      },
      {
       "name": "stdout",
       "output_type": "stream",
       "stream": "stdout",
       "text": [
        "ok1 ?\n",
        "\n"
       ]
      },
      {
       "output_type": "stream",
       "stream": "stdout",
       "text": [
        "----\n",
        ">>  17\n",
        "addr :  26 rue d'Ulm Paris 75005 FRANCE\n",
        "loc : "
       ]
      },
      {
       "output_type": "stream",
       "stream": "stdout",
       "text": [
        " Rue d'Ulm, 5e Arrondissement, 5e, Paris, \u00cele-de-France, France m\u00e9tropolitaine, 75005, France\n"
       ]
      },
      {
       "name": "stdout",
       "output_type": "stream",
       "stream": "stdout",
       "text": [
        "ok1 ?\n",
        "\n"
       ]
      },
      {
       "output_type": "stream",
       "stream": "stdout",
       "text": [
        "----\n",
        ">>  18\n",
        "addr :  46 rue d'Ulm Paris  05 75230 FRANCE\n",
        "loc : "
       ]
      },
      {
       "name": "stdout",
       "output_type": "stream",
       "stream": "stdout",
       "text": [
        "ok2 ?\n",
        "46 rue d'Ulm Paris\n"
       ]
      },
      {
       "output_type": "stream",
       "stream": "stdout",
       "text": [
        " addr :  46 rue d'Ulm Paris  05 75230 FRANCE\n",
        "loc : "
       ]
      },
      {
       "output_type": "stream",
       "stream": "stdout",
       "text": [
        " 46, Rue d'Ulm, Val-de-Gr\u00e2ce, 5e, Paris, \u00cele-de-France, France m\u00e9tropolitaine, 75005, France\n"
       ]
      },
      {
       "name": "stdout",
       "output_type": "stream",
       "stream": "stdout",
       "text": [
        "ok1 ?\n",
        "\n"
       ]
      },
      {
       "output_type": "stream",
       "stream": "stdout",
       "text": [
        "----\n",
        ">>  20\n",
        "addr :  Universite paris diderot condorcet Paris  13 F-75205 FRANCE\n",
        "loc : "
       ]
      },
      {
       "output_type": "stream",
       "stream": "stdout",
       "text": [
        " Condorcet (Universit\u00e9 Paris Diderot), Quai Panhard et Levassor, Gare, 13e, Paris, \u00cele-de-France, France m\u00e9tropolitaine, 75013, France\n"
       ]
      },
      {
       "name": "stdout",
       "output_type": "stream",
       "stream": "stdout",
       "text": [
        "ok1 ?\n",
        "\n"
       ]
      },
      {
       "output_type": "stream",
       "stream": "stdout",
       "text": [
        "----\n",
        ">>  21\n",
        "addr :  17 Rue du Fer a Moulin Paris 75005 FRANCE\n",
        "loc : "
       ]
      },
      {
       "output_type": "stream",
       "stream": "stdout",
       "text": [
        " Rue du Fer, La Flotte, La Rochelle, Charente-Maritime, Poitou-Charentes, France m\u00e9tropolitaine, 17630, France\n"
       ]
      },
      {
       "name": "stdout",
       "output_type": "stream",
       "stream": "stdout",
       "text": [
        "ok1 ?\n",
        "17 Rue du Fer a Moulin Paris\n"
       ]
      },
      {
       "output_type": "stream",
       "stream": "stdout",
       "text": [
        "addr :  17 Rue du Fer a Moulin Paris 75005 FRANCE\n",
        "loc : "
       ]
      },
      {
       "output_type": "stream",
       "stream": "stdout",
       "text": [
        " 17, Rue du Fer \u00e0 Moulin, Jardin des Plantes, 5e, Paris, \u00cele-de-France, France m\u00e9tropolitaine, 75005, France\n"
       ]
      },
      {
       "name": "stdout",
       "output_type": "stream",
       "stream": "stdout",
       "text": [
        "ok1 ?\n",
        "\n"
       ]
      },
      {
       "output_type": "stream",
       "stream": "stdout",
       "text": [
        "----\n",
        ">>  22\n",
        "addr :  NeuroSpin GIF/Yvette  91191 FRANCE\n",
        "loc : "
       ]
      },
      {
       "name": "stdout",
       "output_type": "stream",
       "stream": "stdout",
       "text": [
        "ok2 ?\n",
        "NeuroSpin\n"
       ]
      },
      {
       "output_type": "stream",
       "stream": "stdout",
       "text": [
        " addr :  NeuroSpin GIF/Yvette  91191 FRANCE\n",
        "loc : "
       ]
      },
      {
       "output_type": "stream",
       "stream": "stdout",
       "text": [
        " B\u00e2timent 145, D 306, Saint-Aubin, Palaiseau, Essonne, \u00cele-de-France, France m\u00e9tropolitaine, 91190, France\n"
       ]
      },
      {
       "name": "stdout",
       "output_type": "stream",
       "stream": "stdout",
       "text": [
        "ok1 ?\n",
        "\n"
       ]
      },
      {
       "output_type": "stream",
       "stream": "stdout",
       "text": [
        "----\n",
        ">>  23\n",
        "addr :  1 Avenue de la Terrasse Gif sur Yvette 91190 FRANCE\n",
        "loc : "
       ]
      },
      {
       "output_type": "stream",
       "stream": "stdout",
       "text": [
        " 1, Avenue de la Terrasse, Tourg\u00e9ville, Lisieux, Calvados, Basse-Normandie, France m\u00e9tropolitaine, 14800, France\n"
       ]
      },
      {
       "name": "stdout",
       "output_type": "stream",
       "stream": "stdout",
       "text": [
        "ok1 ?\n",
        "1 Avenue de la Terrasse Gif sur Yvette\n"
       ]
      },
      {
       "output_type": "stream",
       "stream": "stdout",
       "text": [
        "addr :  1 Avenue de la Terrasse Gif sur Yvette 91190 FRANCE\n",
        "loc : "
       ]
      },
      {
       "output_type": "stream",
       "stream": "stdout",
       "text": [
        " 10A D\u00e9l\u00e9gation, 1, Avenue de la Terrasse, L'Abbaye, Damiette, Gif-sur-Yvette, Palaiseau, Essonne, \u00cele-de-France, France m\u00e9tropolitaine, 91190, France\n"
       ]
      },
      {
       "name": "stdout",
       "output_type": "stream",
       "stream": "stdout",
       "text": [
        "ok1 ?\n",
        "\n"
       ]
      },
      {
       "output_type": "stream",
       "stream": "stdout",
       "text": [
        "----\n",
        ">>  24\n",
        "addr :  45 rue d'Ulm Paris 75005 FRANCE\n",
        "loc : "
       ]
      },
      {
       "output_type": "stream",
       "stream": "stdout",
       "text": [
        " 45, Rue d'Ulm, Val-de-Gr\u00e2ce, 5e, Paris, \u00cele-de-France, France m\u00e9tropolitaine, 75005, France\n"
       ]
      },
      {
       "name": "stdout",
       "output_type": "stream",
       "stream": "stdout",
       "text": [
        "ok1 ?\n",
        "\n"
       ]
      },
      {
       "output_type": "stream",
       "stream": "stdout",
       "text": [
        "----\n",
        ">>  25\n",
        "addr :  Institut Pasteur 25 rue Docteur Roux- Batiment Metchnikoff Paris 75724 FRANCE\n",
        "loc : "
       ]
      },
      {
       "name": "stdout",
       "output_type": "stream",
       "stream": "stdout",
       "text": [
        "ok2 ?\n",
        "Institut Pasteur\n"
       ]
      },
      {
       "output_type": "stream",
       "stream": "stdout",
       "text": [
        " addr :  Institut Pasteur 25 rue Docteur Roux- Batiment Metchnikoff Paris 75724 FRANCE\n",
        "loc : "
       ]
      },
      {
       "output_type": "stream",
       "stream": "stdout",
       "text": [
        " Institut Pasteur, Rue du Docteur Roux, Necker, 15e, Paris, \u00cele-de-France, France m\u00e9tropolitaine, 75015, France\n"
       ]
      },
      {
       "name": "stdout",
       "output_type": "stream",
       "stream": "stdout",
       "text": [
        "ok1 ?\n",
        "\n"
       ]
      },
      {
       "output_type": "stream",
       "stream": "stdout",
       "text": [
        "----\n",
        ">>  28\n",
        "addr :   5 rue Henri Desbrueres EVRY  91030 FRANCE\n",
        "loc : "
       ]
      },
      {
       "output_type": "stream",
       "stream": "stdout",
       "text": [
        " Rue Henri Desbru\u00e8res, Corbeil-Essonnes, \u00c9vry, Essonne, \u00cele-de-France, France m\u00e9tropolitaine, 91100, France\n"
       ]
      },
      {
       "name": "stdout",
       "output_type": "stream",
       "stream": "stdout",
       "text": [
        "ok1 ?\n",
        "5, rue Henri Desbrueres EVRY\n"
       ]
      },
      {
       "output_type": "stream",
       "stream": "stdout",
       "text": [
        "addr :   5 rue Henri Desbrueres EVRY  91030 FRANCE\n",
        "loc : "
       ]
      },
      {
       "output_type": "stream",
       "stream": "stdout",
       "text": [
        " Rue Henri Desbru\u00e8res, Corbeil-Essonnes, \u00c9vry, Essonne, \u00cele-de-France, France m\u00e9tropolitaine, 91100, France\n"
       ]
      },
      {
       "name": "stdout",
       "output_type": "stream",
       "stream": "stdout",
       "text": [
        "ok1 ?\n",
        "\n"
       ]
      },
      {
       "output_type": "stream",
       "stream": "stdout",
       "text": [
        "----\n",
        ">>  29\n",
        "addr :   47 Bld de l'Hopital Paris  13 75651 FRANCE\n",
        "loc : "
       ]
      },
      {
       "name": "stdout",
       "output_type": "stream",
       "stream": "stdout",
       "text": [
        "ok2 ?\n",
        "47 boulevard de l'hopital paris\n"
       ]
      },
      {
       "output_type": "stream",
       "stream": "stdout",
       "text": [
        " addr :   47 Bld de l'Hopital Paris  13 75651 FRANCE\n",
        "loc : "
       ]
      },
      {
       "output_type": "stream",
       "stream": "stdout",
       "text": [
        " 47, Boulevard de l'H\u00f4pital, Salp\u00eatri\u00e8re, 13e, Paris, \u00cele-de-France, France m\u00e9tropolitaine, 75013, France\n"
       ]
      },
      {
       "name": "stdout",
       "output_type": "stream",
       "stream": "stdout",
       "text": [
        "ok1 ?\n",
        "\n"
       ]
      },
      {
       "output_type": "stream",
       "stream": "stdout",
       "text": [
        "----\n",
        ">>  30\n",
        "addr :  25, rue du Dr. Roux Paris  15 75015 FRANCE\n",
        "loc : "
       ]
      },
      {
       "output_type": "stream",
       "stream": "stdout",
       "text": [
        " rue du Dr Roux, Plateau, Dakar, 6288 11524, Senegal\n"
       ]
      },
      {
       "name": "stdout",
       "output_type": "stream",
       "stream": "stdout",
       "text": [
        "ok1 ?\n",
        "Institut pasteur\n"
       ]
      },
      {
       "output_type": "stream",
       "stream": "stdout",
       "text": [
        "addr :  25, rue du Dr. Roux Paris  15 75015 FRANCE\n",
        "loc : "
       ]
      },
      {
       "output_type": "stream",
       "stream": "stdout",
       "text": [
        " Institut Pasteur, Rue du Docteur Roux, Necker, 15e, Paris, \u00cele-de-France, France m\u00e9tropolitaine, 75015, France\n"
       ]
      },
      {
       "name": "stdout",
       "output_type": "stream",
       "stream": "stdout",
       "text": [
        "ok1 ?\n",
        "\n"
       ]
      },
      {
       "output_type": "stream",
       "stream": "stdout",
       "text": [
        "----\n",
        ">>  31\n",
        "addr :  Universite paris diderot condorcet Paris 75205 FRANCE\n",
        "loc : "
       ]
      },
      {
       "output_type": "stream",
       "stream": "stdout",
       "text": [
        " Condorcet (Universit\u00e9 Paris Diderot), Quai Panhard et Levassor, Gare, 13e, Paris, \u00cele-de-France, France m\u00e9tropolitaine, 75013, France\n"
       ]
      },
      {
       "name": "stdout",
       "output_type": "stream",
       "stream": "stdout",
       "text": [
        "ok1 ?\n",
        "\n"
       ]
      },
      {
       "output_type": "stream",
       "stream": "stdout",
       "text": [
        "----\n",
        ">>  32\n",
        "addr :  45, rue des Saints-Peres Paris 75006 FRANCE\n",
        "loc : "
       ]
      },
      {
       "output_type": "stream",
       "stream": "stdout",
       "text": [
        " 45, Rue des Saints-P\u00e8res, Saint-Germain-des-Pr\u00e9s, Paris, \u00cele-de-France, France m\u00e9tropolitaine, 75006, France\n"
       ]
      },
      {
       "name": "stdout",
       "output_type": "stream",
       "stream": "stdout",
       "text": [
        "ok1 ?\n",
        "\n"
       ]
      },
      {
       "output_type": "stream",
       "stream": "stdout",
       "text": [
        "----\n",
        ">>  33\n",
        "addr :  Am Fassberg, 17 Goettingen 37077 GERMANY\n",
        "loc : "
       ]
      },
      {
       "output_type": "stream",
       "stream": "stdout",
       "text": [
        " Max-Planck-Institut f\u00fcr Dynamik und Selbstorganisation (MPI-DS), 17, Am Fa\u00dfberg, Nikolausberg, G\u00f6ttingen, Landkreis G\u00f6ttingen, Niedersachsen, 37077, Deutschland, Europe\n"
       ]
      },
      {
       "name": "stdout",
       "output_type": "stream",
       "stream": "stdout",
       "text": [
        "ok1 ?\n",
        "\n"
       ]
      },
      {
       "output_type": "stream",
       "stream": "stdout",
       "text": [
        "----\n",
        ">>  34\n",
        "addr :  Rocquencourt BP 105 INRIA Domaine de Voluceau Rocquencourt 78153 FRANCE\n",
        "loc : "
       ]
      },
      {
       "name": "stdout",
       "output_type": "stream",
       "stream": "stdout",
       "text": [
        "ok2 ?\n",
        "INRIA Rocquencourt\n"
       ]
      },
      {
       "output_type": "stream",
       "stream": "stdout",
       "text": [
        " addr :  Rocquencourt BP 105 INRIA Domaine de Voluceau Rocquencourt 78153 FRANCE\n",
        "loc : "
       ]
      },
      {
       "output_type": "stream",
       "stream": "stdout",
       "text": [
        " INRIA Rocquencourt, Rocquencourt, Versailles, Yvelines, \u00cele-de-France, France m\u00e9tropolitaine, 78150, France\n"
       ]
      },
      {
       "name": "stdout",
       "output_type": "stream",
       "stream": "stdout",
       "text": [
        "ok1 ?\n",
        "\n"
       ]
      },
      {
       "output_type": "stream",
       "stream": "stdout",
       "text": [
        "----\n",
        ">>  35\n",
        "addr :  26 rue d'Ulm PARIS  05 75005 FRANCE\n",
        "loc : "
       ]
      },
      {
       "name": "stdout",
       "output_type": "stream",
       "stream": "stdout",
       "text": [
        "ok2 ?\n",
        "26 rue d'Ulm PARIS\n"
       ]
      },
      {
       "output_type": "stream",
       "stream": "stdout",
       "text": [
        " addr :  26 rue d'Ulm PARIS  05 75005 FRANCE\n",
        "loc : "
       ]
      },
      {
       "output_type": "stream",
       "stream": "stdout",
       "text": [
        " Rue d'Ulm, 5e Arrondissement, 5e, Paris, \u00cele-de-France, France m\u00e9tropolitaine, 75005, France\n"
       ]
      },
      {
       "name": "stdout",
       "output_type": "stream",
       "stream": "stdout",
       "text": [
        "ok1 ?\n",
        "\n"
       ]
      },
      {
       "output_type": "stream",
       "stream": "stdout",
       "text": [
        "----\n",
        ">>  36\n",
        "addr :  61 rue Buffon Batiment 139 Paris 75005 FRANCE\n",
        "loc : "
       ]
      },
      {
       "name": "stdout",
       "output_type": "stream",
       "stream": "stdout",
       "text": [
        "ok2 ?\n",
        "61 rue Buffon Paris\n"
       ]
      },
      {
       "output_type": "stream",
       "stream": "stdout",
       "text": [
        " addr :  61 rue Buffon Batiment 139 Paris 75005 FRANCE\n",
        "loc : "
       ]
      },
      {
       "output_type": "stream",
       "stream": "stdout",
       "text": [
        " 61, Rue Buffon, Jardin des Plantes, 5e, Paris, \u00cele-de-France, France m\u00e9tropolitaine, 75005, France\n"
       ]
      },
      {
       "name": "stdout",
       "output_type": "stream",
       "stream": "stdout",
       "text": [
        "ok1 ?\n",
        "\n"
       ]
      },
      {
       "output_type": "stream",
       "stream": "stdout",
       "text": [
        "----\n",
        ">>  38\n",
        "addr :  30, rue du Chateau des Rentiers UFR de Linguistique Paris 75013 FRANCE\n"
       ]
      },
      {
       "name": "stdout",
       "output_type": "stream",
       "stream": "stdout",
       "text": [
        "ok2 ?\n",
        "30, rue du Chateau des Rentiers Paris\n"
       ]
      },
      {
       "output_type": "stream",
       "stream": "stdout",
       "text": [
        "addr :  30, rue du Chateau des Rentiers UFR de Linguistique Paris 75013 FRANCE\n",
        "loc : "
       ]
      },
      {
       "output_type": "stream",
       "stream": "stdout",
       "text": [
        " 30, Rue du Ch\u00e2teau des Rentiers, Gare, 13e, Paris, \u00cele-de-France, France m\u00e9tropolitaine, 75013, France\n"
       ]
      },
      {
       "name": "stdout",
       "output_type": "stream",
       "stream": "stdout",
       "text": [
        "ok1 ?\n",
        "\n"
       ]
      },
      {
       "output_type": "stream",
       "stream": "stdout",
       "text": [
        "----\n",
        ">>  39\n",
        "addr :  29 rue d'Ulm Paris 75005 FRANCE\n",
        "loc : "
       ]
      },
      {
       "output_type": "stream",
       "stream": "stdout",
       "text": [
        " 29, Rue d'Ulm, Val-de-Gr\u00e2ce, 5e, Paris, \u00cele-de-France, France m\u00e9tropolitaine, 75005, France\n"
       ]
      },
      {
       "name": "stdout",
       "output_type": "stream",
       "stream": "stdout",
       "text": [
        "ok1 ?\n",
        "\n"
       ]
      },
      {
       "output_type": "stream",
       "stream": "stdout",
       "text": [
        "----\n",
        ">>  40\n",
        "addr :  7 quai St.-Bernard Universite Pierre et Marie Curie (Paris 6) Bat. A - 7eme Etage - Case 237 Paris 75005 FRANCE\n",
        "loc : "
       ]
      },
      {
       "name": "stdout",
       "output_type": "stream",
       "stream": "stdout",
       "text": [
        "ok2 ?\n",
        "7 quai Saint bernard Paris\n"
       ]
      },
      {
       "output_type": "stream",
       "stream": "stdout",
       "text": [
        " addr :  7 quai St.-Bernard Universite Pierre et Marie Curie (Paris 6) Bat. A - 7eme Etage - Case 237 Paris 75005 FRANCE\n",
        "loc : "
       ]
      },
      {
       "output_type": "stream",
       "stream": "stdout",
       "text": [
        " Quai Saint-Bernard, Jardin des Plantes, 5e, Paris, \u00cele-de-France, France m\u00e9tropolitaine, 75005, France\n"
       ]
      },
      {
       "name": "stdout",
       "output_type": "stream",
       "stream": "stdout",
       "text": [
        "ok1 ?\n",
        "\n"
       ]
      },
      {
       "output_type": "stream",
       "stream": "stdout",
       "text": [
        "----\n",
        ">>  42\n",
        "addr :  4, place Jussieu Bo\ufffdte 100 PARIS  05 75005 FRANCE\n"
       ]
      },
      {
       "name": "stdout",
       "output_type": "stream",
       "stream": "stdout",
       "text": [
        "ok2 ?\n",
        "4, place Jussieu Paris\n"
       ]
      },
      {
       "output_type": "stream",
       "stream": "stdout",
       "text": [
        "addr :  4, place Jussieu Bo\ufffdte 100 PARIS  05 75005 FRANCE\n",
        "loc : "
       ]
      },
      {
       "output_type": "stream",
       "stream": "stdout",
       "text": [
        " 4, Place Jussieu, St-Victor, 5e, Paris, \u00cele-de-France, France m\u00e9tropolitaine, 75005, France\n"
       ]
      },
      {
       "name": "stdout",
       "output_type": "stream",
       "stream": "stdout",
       "text": [
        "ok1 ?\n",
        "\n"
       ]
      },
      {
       "output_type": "stream",
       "stream": "stdout",
       "text": [
        "----\n",
        ">>  43\n",
        "addr :  79360 Villiers-en-Bois Villiers-en-Bois 79360 FRANCE\n",
        "loc : "
       ]
      },
      {
       "name": "stdout",
       "output_type": "stream",
       "stream": "stdout",
       "text": [
        "ok2 ?\n",
        "Centre d'Etudes Biologiques de Chize\n"
       ]
      },
      {
       "output_type": "stream",
       "stream": "stdout",
       "text": [
        " addr :  79360 Villiers-en-Bois Villiers-en-Bois 79360 FRANCE\n",
        "loc : "
       ]
      },
      {
       "name": "stdout",
       "output_type": "stream",
       "stream": "stdout",
       "text": [
        "ok2 ?\n",
        "79360 Villiers-en-Bois\n"
       ]
      },
      {
       "output_type": "stream",
       "stream": "stdout",
       "text": [
        " addr :  79360 Villiers-en-Bois Villiers-en-Bois 79360 FRANCE\n",
        "loc : "
       ]
      },
      {
       "output_type": "stream",
       "stream": "stdout",
       "text": [
        " Villiers-le-Bois, Troyes, Aube, Champagne-Ardenne, France m\u00e9tropolitaine, 10210, France\n"
       ]
      },
      {
       "name": "stdout",
       "output_type": "stream",
       "stream": "stdout",
       "text": [
        "ok1 ?\n",
        "Villiers-en-Bois 79360\n"
       ]
      },
      {
       "output_type": "stream",
       "stream": "stdout",
       "text": [
        "addr :  79360 Villiers-en-Bois Villiers-en-Bois 79360 FRANCE\n",
        "loc : "
       ]
      },
      {
       "output_type": "stream",
       "stream": "stdout",
       "text": [
        " Villiers-le-Bois, Troyes, Aube, Champagne-Ardenne, France m\u00e9tropolitaine, 10210, France\n"
       ]
      },
      {
       "name": "stdout",
       "output_type": "stream",
       "stream": "stdout",
       "text": [
        "ok1 ?\n",
        "Chiz\u00e9-La Rochelle\n"
       ]
      },
      {
       "output_type": "stream",
       "stream": "stdout",
       "text": [
        "addr :  79360 Villiers-en-Bois Villiers-en-Bois 79360 FRANCE\n",
        "loc : "
       ]
      },
      {
       "name": "stdout",
       "output_type": "stream",
       "stream": "stdout",
       "text": [
        "ok2 ?\n",
        "79360\n"
       ]
      },
      {
       "output_type": "stream",
       "stream": "stdout",
       "text": [
        " addr :  79360 Villiers-en-Bois Villiers-en-Bois 79360 FRANCE\n"
       ]
      },
      {
       "name": "stdout",
       "output_type": "stream",
       "stream": "stdout",
       "text": [
        "ok2 ?\n",
        "Chiz\u00e9-La Rochelle\n"
       ]
      },
      {
       "output_type": "stream",
       "stream": "stdout",
       "text": [
        "addr :  79360 Villiers-en-Bois Villiers-en-Bois 79360 FRANCE\n",
        "loc : "
       ]
      },
      {
       "name": "stdout",
       "output_type": "stream",
       "stream": "stdout",
       "text": [
        "ok2 ?\n",
        "Chiz\u00e9\n"
       ]
      },
      {
       "output_type": "stream",
       "stream": "stdout",
       "text": [
        " addr :  79360 Villiers-en-Bois Villiers-en-Bois 79360 FRANCE\n",
        "loc : "
       ]
      },
      {
       "output_type": "stream",
       "stream": "stdout",
       "text": [
        " Chiz\u00e9, Niort, Deux-S\u00e8vres, Poitou-Charentes, France m\u00e9tropolitaine, 79170, France\n"
       ]
      },
      {
       "name": "stdout",
       "output_type": "stream",
       "stream": "stdout",
       "text": [
        "ok1 ?\n",
        "Villiers-en-Bois\n"
       ]
      },
      {
       "output_type": "stream",
       "stream": "stdout",
       "text": [
        "addr :  79360 Villiers-en-Bois Villiers-en-Bois 79360 FRANCE\n",
        "loc : "
       ]
      },
      {
       "output_type": "stream",
       "stream": "stdout",
       "text": [
        " Villiers-le-Bois, Troyes, Aube, Champagne-Ardenne, France m\u00e9tropolitaine, 10210, France\n"
       ]
      },
      {
       "name": "stdout",
       "output_type": "stream",
       "stream": "stdout",
       "text": [
        "ok1 ?\n",
        "cebc\n"
       ]
      },
      {
       "output_type": "stream",
       "stream": "stdout",
       "text": [
        "addr :  79360 Villiers-en-Bois Villiers-en-Bois 79360 FRANCE\n",
        "loc : "
       ]
      },
      {
       "name": "stdout",
       "output_type": "stream",
       "stream": "stdout",
       "text": [
        "ok2 ?\n",
        "Chiz\u00e9, CEBC\n"
       ]
      },
      {
       "output_type": "stream",
       "stream": "stdout",
       "text": [
        " addr :  79360 Villiers-en-Bois Villiers-en-Bois 79360 FRANCE\n",
        "loc : "
       ]
      },
      {
       "name": "stdout",
       "output_type": "stream",
       "stream": "stdout",
       "text": [
        "ok2 ?\n",
        "CEBC chiz\u00e9\n"
       ]
      },
      {
       "output_type": "stream",
       "stream": "stdout",
       "text": [
        " addr :  79360 Villiers-en-Bois Villiers-en-Bois 79360 FRANCE\n",
        "loc : "
       ]
      },
      {
       "name": "stdout",
       "output_type": "stream",
       "stream": "stdout",
       "text": [
        "ok2 ?\n",
        "Villiers-en-Bois chiz\u00e9\n"
       ]
      },
      {
       "output_type": "stream",
       "stream": "stdout",
       "text": [
        " addr :  79360 Villiers-en-Bois Villiers-en-Bois 79360 FRANCE\n",
        "loc : "
       ]
      },
      {
       "output_type": "stream",
       "stream": "stdout",
       "text": [
        " Zoorama europ\u00e9en de Chiz\u00e9, Route du Ch\u00eane \u00e0 Margot, Villiers-en-Bois, Niort, Deux-S\u00e8vres, Poitou-Charentes, France m\u00e9tropolitaine, 79360, France\n"
       ]
      },
      {
       "name": "stdout",
       "output_type": "stream",
       "stream": "stdout",
       "text": [
        "ok1 ?\n",
        "\n"
       ]
      },
      {
       "output_type": "stream",
       "stream": "stdout",
       "text": [
        "----\n",
        ">>  44\n",
        "addr :  1 place du parvis notre dame Centre du sommeil et de la vigilance PARIS 75004 FRANCE\n",
        "loc : "
       ]
      },
      {
       "name": "stdout",
       "output_type": "stream",
       "stream": "stdout",
       "text": [
        "ok2 ?\n",
        "1 place du parvis notre dame paris\n"
       ]
      },
      {
       "output_type": "stream",
       "stream": "stdout",
       "text": [
        " addr :  1 place du parvis notre dame Centre du sommeil et de la vigilance PARIS 75004 FRANCE\n",
        "loc : "
       ]
      },
      {
       "name": "stdout",
       "output_type": "stream",
       "stream": "stdout",
       "text": [
        "ok2 ?\n",
        "1 place du parvis notre dame\n"
       ]
      },
      {
       "output_type": "stream",
       "stream": "stdout",
       "text": [
        " addr :  1 place du parvis notre dame Centre du sommeil et de la vigilance PARIS 75004 FRANCE\n",
        "loc : "
       ]
      },
      {
       "output_type": "stream",
       "stream": "stdout",
       "text": [
        " Place du Parvis Notre-Dame, Centre Ancien, Caen, Calvados, Basse-Normandie, France m\u00e9tropolitaine, 14000, France\n"
       ]
      },
      {
       "name": "stdout",
       "output_type": "stream",
       "stream": "stdout",
       "text": [
        "ok1 ?\n",
        "place du parvis notre dame Paris\n"
       ]
      },
      {
       "output_type": "stream",
       "stream": "stdout",
       "text": [
        "addr :  1 place du parvis notre dame Centre du sommeil et de la vigilance PARIS 75004 FRANCE\n",
        "loc : "
       ]
      },
      {
       "name": "stdout",
       "output_type": "stream",
       "stream": "stdout",
       "text": [
        "ok2 ?\n",
        "1 place jean paul 2 paris\n"
       ]
      },
      {
       "output_type": "stream",
       "stream": "stdout",
       "text": [
        " addr :  1 place du parvis notre dame Centre du sommeil et de la vigilance PARIS 75004 FRANCE\n",
        "loc : "
       ]
      },
      {
       "output_type": "stream",
       "stream": "stdout",
       "text": [
        " Place Jean Paul II, \u00celes, 4e, Paris, \u00cele-de-France, France m\u00e9tropolitaine, 75004, France\n"
       ]
      },
      {
       "name": "stdout",
       "output_type": "stream",
       "stream": "stdout",
       "text": [
        "ok1 ?\n",
        "\n"
       ]
      },
      {
       "output_type": "stream",
       "stream": "stdout",
       "text": [
        "----\n",
        ">>  45\n",
        "addr :  BASE AERIENNE 217, BP 73 BRETIGNY SUR ORGE  91223 FRANCE\n",
        "loc : "
       ]
      },
      {
       "name": "stdout",
       "output_type": "stream",
       "stream": "stdout",
       "text": [
        "ok2 ?\n",
        "BASE AERIENNE BRETIGNY SUR ORGE\n"
       ]
      },
      {
       "output_type": "stream",
       "stream": "stdout",
       "text": [
        " addr :  BASE AERIENNE 217, BP 73 BRETIGNY SUR ORGE  91223 FRANCE\n",
        "loc : "
       ]
      },
      {
       "name": "stdout",
       "output_type": "stream",
       "stream": "stdout",
       "text": [
        "ok2 ?\n",
        "BRETIGNY SUR ORGE\n"
       ]
      },
      {
       "output_type": "stream",
       "stream": "stdout",
       "text": [
        " addr :  BASE AERIENNE 217, BP 73 BRETIGNY SUR ORGE  91223 FRANCE\n",
        "loc : "
       ]
      },
      {
       "output_type": "stream",
       "stream": "stdout",
       "text": [
        " Br\u00e9tigny-sur-Orge, Palaiseau, Essonne, \u00cele-de-France, France m\u00e9tropolitaine, 91220, France\n"
       ]
      },
      {
       "name": "stdout",
       "output_type": "stream",
       "stream": "stdout",
       "text": [
        "ok1 ?\n",
        "\n"
       ]
      },
      {
       "output_type": "stream",
       "stream": "stdout",
       "text": [
        "----\n",
        ">>  46\n",
        "addr :  Buffon (Universite Paris Diderot) Batiment Buffon 242B Paris 75205 FRANCE\n",
        "loc : "
       ]
      },
      {
       "output_type": "stream",
       "stream": "stdout",
       "text": [
        " Coll\u00e8ge des Bernardins, Rue de Poissy, St-Victor, 5e, Paris, \u00cele-de-France, France m\u00e9tropolitaine, 75005, France\n"
       ]
      },
      {
       "name": "stdout",
       "output_type": "stream",
       "stream": "stdout",
       "text": [
        "ok1 ?\n",
        "Buffon (Universite Paris Diderot)\n"
       ]
      },
      {
       "output_type": "stream",
       "stream": "stdout",
       "text": [
        "addr :  Buffon (Universite Paris Diderot) Batiment Buffon 242B Paris 75205 FRANCE\n",
        "loc : "
       ]
      },
      {
       "output_type": "stream",
       "stream": "stdout",
       "text": [
        " Buffon (Universit\u00e9 Paris Diderot), Rue Alice Domont et L\u00e9onie Duquet, Gare, 13e, Paris, \u00cele-de-France, France m\u00e9tropolitaine, 75013, France\n"
       ]
      },
      {
       "name": "stdout",
       "output_type": "stream",
       "stream": "stdout",
       "text": [
        "ok1 ?\n",
        "\n"
       ]
      },
      {
       "output_type": "stream",
       "stream": "stdout",
       "text": [
        "----\n",
        ">>  47\n",
        "addr :  Rehovot, Israel  Wolfson, Rm. 607 Department of Molecular Cell Biology & Department of Physics of Complex Systems  Weizmann Institute of Science Rehovot 76100 ISRAEL\n",
        "loc : "
       ]
      },
      {
       "name": "stdout",
       "output_type": "stream",
       "stream": "stdout",
       "text": [
        "ok2 ?\n",
        "Weizmann Institute of Science\n"
       ]
      },
      {
       "output_type": "stream",
       "stream": "stdout",
       "text": [
        " addr :  Rehovot, Israel  Wolfson, Rm. 607 Department of Molecular Cell Biology & Department of Physics of Complex Systems  Weizmann Institute of Science Rehovot 76100 ISRAEL\n",
        "loc : "
       ]
      },
      {
       "output_type": "stream",
       "stream": "stdout",
       "text": [
        " \u05de\u05db\u05d5\u05df \u05d5\u05d9\u05e6\u05de\u05df \u05dc\u05de\u05d3\u05e2, \u05e9\u05d3\u05e8\u05ea \u05de\u05e8\u05db\u05d5\u05e1 \u05d6\u05d9\u05d5, \u05e0\u05d5\u05d5\u05d4 \u05e2\u05de\u05d9\u05ea, \u05e8\u05d7\u05d5\u05d1\u05d5\u05ea, \u05de\u05d7\u05d5\u05d6 \u05d4\u05de\u05e8\u05db\u05d6, 76571, \u05de\u05d3\u05d9\u05e0\u05ea \u05d9\u05e9\u05e8\u05d0\u05dc\n"
       ]
      },
      {
       "name": "stdout",
       "output_type": "stream",
       "stream": "stdout",
       "text": [
        "ok1 ?\n",
        "\n"
       ]
      },
      {
       "output_type": "stream",
       "stream": "stdout",
       "text": [
        "----\n",
        ">>  48\n",
        "addr :  156, rue de de Vaugirard Site Necker U1001 Faculte 2eme etage Paris 75015 FRANCE\n",
        "loc : "
       ]
      },
      {
       "name": "stdout",
       "output_type": "stream",
       "stream": "stdout",
       "text": [
        "ok2 ?\n",
        "156, rue de de Vaugirard\n"
       ]
      },
      {
       "output_type": "stream",
       "stream": "stdout",
       "text": [
        " addr :  156, rue de de Vaugirard Site Necker U1001 Faculte 2eme etage Paris 75015 FRANCE\n",
        "loc : "
       ]
      },
      {
       "name": "stdout",
       "output_type": "stream",
       "stream": "stdout",
       "text": [
        "ok2 ?\n",
        "156, rue de de Vaugirard Paris\n"
       ]
      },
      {
       "output_type": "stream",
       "stream": "stdout",
       "text": [
        " addr :  156, rue de de Vaugirard Site Necker U1001 Faculte 2eme etage Paris 75015 FRANCE\n",
        "loc : "
       ]
      },
      {
       "name": "stdout",
       "output_type": "stream",
       "stream": "stdout",
       "text": [
        "ok2 ?\n",
        "156, rue de Vaugirard Paris\n"
       ]
      },
      {
       "output_type": "stream",
       "stream": "stdout",
       "text": [
        " addr :  156, rue de de Vaugirard Site Necker U1001 Faculte 2eme etage Paris 75015 FRANCE\n",
        "loc : "
       ]
      },
      {
       "output_type": "stream",
       "stream": "stdout",
       "text": [
        " 156, Rue de Vaugirard, St-Lambert, 15e, Paris, \u00cele-de-France, France m\u00e9tropolitaine, 75015, France\n"
       ]
      },
      {
       "name": "stdout",
       "output_type": "stream",
       "stream": "stdout",
       "text": [
        "ok1 ?\n",
        "\n"
       ]
      },
      {
       "output_type": "stream",
       "stream": "stdout",
       "text": [
        "----\n",
        ">>  49\n",
        "addr :  Ferme du Moulon Gif-sur-Yvette 91190 FRANCE\n",
        "loc : "
       ]
      },
      {
       "name": "stdout",
       "output_type": "stream",
       "stream": "stdout",
       "text": [
        "ok2 ?\n",
        "Ferme du Moulon\n"
       ]
      },
      {
       "output_type": "stream",
       "stream": "stdout",
       "text": [
        " addr :  Ferme du Moulon Gif-sur-Yvette 91190 FRANCE\n",
        "loc : "
       ]
      },
      {
       "output_type": "stream",
       "stream": "stdout",
       "text": [
        " Ferme du Moulon, Gif-sur-Yvette, Palaiseau, Essonne, \u00cele-de-France, France m\u00e9tropolitaine, 91190, France\n"
       ]
      },
      {
       "name": "stdout",
       "output_type": "stream",
       "stream": "stdout",
       "text": [
        "ok1 ?\n",
        "\n"
       ]
      },
      {
       "output_type": "stream",
       "stream": "stdout",
       "text": [
        "----\n",
        ">>  50\n",
        "addr :  45 rue des Saints Peres CENTRE UNIVERSITAIRE DES SAINTS PERES Paris 75270 FRANCE\n",
        "loc : "
       ]
      },
      {
       "output_type": "stream",
       "stream": "stdout",
       "text": [
        " 45, Rue des Saints-P\u00e8res, Saint-Germain-des-Pr\u00e9s, Paris, \u00cele-de-France, France m\u00e9tropolitaine, 75006, France\n"
       ]
      },
      {
       "name": "stdout",
       "output_type": "stream",
       "stream": "stdout",
       "text": [
        "ok1 ?\n",
        "\n"
       ]
      },
      {
       "output_type": "stream",
       "stream": "stdout",
       "text": [
        "----\n",
        ">>  51\n",
        "addr :  45 rue des Saints Peres 3rd Floor Paris 75270 FRANCE\n",
        "loc : "
       ]
      },
      {
       "output_type": "stream",
       "stream": "stdout",
       "text": [
        " 45, Rue des Saints-P\u00e8res, Saint-Germain-des-Pr\u00e9s, Paris, \u00cele-de-France, France m\u00e9tropolitaine, 75006, France\n"
       ]
      },
      {
       "name": "stdout",
       "output_type": "stream",
       "stream": "stdout",
       "text": [
        "ok1 ?\n",
        "\n"
       ]
      },
      {
       "output_type": "stream",
       "stream": "stdout",
       "text": [
        "----\n",
        ">>  52\n",
        "addr :  9 quai St. Bernard Paris 75005 FRANCE\n",
        "loc : "
       ]
      },
      {
       "output_type": "stream",
       "stream": "stdout",
       "text": [
        " Quai Saint-Bernard, St-Victor, 5e, Paris, \u00cele-de-France, France m\u00e9tropolitaine, 75005, France\n"
       ]
      },
      {
       "name": "stdout",
       "output_type": "stream",
       "stream": "stdout",
       "text": [
        "ok1 ?\n",
        "\n"
       ]
      },
      {
       "output_type": "stream",
       "stream": "stdout",
       "text": [
        "----\n",
        ">>  53\n",
        "addr :  Universite paris diderot condorcet Bat Condorcet Paris 75205 FRANCE\n",
        "loc : "
       ]
      },
      {
       "name": "stdout",
       "output_type": "stream",
       "stream": "stdout",
       "text": [
        "ok2 ?\n",
        "paris diderot condorcet\n"
       ]
      },
      {
       "output_type": "stream",
       "stream": "stdout",
       "text": [
        " addr :  Universite paris diderot condorcet Bat Condorcet Paris 75205 FRANCE\n",
        "loc : "
       ]
      },
      {
       "output_type": "stream",
       "stream": "stdout",
       "text": [
        " Condorcet (Universit\u00e9 Paris Diderot), Quai Panhard et Levassor, Gare, 13e, Paris, \u00cele-de-France, France m\u00e9tropolitaine, 75013, France\n"
       ]
      },
      {
       "name": "stdout",
       "output_type": "stream",
       "stream": "stdout",
       "text": [
        "ok1 ?\n",
        "\n"
       ]
      },
      {
       "output_type": "stream",
       "stream": "stdout",
       "text": [
        "----\n",
        ">>  54\n",
        "addr :  5 boulevard Descartes Cite Descartes Marne-la-Vallee  2 77454 FRANCE\n",
        "loc : "
       ]
      },
      {
       "output_type": "stream",
       "stream": "stdout",
       "text": [
        " Parking B\u00e2timent Copernic (UPEM), 5, Boulevard Descartes, Cit\u00e9 Descartes, Champs-sur-Marne, Torcy, Seine-et-Marne, \u00cele-de-France, France m\u00e9tropolitaine, 77420, France\n"
       ]
      },
      {
       "name": "stdout",
       "output_type": "stream",
       "stream": "stdout",
       "text": [
        "ok1 ?\n",
        "\n"
       ]
      },
      {
       "output_type": "stream",
       "stream": "stdout",
       "text": [
        "----\n",
        ">>  55\n",
        "addr :  175, rue du Chevaleret Paris 75013 FRANCE\n",
        "loc : "
       ]
      },
      {
       "output_type": "stream",
       "stream": "stdout",
       "text": [
        " 175, Rue du Chevaleret, Gare, 13e, Paris, \u00cele-de-France, France m\u00e9tropolitaine, 75013, France\n"
       ]
      },
      {
       "name": "stdout",
       "output_type": "stream",
       "stream": "stdout",
       "text": [
        "ok1 ?\n",
        "\n"
       ]
      },
      {
       "output_type": "stream",
       "stream": "stdout",
       "text": [
        "----\n",
        ">>  56\n",
        "addr :  10 rue Vauquelin Paris 75005 FRANCE\n",
        "loc : "
       ]
      },
      {
       "output_type": "stream",
       "stream": "stdout",
       "text": [
        " ESPCI, 10, Rue Vauquelin, Val-de-Gr\u00e2ce, 5e, Paris, \u00cele-de-France, France m\u00e9tropolitaine, 75005, France\n"
       ]
      },
      {
       "name": "stdout",
       "output_type": "stream",
       "stream": "stdout",
       "text": [
        "ok1 ?\n",
        "\n"
       ]
      },
      {
       "output_type": "stream",
       "stream": "stdout",
       "text": [
        "----\n",
        ">>  57\n",
        "addr :  Weizmann Institute of Science Department of Molecular Genetics, Rehovot 76100 ISRAEL\n",
        "loc : "
       ]
      },
      {
       "name": "stdout",
       "output_type": "stream",
       "stream": "stdout",
       "text": [
        "ok2 ?\n",
        "Weizmann Institute of Science\n"
       ]
      },
      {
       "output_type": "stream",
       "stream": "stdout",
       "text": [
        " addr :  Weizmann Institute of Science Department of Molecular Genetics, Rehovot 76100 ISRAEL\n",
        "loc : "
       ]
      },
      {
       "output_type": "stream",
       "stream": "stdout",
       "text": [
        " \u05de\u05db\u05d5\u05df \u05d5\u05d9\u05e6\u05de\u05df \u05dc\u05de\u05d3\u05e2, \u05e9\u05d3\u05e8\u05ea \u05de\u05e8\u05db\u05d5\u05e1 \u05d6\u05d9\u05d5, \u05e0\u05d5\u05d5\u05d4 \u05e2\u05de\u05d9\u05ea, \u05e8\u05d7\u05d5\u05d1\u05d5\u05ea, \u05de\u05d7\u05d5\u05d6 \u05d4\u05de\u05e8\u05db\u05d6, 76571, \u05de\u05d3\u05d9\u05e0\u05ea \u05d9\u05e9\u05e8\u05d0\u05dc\n"
       ]
      },
      {
       "name": "stdout",
       "output_type": "stream",
       "stream": "stdout",
       "text": [
        "ok1 ?\n",
        "\n"
       ]
      },
      {
       "output_type": "stream",
       "stream": "stdout",
       "text": [
        "----\n",
        ">>  58\n",
        "addr :  25 rue du Dr Roux Paris 75015 FRANCE\n",
        "loc : "
       ]
      },
      {
       "output_type": "stream",
       "stream": "stdout",
       "text": [
        " rue du Dr Roux, Plateau, Dakar, 6288 11524, Senegal\n"
       ]
      },
      {
       "name": "stdout",
       "output_type": "stream",
       "stream": "stdout",
       "text": [
        "ok1 ?\n",
        "25 rue du Docteur Roux Paris\n"
       ]
      },
      {
       "output_type": "stream",
       "stream": "stdout",
       "text": [
        "addr :  25 rue du Dr Roux Paris 75015 FRANCE\n",
        "loc : "
       ]
      },
      {
       "output_type": "stream",
       "stream": "stdout",
       "text": [
        " 25, Rue du Docteur Roux, Necker, 15e, Paris, \u00cele-de-France, France m\u00e9tropolitaine, 75015, France\n"
       ]
      },
      {
       "name": "stdout",
       "output_type": "stream",
       "stream": "stdout",
       "text": [
        "ok1 ?\n",
        "\n"
       ]
      },
      {
       "output_type": "stream",
       "stream": "stdout",
       "text": [
        "----\n",
        ">>  59\n",
        "addr :  2 ter rue d'Alesia PARIS 75014 FRANCE\n",
        "loc : "
       ]
      },
      {
       "name": "stdout",
       "output_type": "stream",
       "stream": "stdout",
       "text": [
        "ok2 ?\n",
        "2 ter rue d'Alesia PARIS\n"
       ]
      },
      {
       "output_type": "stream",
       "stream": "stdout",
       "text": [
        " addr :  2 ter rue d'Alesia PARIS 75014 FRANCE\n",
        "loc : "
       ]
      },
      {
       "name": "stdout",
       "output_type": "stream",
       "stream": "stdout",
       "text": [
        "ok2 ?\n",
        "2 rue d'Alesia PARIS\n"
       ]
      },
      {
       "output_type": "stream",
       "stream": "stdout",
       "text": [
        " addr :  2 ter rue d'Alesia PARIS 75014 FRANCE\n",
        "loc : "
       ]
      },
      {
       "output_type": "stream",
       "stream": "stdout",
       "text": [
        " 2, Rue d'Al\u00e9sia, Montsouris, Parc-Montsouris, 14e, Paris, \u00cele-de-France, France m\u00e9tropolitaine, 75014, France\n"
       ]
      },
      {
       "name": "stdout",
       "output_type": "stream",
       "stream": "stdout",
       "text": [
        "ok1 ?\n",
        "\n"
       ]
      },
      {
       "output_type": "stream",
       "stream": "stdout",
       "text": [
        "----\n",
        ">>  60\n",
        "addr :  45 rue des Saints Peres CNRS UMR8118 Paris 75006 FRANCE\n",
        "loc : "
       ]
      },
      {
       "output_type": "stream",
       "stream": "stdout",
       "text": [
        " 45, Rue des Saints-P\u00e8res, Saint-Germain-des-Pr\u00e9s, Paris, \u00cele-de-France, France m\u00e9tropolitaine, 75006, France\n"
       ]
      },
      {
       "name": "stdout",
       "output_type": "stream",
       "stream": "stdout",
       "text": [
        "ok1 ?\n",
        "\n"
       ]
      },
      {
       "output_type": "stream",
       "stream": "stdout",
       "text": [
        "----\n",
        ">>  61\n",
        "addr :  11 rue Pierre-et-Marie-Curie Paris 75005 FRANCE\n",
        "loc : "
       ]
      },
      {
       "output_type": "stream",
       "stream": "stdout",
       "text": [
        " 11, Rue Pierre et Marie Curie, Val-de-Gr\u00e2ce, 5e, Paris, \u00cele-de-France, France m\u00e9tropolitaine, 75005, France\n"
       ]
      },
      {
       "name": "stdout",
       "output_type": "stream",
       "stream": "stdout",
       "text": [
        "ok1 ?\n",
        "\n"
       ]
      },
      {
       "output_type": "stream",
       "stream": "stdout",
       "text": [
        "----\n",
        ">>  62\n",
        "addr :  26 rue d'Ulm Paris  05 75248 FRANCE\n",
        "loc : "
       ]
      },
      {
       "name": "stdout",
       "output_type": "stream",
       "stream": "stdout",
       "text": [
        "ok2 ?\n",
        "26, rue d'Ulm Paris\n"
       ]
      },
      {
       "output_type": "stream",
       "stream": "stdout",
       "text": [
        " addr :  26 rue d'Ulm Paris  05 75248 FRANCE\n",
        "loc : "
       ]
      },
      {
       "output_type": "stream",
       "stream": "stdout",
       "text": [
        " Rue d'Ulm, 5e Arrondissement, 5e, Paris, \u00cele-de-France, France m\u00e9tropolitaine, 75005, France\n"
       ]
      },
      {
       "name": "stdout",
       "output_type": "stream",
       "stream": "stdout",
       "text": [
        "ok1 ?\n",
        "\n"
       ]
      },
      {
       "output_type": "stream",
       "stream": "stdout",
       "text": [
        "----\n",
        ">>  63\n",
        "addr :  Universite paris diderot condorcet Universite Paris Diderot Paris 7 Paris 75205 FRANCE\n",
        "loc : "
       ]
      },
      {
       "output_type": "stream",
       "stream": "stdout",
       "text": [
        " Tour Voltaire (Universit\u00e9 Paris Diderot), Rue Marguerite Duras, Gare, 13e, Paris, \u00cele-de-France, France m\u00e9tropolitaine, 75013, France\n"
       ]
      },
      {
       "name": "stdout",
       "output_type": "stream",
       "stream": "stdout",
       "text": [
        "ok1 ?\n",
        "paris diderot condorcet\n"
       ]
      },
      {
       "output_type": "stream",
       "stream": "stdout",
       "text": [
        "addr :  Universite paris diderot condorcet Universite Paris Diderot Paris 7 Paris 75205 FRANCE\n",
        "loc : "
       ]
      },
      {
       "output_type": "stream",
       "stream": "stdout",
       "text": [
        " Condorcet (Universit\u00e9 Paris Diderot), Quai Panhard et Levassor, Gare, 13e, Paris, \u00cele-de-France, France m\u00e9tropolitaine, 75013, France\n"
       ]
      },
      {
       "name": "stdout",
       "output_type": "stream",
       "stream": "stdout",
       "text": [
        "ok1 ?\n",
        "\n"
       ]
      },
      {
       "output_type": "stream",
       "stream": "stdout",
       "text": [
        "----\n",
        ">>  64\n",
        "addr :  18 route du panorama Fontenay-aux-Roses 92265 FRANCE\n",
        "loc : "
       ]
      },
      {
       "output_type": "stream",
       "stream": "stdout",
       "text": [
        " Route du Panorama, Fontenay-aux-Roses, Antony, Hauts-de-Seine, \u00cele-de-France, France m\u00e9tropolitaine, 92260, France\n"
       ]
      },
      {
       "name": "stdout",
       "output_type": "stream",
       "stream": "stdout",
       "text": [
        "ok1 ?\n",
        "\n"
       ]
      },
      {
       "output_type": "stream",
       "stream": "stdout",
       "text": [
        "----\n",
        ">>  65\n",
        "addr :  Buffon (Universite Paris Diderot) Buffon Building Paris 75013 FRANCE\n",
        "loc : "
       ]
      },
      {
       "output_type": "stream",
       "stream": "stdout",
       "text": [
        " Buffon (Universit\u00e9 Paris Diderot), Rue Alice Domont et L\u00e9onie Duquet, Gare, 13e, Paris, \u00cele-de-France, France m\u00e9tropolitaine, 75013, France\n"
       ]
      },
      {
       "name": "stdout",
       "output_type": "stream",
       "stream": "stdout",
       "text": [
        "ok1 ?\n",
        "\n"
       ]
      },
      {
       "output_type": "stream",
       "stream": "stdout",
       "text": [
        "----\n",
        ">>  66\n",
        "addr :  47, boulevard de l'Hopital Hopital Pitie-Salpetriere Paris 75013 FRANCE\n",
        "loc : "
       ]
      },
      {
       "output_type": "stream",
       "stream": "stdout",
       "text": [
        " H\u00f4pital Ignace Deen, Boulevard de Boulbinet, Camayenne, Conakry, Guin\u00e9e\n"
       ]
      },
      {
       "name": "stdout",
       "output_type": "stream",
       "stream": "stdout",
       "text": [
        "ok1 ?\n",
        "47, boulevard de l'Hopital Paris\n"
       ]
      },
      {
       "output_type": "stream",
       "stream": "stdout",
       "text": [
        "addr :  47, boulevard de l'Hopital Hopital Pitie-Salpetriere Paris 75013 FRANCE\n",
        "loc : "
       ]
      },
      {
       "output_type": "stream",
       "stream": "stdout",
       "text": [
        " 47, Boulevard de l'H\u00f4pital, Salp\u00eatri\u00e8re, 13e, Paris, \u00cele-de-France, France m\u00e9tropolitaine, 75013, France\n"
       ]
      },
      {
       "name": "stdout",
       "output_type": "stream",
       "stream": "stdout",
       "text": [
        "ok1 ?\n",
        "\n"
       ]
      },
      {
       "output_type": "stream",
       "stream": "stdout",
       "text": [
        "----\n",
        ">>  67\n",
        "addr :  47, boulevard de l'Hopital Hopital Pitie-Salpetriere 75013 Paris Paris 75013 Paris FRANCE\n",
        "loc : "
       ]
      },
      {
       "output_type": "stream",
       "stream": "stdout",
       "text": [
        " H\u00f4pital Ignace Deen, Boulevard de Boulbinet, Camayenne, Conakry, Guin\u00e9e\n"
       ]
      },
      {
       "name": "stdout",
       "output_type": "stream",
       "stream": "stdout",
       "text": [
        "ok1 ?\n",
        "47, boulevard de l'Hopital Paris\n"
       ]
      },
      {
       "output_type": "stream",
       "stream": "stdout",
       "text": [
        "addr :  47, boulevard de l'Hopital Hopital Pitie-Salpetriere 75013 Paris Paris 75013 Paris FRANCE\n",
        "loc : "
       ]
      },
      {
       "output_type": "stream",
       "stream": "stdout",
       "text": [
        " 47, Boulevard de l'H\u00f4pital, Salp\u00eatri\u00e8re, 13e, Paris, \u00cele-de-France, France m\u00e9tropolitaine, 75013, France\n"
       ]
      },
      {
       "name": "stdout",
       "output_type": "stream",
       "stream": "stdout",
       "text": [
        "ok1 ?\n",
        "\n"
       ]
      },
      {
       "output_type": "stream",
       "stream": "stdout",
       "text": [
        "----\n",
        ">>  68\n",
        "addr :  12, Rue Lhomond Paris 75005 FRANCE\n",
        "loc : "
       ]
      },
      {
       "output_type": "stream",
       "stream": "stdout",
       "text": [
        " 12, Rue Lhomond, Val-de-Gr\u00e2ce, 5e, Paris, \u00cele-de-France, France m\u00e9tropolitaine, 75005, France\n"
       ]
      },
      {
       "name": "stdout",
       "output_type": "stream",
       "stream": "stdout",
       "text": [
        "ok1 ?\n",
        "\n"
       ]
      },
      {
       "output_type": "stream",
       "stream": "stdout",
       "text": [
        "----\n",
        ">>  69\n",
        "addr :  29 Rue D'Ulm Pavillon Jardin Paris 5eme 75005 FRANCE\n",
        "loc : "
       ]
      },
      {
       "name": "stdout",
       "output_type": "stream",
       "stream": "stdout",
       "text": [
        "ok2 ?\n",
        "29 Rue D'Ulm Paris\n"
       ]
      },
      {
       "output_type": "stream",
       "stream": "stdout",
       "text": [
        " addr :  29 Rue D'Ulm Pavillon Jardin Paris 5eme 75005 FRANCE\n",
        "loc : "
       ]
      },
      {
       "output_type": "stream",
       "stream": "stdout",
       "text": [
        " 29, Rue d'Ulm, Val-de-Gr\u00e2ce, 5e, Paris, \u00cele-de-France, France m\u00e9tropolitaine, 75005, France\n"
       ]
      },
      {
       "name": "stdout",
       "output_type": "stream",
       "stream": "stdout",
       "text": [
        "ok1 ?\n",
        "\n"
       ]
      },
      {
       "output_type": "stream",
       "stream": "stdout",
       "text": [
        "----\n",
        ">>  70\n",
        "addr :  29 Rue D'Ulm Pavillion Jardin Paris 75005 FRANCE\n",
        "loc : "
       ]
      },
      {
       "name": "stdout",
       "output_type": "stream",
       "stream": "stdout",
       "text": [
        "ok2 ?\n",
        "29 Rue D'Ulm Paris\n"
       ]
      },
      {
       "output_type": "stream",
       "stream": "stdout",
       "text": [
        " addr :  29 Rue D'Ulm Pavillion Jardin Paris 75005 FRANCE\n",
        "loc : "
       ]
      },
      {
       "output_type": "stream",
       "stream": "stdout",
       "text": [
        " 29, Rue d'Ulm, Val-de-Gr\u00e2ce, 5e, Paris, \u00cele-de-France, France m\u00e9tropolitaine, 75005, France\n"
       ]
      },
      {
       "name": "stdout",
       "output_type": "stream",
       "stream": "stdout",
       "text": [
        "ok1 ?\n",
        "\n"
       ]
      },
      {
       "output_type": "stream",
       "stream": "stdout",
       "text": [
        "----\n",
        ">>  71\n",
        "addr :  29 rue d'Ulm Institut d\\'Etudes Cognitives de l\\'ENS Paris 5eme 75230 FRANCE\n",
        "loc : "
       ]
      },
      {
       "name": "stdout",
       "output_type": "stream",
       "stream": "stdout",
       "text": [
        "ok2 ?\n",
        "29 Rue D'Ulm, Paris\n"
       ]
      },
      {
       "output_type": "stream",
       "stream": "stdout",
       "text": [
        " addr :  29 rue d'Ulm Institut d\\'Etudes Cognitives de l\\'ENS Paris 5eme 75230 FRANCE\n",
        "loc : "
       ]
      },
      {
       "output_type": "stream",
       "stream": "stdout",
       "text": [
        " 29, Rue d'Ulm, Val-de-Gr\u00e2ce, 5e, Paris, \u00cele-de-France, France m\u00e9tropolitaine, 75005, France\n"
       ]
      },
      {
       "name": "stdout",
       "output_type": "stream",
       "stream": "stdout",
       "text": [
        "ok1 ?\n",
        "\n"
       ]
      },
      {
       "output_type": "stream",
       "stream": "stdout",
       "text": [
        "----\n",
        ">>  72\n",
        "addr :  Deutscher Platz 6, D-04103 Leipzig, Germany Leipzig D-04103 GERMANY\n",
        "loc : "
       ]
      },
      {
       "output_type": "stream",
       "stream": "stdout",
       "text": [
        " Deutscher Platz, Mitte, Leipzig, Sachsen, 04103, Deutschland\n"
       ]
      },
      {
       "name": "stdout",
       "output_type": "stream",
       "stream": "stdout",
       "text": [
        "ok1 ?\n",
        "\n"
       ]
      },
      {
       "output_type": "stream",
       "stream": "stdout",
       "text": [
        "----\n",
        ">>  73\n",
        "addr :  1, Avenue du Petit Chateau - 91800 Brunoy 55, Rue Buffon - 75321 Paris  5 Brunoy and Paris 91800 et 75321 FRANCE\n",
        "loc : "
       ]
      },
      {
       "output_type": "stream",
       "stream": "stdout",
       "text": [
        " Avenue du Petit Ch\u00e2teau, Le Petit Ch\u00e2teau, Brunoy, \u00c9vry, Essonne, \u00cele-de-France, France m\u00e9tropolitaine, 91800, France\n"
       ]
      },
      {
       "name": "stdout",
       "output_type": "stream",
       "stream": "stdout",
       "text": [
        "ok1 ?\n",
        "\n"
       ]
      },
      {
       "output_type": "stream",
       "stream": "stdout",
       "text": [
        "----\n",
        ">>  74\n",
        "addr :  7 quai Saint Bernard Paris 75252 FRANCE\n",
        "loc : "
       ]
      },
      {
       "output_type": "stream",
       "stream": "stdout",
       "text": [
        " Quai Saint-Bernard, Jardin des Plantes, 5e, Paris, \u00cele-de-France, France m\u00e9tropolitaine, 75005, France\n"
       ]
      },
      {
       "name": "stdout",
       "output_type": "stream",
       "stream": "stdout",
       "text": [
        "ok1 ?\n",
        "\n"
       ]
      },
      {
       "output_type": "stream",
       "stream": "stdout",
       "text": [
        "----\n",
        ">>  75\n",
        "addr :  rue barreau Villeunve d'Ascs 59653 FRANCE\n",
        "loc : "
       ]
      },
      {
       "name": "stdout",
       "output_type": "stream",
       "stream": "stdout",
       "text": [
        "ok2 ?\n",
        "rue barreau Villeunve d'Ascs\n"
       ]
      },
      {
       "output_type": "stream",
       "stream": "stdout",
       "text": [
        " addr :  rue barreau Villeunve d'Ascs 59653 FRANCE\n",
        "loc : "
       ]
      },
      {
       "name": "stdout",
       "output_type": "stream",
       "stream": "stdout",
       "text": [
        "ok2 ?\n",
        "rue barreau Villneuve d'Ascs\n"
       ]
      },
      {
       "output_type": "stream",
       "stream": "stdout",
       "text": [
        " addr :  rue barreau Villeunve d'Ascs 59653 FRANCE\n",
        "loc : "
       ]
      },
      {
       "name": "stdout",
       "output_type": "stream",
       "stream": "stdout",
       "text": [
        "ok2 ?\n",
        "rue Barreau,  Villeneuve d'Ascs\n"
       ]
      },
      {
       "output_type": "stream",
       "stream": "stdout",
       "text": [
        " addr :  rue barreau Villeunve d'Ascs 59653 FRANCE\n",
        "loc : "
       ]
      },
      {
       "name": "stdout",
       "output_type": "stream",
       "stream": "stdout",
       "text": [
        "ok2 ?\n",
        "Rue du Barreau, 59650 Villeneuve-d'Ascq\n"
       ]
      },
      {
       "output_type": "stream",
       "stream": "stdout",
       "text": [
        " addr :  rue barreau Villeunve d'Ascs 59653 FRANCE\n",
        "loc : "
       ]
      },
      {
       "name": "stdout",
       "output_type": "stream",
       "stream": "stdout",
       "text": [
        "ok2 ?\n",
        "universit\u00e9 lille 3 suaio\n"
       ]
      },
      {
       "output_type": "stream",
       "stream": "stdout",
       "text": [
        " addr :  rue barreau Villeunve d'Ascs 59653 FRANCE\n",
        "loc : "
       ]
      },
      {
       "name": "stdout",
       "output_type": "stream",
       "stream": "stdout",
       "text": [
        "ok2 ?\n",
        "universit\u00e9 lille 3 \n"
       ]
      },
      {
       "output_type": "stream",
       "stream": "stdout",
       "text": [
        " addr :  rue barreau Villeunve d'Ascs 59653 FRANCE\n",
        "loc : "
       ]
      },
      {
       "output_type": "stream",
       "stream": "stdout",
       "text": [
        " Universit\u00e9 Lille 3, Forum Universitaire de Lille 3, Pont-de-Bois, Villeneuve-d'Ascq, Lille, Nord, Nord-Pas-de-Calais, France m\u00e9tropolitaine, 59491;59493;59650, France\n"
       ]
      },
      {
       "name": "stdout",
       "output_type": "stream",
       "stream": "stdout",
       "text": [
        "ok1 ?\n",
        "universit\u00e9 lille 3, rue barreau, Villeneuve-d'Ascq\n"
       ]
      },
      {
       "output_type": "stream",
       "stream": "stdout",
       "text": [
        "addr :  rue barreau Villeunve d'Ascs 59653 FRANCE\n",
        "loc : "
       ]
      },
      {
       "name": "stdout",
       "output_type": "stream",
       "stream": "stdout",
       "text": [
        "ok2 ?\n",
        "rue barreau, Villeneuve-d'Ascq\n"
       ]
      },
      {
       "output_type": "stream",
       "stream": "stdout",
       "text": [
        " addr :  rue barreau Villeunve d'Ascs 59653 FRANCE\n",
        "loc : "
       ]
      },
      {
       "name": "stdout",
       "output_type": "stream",
       "stream": "stdout",
       "text": [
        "ok2 ?\n",
        "rue barreau, Villeneuve-d'Ascq, Lille\n"
       ]
      },
      {
       "output_type": "stream",
       "stream": "stdout",
       "text": [
        " addr :  rue barreau Villeunve d'Ascs 59653 FRANCE\n",
        "loc : "
       ]
      },
      {
       "name": "stdout",
       "output_type": "stream",
       "stream": "stdout",
       "text": [
        "ok2 ?\n",
        "rue barreau, Villeneuve-d'Ascq, Lille, Nord\n"
       ]
      },
      {
       "output_type": "stream",
       "stream": "stdout",
       "text": [
        " addr :  rue barreau Villeunve d'Ascs 59653 FRANCE\n"
       ]
      },
      {
       "name": "stdout",
       "output_type": "stream",
       "stream": "stdout",
       "text": [
        "ok2 ?\n",
        "Villeneuve-d'Ascq\n"
       ]
      },
      {
       "output_type": "stream",
       "stream": "stdout",
       "text": [
        "addr :  rue barreau Villeunve d'Ascs 59653 FRANCE\n",
        "loc : "
       ]
      },
      {
       "output_type": "stream",
       "stream": "stdout",
       "text": [
        " Villeneuve-d'Ascq, Lille, Nord, Nord-Pas-de-Calais, France m\u00e9tropolitaine, 59491;59493;59650, France\n"
       ]
      },
      {
       "name": "stdout",
       "output_type": "stream",
       "stream": "stdout",
       "text": [
        "ok1 ?\n",
        "Villeneuve-d'Ascq, rue du barreau\n"
       ]
      },
      {
       "output_type": "stream",
       "stream": "stdout",
       "text": [
        "addr :  rue barreau Villeunve d'Ascs 59653 FRANCE\n",
        "loc : "
       ]
      },
      {
       "output_type": "stream",
       "stream": "stdout",
       "text": [
        " Rue du Barreau, Zone Urbaine Lille, Pont-de-Bois, Villeneuve-d'Ascq, Lille, Nord, Nord-Pas-de-Calais, France m\u00e9tropolitaine, 59491;59493;59650, France\n"
       ]
      },
      {
       "name": "stdout",
       "output_type": "stream",
       "stream": "stdout",
       "text": [
        "ok1 ?\n",
        "\n"
       ]
      },
      {
       "output_type": "stream",
       "stream": "stdout",
       "text": [
        "----\n",
        ">>  76\n",
        "addr :  Allee Rene Laroumagne Talence 33400 FRANCE\n",
        "loc : "
       ]
      },
      {
       "name": "stdout",
       "output_type": "stream",
       "stream": "stdout",
       "text": [
        "ok2 ?\n",
        "Allee Rene Laroumagne Talence\n"
       ]
      },
      {
       "output_type": "stream",
       "stream": "stdout",
       "text": [
        " addr :  Allee Rene Laroumagne Talence 33400 FRANCE\n",
        "loc : "
       ]
      },
      {
       "name": "stdout",
       "output_type": "stream",
       "stream": "stdout",
       "text": [
        "ok2 ?\n",
        "Allee Rene Laroumagne Valence\n"
       ]
      },
      {
       "output_type": "stream",
       "stream": "stdout",
       "text": [
        " addr :  Allee Rene Laroumagne Talence 33400 FRANCE\n",
        "loc : "
       ]
      },
      {
       "name": "stdout",
       "output_type": "stream",
       "stream": "stdout",
       "text": [
        "ok2 ?\n",
        "All\u00e9e Ren\u00e9 Laroumagne 33400 Talence\n"
       ]
      },
      {
       "output_type": "stream",
       "stream": "stdout",
       "text": [
        " addr :  Allee Rene Laroumagne Talence 33400 FRANCE\n",
        "loc : "
       ]
      },
      {
       "name": "stdout",
       "output_type": "stream",
       "stream": "stdout",
       "text": [
        "ok2 ?\n",
        "All\u00e9e Ren\u00e9 Laroumagne Talence\n"
       ]
      },
      {
       "output_type": "stream",
       "stream": "stdout",
       "text": [
        " addr :  Allee Rene Laroumagne Talence 33400 FRANCE\n",
        "loc : "
       ]
      },
      {
       "name": "stdout",
       "output_type": "stream",
       "stream": "stdout",
       "text": [
        "ok2 ?\n",
        "Talence\n"
       ]
      },
      {
       "output_type": "stream",
       "stream": "stdout",
       "text": [
        " addr :  Allee Rene Laroumagne Talence 33400 FRANCE\n",
        "loc : "
       ]
      },
      {
       "output_type": "stream",
       "stream": "stdout",
       "text": [
        " Talence, Bordeaux, Gironde, Aquitaine, France m\u00e9tropolitaine, 33400, France\n"
       ]
      },
      {
       "name": "stdout",
       "output_type": "stream",
       "stream": "stdout",
       "text": [
        "ok1 ?\n",
        "Talence, All\u00e9e Ren\u00e9 Laroumagne\n"
       ]
      },
      {
       "output_type": "stream",
       "stream": "stdout",
       "text": [
        "addr :  Allee Rene Laroumagne Talence 33400 FRANCE\n",
        "loc : "
       ]
      },
      {
       "name": "stdout",
       "output_type": "stream",
       "stream": "stdout",
       "text": [
        "ok2 ?\n",
        "Campus de Talence Pessac\n"
       ]
      },
      {
       "output_type": "stream",
       "stream": "stdout",
       "text": [
        " addr :  Allee Rene Laroumagne Talence 33400 FRANCE\n",
        "loc : "
       ]
      },
      {
       "output_type": "stream",
       "stream": "stdout",
       "text": [
        " Universit\u00e9 de Bordeaux - campus de Talence Pessac Gradignan, Rue Pierre Noailles, Talence, Bordeaux, Gironde, Aquitaine, France m\u00e9tropolitaine, 33400, France\n"
       ]
      },
      {
       "name": "stdout",
       "output_type": "stream",
       "stream": "stdout",
       "text": [
        "ok1 ?\n",
        "\n"
       ]
      },
      {
       "output_type": "stream",
       "stream": "stdout",
       "text": [
        "----\n",
        ">>  77\n",
        "addr :  12 Rue Lhomond Paris 75005 FRANCE\n",
        "loc : "
       ]
      },
      {
       "output_type": "stream",
       "stream": "stdout",
       "text": [
        " 12, Rue Lhomond, Val-de-Gr\u00e2ce, 5e, Paris, \u00cele-de-France, France m\u00e9tropolitaine, 75005, France\n"
       ]
      },
      {
       "name": "stdout",
       "output_type": "stream",
       "stream": "stdout",
       "text": [
        "ok1 ?\n",
        "\n"
       ]
      },
      {
       "output_type": "stream",
       "stream": "stdout",
       "text": [
        "----\n",
        ">>  78\n",
        "addr :  Universite Paris Diderot Paris 7 Batiment Condorcet Paris  13 75205 FRANCE\n",
        "loc : "
       ]
      },
      {
       "output_type": "stream",
       "stream": "stdout",
       "text": [
        " Tour Voltaire (Universit\u00e9 Paris Diderot), Rue Marguerite Duras, Gare, 13e, Paris, \u00cele-de-France, France m\u00e9tropolitaine, 75013, France\n"
       ]
      },
      {
       "name": "stdout",
       "output_type": "stream",
       "stream": "stdout",
       "text": [
        "ok1 ?\n",
        "Paris Diderot Condorcet\n"
       ]
      },
      {
       "output_type": "stream",
       "stream": "stdout",
       "text": [
        "addr :  Universite Paris Diderot Paris 7 Batiment Condorcet Paris  13 75205 FRANCE\n",
        "loc : "
       ]
      },
      {
       "output_type": "stream",
       "stream": "stdout",
       "text": [
        " Condorcet (Universit\u00e9 Paris Diderot), Quai Panhard et Levassor, Gare, 13e, Paris, \u00cele-de-France, France m\u00e9tropolitaine, 75013, France\n"
       ]
      },
      {
       "name": "stdout",
       "output_type": "stream",
       "stream": "stdout",
       "text": [
        "ok1 ?\n",
        "\n"
       ]
      },
      {
       "output_type": "stream",
       "stream": "stdout",
       "text": [
        "----\n",
        ">>  79\n",
        "addr :  Universite Pierre et Marie CURIE Pyramide - T55/65 Paris 75005 FRANCE\n",
        "loc : "
       ]
      },
      {
       "output_type": "stream",
       "stream": "stdout",
       "text": [
        " upmc, Rue de Licences, St-Victor, 5e, Paris, \u00cele-de-France, France m\u00e9tropolitaine, 75005, France\n"
       ]
      },
      {
       "name": "stdout",
       "output_type": "stream",
       "stream": "stdout",
       "text": [
        "ok1 ?\n",
        "\n"
       ]
      },
      {
       "output_type": "stream",
       "stream": "stdout",
       "text": [
        "----\n",
        ">>  80\n",
        "addr :  10 rue Vauquelin ESPCI ParisTech Bat B PARIS 75005 FRANCE\n",
        "loc : "
       ]
      },
      {
       "output_type": "stream",
       "stream": "stdout",
       "text": [
        " ESPCI, 10, Rue Vauquelin, Val-de-Gr\u00e2ce, 5e, Paris, \u00cele-de-France, France m\u00e9tropolitaine, 75005, France\n"
       ]
      },
      {
       "name": "stdout",
       "output_type": "stream",
       "stream": "stdout",
       "text": [
        "ok1 ?\n",
        "\n"
       ]
      },
      {
       "output_type": "stream",
       "stream": "stdout",
       "text": [
        "----\n",
        ">>  81\n",
        "addr :  28 rue du Dr Roux Paris 75015 FRANCE\n",
        "loc : "
       ]
      },
      {
       "output_type": "stream",
       "stream": "stdout",
       "text": [
        " rue du Dr Roux, Plateau, Dakar, 6288 11524, Senegal\n"
       ]
      },
      {
       "name": "stdout",
       "output_type": "stream",
       "stream": "stdout",
       "text": [
        "ok1 ?\n",
        "28 rue du Docteur Roux Paris\n"
       ]
      },
      {
       "output_type": "stream",
       "stream": "stdout",
       "text": [
        "addr :  28 rue du Dr Roux Paris 75015 FRANCE\n",
        "loc : "
       ]
      },
      {
       "output_type": "stream",
       "stream": "stdout",
       "text": [
        " 28, Rue du Docteur Roux, Necker, 15e, Paris, \u00cele-de-France, France m\u00e9tropolitaine, 75015, France\n"
       ]
      },
      {
       "name": "stdout",
       "output_type": "stream",
       "stream": "stdout",
       "text": [
        "ok1 ?\n",
        "\n"
       ]
      },
      {
       "output_type": "stream",
       "stream": "stdout",
       "text": [
        "----\n",
        ">>  82\n",
        "addr :  10 rue Vauquelin Paris 75005 FRANCE\n",
        "loc : "
       ]
      },
      {
       "output_type": "stream",
       "stream": "stdout",
       "text": [
        " ESPCI, 10, Rue Vauquelin, Val-de-Gr\u00e2ce, 5e, Paris, \u00cele-de-France, France m\u00e9tropolitaine, 75005, France\n"
       ]
      },
      {
       "name": "stdout",
       "output_type": "stream",
       "stream": "stdout",
       "text": [
        "ok1 ?\n",
        "\n"
       ]
      },
      {
       "output_type": "stream",
       "stream": "stdout",
       "text": [
        "----\n",
        ">>  84\n",
        "addr :  25 rue du Docteur Roux Paris 75015 FRANCE\n",
        "loc : "
       ]
      },
      {
       "output_type": "stream",
       "stream": "stdout",
       "text": [
        " 25, Rue du Docteur Roux, Necker, 15e, Paris, \u00cele-de-France, France m\u00e9tropolitaine, 75015, France\n"
       ]
      },
      {
       "name": "stdout",
       "output_type": "stream",
       "stream": "stdout",
       "text": [
        "ok1 ?\n",
        "\n"
       ]
      },
      {
       "output_type": "stream",
       "stream": "stdout",
       "text": [
        "----\n",
        ">>  85\n",
        "addr :  Av. Ramon y Cajal, s/n Instituto de Neurociencias CSIC - UMH Sant Joan d\ufffdAlacant 03550 SPAIN\n",
        "loc : "
       ]
      },
      {
       "name": "stdout",
       "output_type": "stream",
       "stream": "stdout",
       "text": [
        "ok2 ?\n",
        "Avenidad Ramon y Cajal \n"
       ]
      },
      {
       "output_type": "stream",
       "stream": "stdout",
       "text": [
        " addr :  Av. Ramon y Cajal, s/n Instituto de Neurociencias CSIC - UMH Sant Joan d\ufffdAlacant 03550 SPAIN\n",
        "loc : "
       ]
      },
      {
       "name": "stdout",
       "output_type": "stream",
       "stream": "stdout",
       "text": [
        "ok2 ?\n",
        "Instituto de Neurociencias CSIC\n"
       ]
      },
      {
       "output_type": "stream",
       "stream": "stdout",
       "text": [
        " addr :  Av. Ramon y Cajal, s/n Instituto de Neurociencias CSIC - UMH Sant Joan d\ufffdAlacant 03550 SPAIN\n",
        "loc : "
       ]
      },
      {
       "name": "stdout",
       "output_type": "stream",
       "stream": "stdout",
       "text": [
        "ok2 ?\n",
        "Instituto de Neurociencias CSIC Sant Joan d'alacan\n"
       ]
      },
      {
       "output_type": "stream",
       "stream": "stdout",
       "text": [
        " addr :  Av. Ramon y Cajal, s/n Instituto de Neurociencias CSIC - UMH Sant Joan d\ufffdAlacant 03550 SPAIN\n",
        "loc : "
       ]
      },
      {
       "name": "stdout",
       "output_type": "stream",
       "stream": "stdout",
       "text": [
        "ok2 ?\n",
        "Avenidad Ramon y Cajal Sant Joan d'alacan\n"
       ]
      },
      {
       "output_type": "stream",
       "stream": "stdout",
       "text": [
        " addr :  Av. Ramon y Cajal, s/n Instituto de Neurociencias CSIC - UMH Sant Joan d\ufffdAlacant 03550 SPAIN\n",
        "loc : "
       ]
      },
      {
       "name": "stdout",
       "output_type": "stream",
       "stream": "stdout",
       "text": [
        "ok2 ?\n",
        "Avenidad Ramon y Cajal Sant Joan d'alacant\n"
       ]
      },
      {
       "output_type": "stream",
       "stream": "stdout",
       "text": [
        " addr :  Av. Ramon y Cajal, s/n Instituto de Neurociencias CSIC - UMH Sant Joan d\ufffdAlacant 03550 SPAIN\n",
        "loc : "
       ]
      },
      {
       "name": "stdout",
       "output_type": "stream",
       "stream": "stdout",
       "text": [
        "ok2 ?\n",
        "Avenida Santiago Ram\u00f3n Y Cajal, 0 S-N 03550 Sant Joan d'Alacant Espagne\n"
       ]
      },
      {
       "output_type": "stream",
       "stream": "stdout",
       "text": [
        " addr :  Av. Ramon y Cajal, s/n Instituto de Neurociencias CSIC - UMH Sant Joan d\ufffdAlacant 03550 SPAIN\n"
       ]
      },
      {
       "name": "stdout",
       "output_type": "stream",
       "stream": "stdout",
       "text": [
        "ok2 ?\n",
        "Avenida Santiago Ram\u00f3n Y Cajal, Sant Joan d'Alacant\n"
       ]
      },
      {
       "output_type": "stream",
       "stream": "stdout",
       "text": [
        "addr :  Av. Ramon y Cajal, s/n Instituto de Neurociencias CSIC - UMH Sant Joan d\ufffdAlacant 03550 SPAIN\n",
        "loc : "
       ]
      },
      {
       "name": "stdout",
       "output_type": "stream",
       "stream": "stdout",
       "text": [
        "ok2 ?\n",
        "Sant Joan d'Alacant\n"
       ]
      },
      {
       "output_type": "stream",
       "stream": "stdout",
       "text": [
        " addr :  Av. Ramon y Cajal, s/n Instituto de Neurociencias CSIC - UMH Sant Joan d\ufffdAlacant 03550 SPAIN\n",
        "loc : "
       ]
      },
      {
       "output_type": "stream",
       "stream": "stdout",
       "text": [
        " Sant Joan d'Alacant, Alacant\u00ed, Alicante / Alacant, Comunitat Valenciana, Espa\u00f1a\n"
       ]
      },
      {
       "name": "stdout",
       "output_type": "stream",
       "stream": "stdout",
       "text": [
        "ok1 ?\n",
        "Sant Joan d'Alacant, Avenida Santiago Ram\u00f3n\n"
       ]
      },
      {
       "output_type": "stream",
       "stream": "stdout",
       "text": [
        "addr :  Av. Ramon y Cajal, s/n Instituto de Neurociencias CSIC - UMH Sant Joan d\ufffdAlacant 03550 SPAIN\n",
        "loc : "
       ]
      },
      {
       "name": "stdout",
       "output_type": "stream",
       "stream": "stdout",
       "text": [
        "ok2 ?\n",
        "Instituto de Neurociencias, Sant Joan d'Alacant\n"
       ]
      },
      {
       "output_type": "stream",
       "stream": "stdout",
       "text": [
        " addr :  Av. Ramon y Cajal, s/n Instituto de Neurociencias CSIC - UMH Sant Joan d\ufffdAlacant 03550 SPAIN\n",
        "loc : "
       ]
      },
      {
       "name": "stdout",
       "output_type": "stream",
       "stream": "stdout",
       "text": [
        "ok2 ?\n",
        "Sant Joan d'Alacant, Instituto de Neurociencias\n"
       ]
      },
      {
       "output_type": "stream",
       "stream": "stdout",
       "text": [
        " addr :  Av. Ramon y Cajal, s/n Instituto de Neurociencias CSIC - UMH Sant Joan d\ufffdAlacant 03550 SPAIN\n",
        "loc : "
       ]
      },
      {
       "name": "stdout",
       "output_type": "stream",
       "stream": "stdout",
       "text": [
        "ok2 ?\n",
        "Sant Joan d'Alacant\n"
       ]
      },
      {
       "output_type": "stream",
       "stream": "stdout",
       "text": [
        " addr :  Av. Ramon y Cajal, s/n Instituto de Neurociencias CSIC - UMH Sant Joan d\ufffdAlacant 03550 SPAIN\n",
        "loc : "
       ]
      },
      {
       "output_type": "stream",
       "stream": "stdout",
       "text": [
        " Sant Joan d'Alacant, Alacant\u00ed, Alicante / Alacant, Comunitat Valenciana, Espa\u00f1a\n"
       ]
      },
      {
       "name": "stdout",
       "output_type": "stream",
       "stream": "stdout",
       "text": [
        "ok1 ?\n",
        "Avenida Santiago Ram\u00f3n Y Cajal, Sant Joan d'Alacant\n"
       ]
      },
      {
       "output_type": "stream",
       "stream": "stdout",
       "text": [
        "addr :  Av. Ramon y Cajal, s/n Instituto de Neurociencias CSIC - UMH Sant Joan d\ufffdAlacant 03550 SPAIN\n",
        "loc : "
       ]
      },
      {
       "name": "stdout",
       "output_type": "stream",
       "stream": "stdout",
       "text": [
        "ok2 ?\n",
        "Avinguda Rambla de la Libertad\n"
       ]
      },
      {
       "output_type": "stream",
       "stream": "stdout",
       "text": [
        " addr :  Av. Ramon y Cajal, s/n Instituto de Neurociencias CSIC - UMH Sant Joan d\ufffdAlacant 03550 SPAIN\n",
        "loc : "
       ]
      },
      {
       "name": "stdout",
       "output_type": "stream",
       "stream": "stdout",
       "text": [
        "ok2 ?\n",
        "Avinguda Rambla de la Llibertad, Sant Joan d'Alacant\n"
       ]
      },
      {
       "output_type": "stream",
       "stream": "stdout",
       "text": [
        " addr :  Av. Ramon y Cajal, s/n Instituto de Neurociencias CSIC - UMH Sant Joan d\ufffdAlacant 03550 SPAIN\n",
        "loc : "
       ]
      },
      {
       "name": "stdout",
       "output_type": "stream",
       "stream": "stdout",
       "text": [
        "ok2 ?\n",
        "Sant Joan d'Alacant\n"
       ]
      },
      {
       "output_type": "stream",
       "stream": "stdout",
       "text": [
        " addr :  Av. Ramon y Cajal, s/n Instituto de Neurociencias CSIC - UMH Sant Joan d\ufffdAlacant 03550 SPAIN\n",
        "loc : "
       ]
      },
      {
       "output_type": "stream",
       "stream": "stdout",
       "text": [
        " Sant Joan d'Alacant, Alacant\u00ed, Alicante / Alacant, Comunitat Valenciana, Espa\u00f1a\n"
       ]
      },
      {
       "name": "stdout",
       "output_type": "stream",
       "stream": "stdout",
       "text": [
        "ok1 ?\n",
        "\n"
       ]
      },
      {
       "output_type": "stream",
       "stream": "stdout",
       "text": [
        "----\n",
        ">>  86\n",
        "addr :  45 rue des Saints-Peres Paris 75020 FRANCE\n",
        "loc : "
       ]
      },
      {
       "output_type": "stream",
       "stream": "stdout",
       "text": [
        " 45, Rue des Saints-P\u00e8res, Saint-Germain-des-Pr\u00e9s, Paris, \u00cele-de-France, France m\u00e9tropolitaine, 75006, France\n"
       ]
      },
      {
       "name": "stdout",
       "output_type": "stream",
       "stream": "stdout",
       "text": [
        "ok1 ?\n",
        "\n"
       ]
      },
      {
       "output_type": "stream",
       "stream": "stdout",
       "text": [
        "----\n",
        ">>  87\n",
        "addr :  12 Rue Lhomond Paris 75005 FRANCE\n",
        "loc : "
       ]
      },
      {
       "output_type": "stream",
       "stream": "stdout",
       "text": [
        " 12, Rue Lhomond, Val-de-Gr\u00e2ce, 5e, Paris, \u00cele-de-France, France m\u00e9tropolitaine, 75005, France\n"
       ]
      },
      {
       "name": "stdout",
       "output_type": "stream",
       "stream": "stdout",
       "text": [
        "ok1 ?\n",
        "\n"
       ]
      },
      {
       "output_type": "stream",
       "stream": "stdout",
       "text": [
        "----\n",
        ">>  88\n",
        "addr :  1 Avenue de la Terrasse Bat. 32 Gif-sur-Yvette 91198 FRANCE\n",
        "loc : "
       ]
      },
      {
       "output_type": "stream",
       "stream": "stdout",
       "text": [
        " 1, Avenue de la Terrasse, Tourg\u00e9ville, Lisieux, Calvados, Basse-Normandie, France m\u00e9tropolitaine, 14800, France\n"
       ]
      },
      {
       "name": "stdout",
       "output_type": "stream",
       "stream": "stdout",
       "text": [
        "ok1 ?\n",
        "1 Avenue de la Terrasse Gif-sur-Yvette\n"
       ]
      },
      {
       "output_type": "stream",
       "stream": "stdout",
       "text": [
        "addr :  1 Avenue de la Terrasse Bat. 32 Gif-sur-Yvette 91198 FRANCE\n",
        "loc : "
       ]
      },
      {
       "output_type": "stream",
       "stream": "stdout",
       "text": [
        " 10A D\u00e9l\u00e9gation, 1, Avenue de la Terrasse, L'Abbaye, Damiette, Gif-sur-Yvette, Palaiseau, Essonne, \u00cele-de-France, France m\u00e9tropolitaine, 91190, France\n"
       ]
      },
      {
       "name": "stdout",
       "output_type": "stream",
       "stream": "stdout",
       "text": [
        "ok1 ?\n",
        "\n"
       ]
      },
      {
       "output_type": "stream",
       "stream": "stdout",
       "text": [
        "----\n",
        ">>  89\n",
        "addr :  28 rue du Docteur Roux Paris 75015 FRANCE\n",
        "loc : "
       ]
      },
      {
       "output_type": "stream",
       "stream": "stdout",
       "text": [
        " 28, Rue du Docteur Roux, Necker, 15e, Paris, \u00cele-de-France, France m\u00e9tropolitaine, 75015, France\n"
       ]
      },
      {
       "name": "stdout",
       "output_type": "stream",
       "stream": "stdout",
       "text": [
        "ok1 ?\n",
        "\n"
       ]
      },
      {
       "output_type": "stream",
       "stream": "stdout",
       "text": [
        "----\n",
        ">>  90\n",
        "addr :  12, Rue Lhomond Paris 75005 FRANCE\n",
        "loc : "
       ]
      },
      {
       "output_type": "stream",
       "stream": "stdout",
       "text": [
        " 12, Rue Lhomond, Val-de-Gr\u00e2ce, 5e, Paris, \u00cele-de-France, France m\u00e9tropolitaine, 75005, France\n"
       ]
      },
      {
       "name": "stdout",
       "output_type": "stream",
       "stream": "stdout",
       "text": [
        "ok1 ?\n",
        "\n"
       ]
      },
      {
       "output_type": "stream",
       "stream": "stdout",
       "text": [
        "----\n",
        ">>  91\n",
        "addr :  12, Rue Lhomond Paris 75005 FRANCE\n",
        "loc : "
       ]
      },
      {
       "output_type": "stream",
       "stream": "stdout",
       "text": [
        " 12, Rue Lhomond, Val-de-Gr\u00e2ce, 5e, Paris, \u00cele-de-France, France m\u00e9tropolitaine, 75005, France\n"
       ]
      },
      {
       "name": "stdout",
       "output_type": "stream",
       "stream": "stdout",
       "text": [
        "ok1 ?\n",
        "\n"
       ]
      },
      {
       "output_type": "stream",
       "stream": "stdout",
       "text": [
        "----\n",
        ">>  92\n",
        "addr :  5 rue Henri Desbrueres eVRY F-91030 FRANCE\n",
        "loc : "
       ]
      },
      {
       "output_type": "stream",
       "stream": "stdout",
       "text": [
        " Rue Henri Desbru\u00e8res, Corbeil-Essonnes, \u00c9vry, Essonne, \u00cele-de-France, France m\u00e9tropolitaine, 91100, France\n"
       ]
      },
      {
       "name": "stdout",
       "output_type": "stream",
       "stream": "stdout",
       "text": [
        "ok1 ?\n",
        "\n"
       ]
      },
      {
       "output_type": "stream",
       "stream": "stdout",
       "text": [
        "----\n",
        ">>  93\n",
        "addr :  45 rue des Saints Peres MAP5 - Universite Paris Descartes Paris 75270 FRANCE\n",
        "loc : "
       ]
      },
      {
       "output_type": "stream",
       "stream": "stdout",
       "text": [
        " 45, Rue des Saints-P\u00e8res, Saint-Germain-des-Pr\u00e9s, Paris, \u00cele-de-France, France m\u00e9tropolitaine, 75006, France\n"
       ]
      },
      {
       "name": "stdout",
       "output_type": "stream",
       "stream": "stdout",
       "text": [
        "ok1 ?\n",
        "\n"
       ]
      },
      {
       "output_type": "stream",
       "stream": "stdout",
       "text": [
        "----\n",
        ">>  94\n",
        "addr :  20 rue Leblanc LRI - HEGP paris 75015 FRANCE\n",
        "loc : "
       ]
      },
      {
       "name": "stdout",
       "output_type": "stream",
       "stream": "stdout",
       "text": [
        "ok2 ?\n",
        "20 rue Leblanc paris\n"
       ]
      },
      {
       "output_type": "stream",
       "stream": "stdout",
       "text": [
        " addr :  20 rue Leblanc LRI - HEGP paris 75015 FRANCE\n",
        "loc : "
       ]
      },
      {
       "output_type": "stream",
       "stream": "stdout",
       "text": [
        " 20, Rue Leblanc, Javel, 15e, Paris, \u00cele-de-France, France m\u00e9tropolitaine, 75015, France\n"
       ]
      },
      {
       "name": "stdout",
       "output_type": "stream",
       "stream": "stdout",
       "text": [
        "ok1 ?\n",
        "\n"
       ]
      },
      {
       "output_type": "stream",
       "stream": "stdout",
       "text": [
        "----\n",
        ">>  95\n",
        "addr :  45 rue des Saints Peres Paris 75006 FRANCE\n",
        "loc : "
       ]
      },
      {
       "output_type": "stream",
       "stream": "stdout",
       "text": [
        " 45, Rue des Saints-P\u00e8res, Saint-Germain-des-Pr\u00e9s, Paris, \u00cele-de-France, France m\u00e9tropolitaine, 75006, France\n"
       ]
      },
      {
       "name": "stdout",
       "output_type": "stream",
       "stream": "stdout",
       "text": [
        "ok1 ?\n",
        "\n"
       ]
      },
      {
       "output_type": "stream",
       "stream": "stdout",
       "text": [
        "----\n",
        ">>  96\n",
        "addr :  11, avenue du tremblay Paris 75012 FRANCE\n",
        "loc : "
       ]
      },
      {
       "output_type": "stream",
       "stream": "stdout",
       "text": [
        " Avenue du Tremblay, Picpus, 12e, Paris, \u00cele-de-France, France m\u00e9tropolitaine, 75012, France\n"
       ]
      },
      {
       "name": "stdout",
       "output_type": "stream",
       "stream": "stdout",
       "text": [
        "ok1 ?\n",
        "\n"
       ]
      },
      {
       "output_type": "stream",
       "stream": "stdout",
       "text": [
        "----\n",
        ">>  97\n",
        "addr :  24 rue du Faubourg Saint Jacques Paris 75014 FRANCE\n",
        "loc : "
       ]
      },
      {
       "output_type": "stream",
       "stream": "stdout",
       "text": [
        " Rue du Faubourg, Fluqui\u00e8res, Saint-Quentin, Aisne, Picardie, France m\u00e9tropolitaine, 02590, France\n"
       ]
      },
      {
       "name": "stdout",
       "output_type": "stream",
       "stream": "stdout",
       "text": [
        "ok1 ?\n",
        "24 rue du Faubourg Saint Jacques Paris\n"
       ]
      },
      {
       "output_type": "stream",
       "stream": "stdout",
       "text": [
        "addr :  24 rue du Faubourg Saint Jacques Paris 75014 FRANCE\n",
        "loc : "
       ]
      },
      {
       "output_type": "stream",
       "stream": "stdout",
       "text": [
        " 24, Rue du Faubourg Saint-Jacques, Montparnasse, 14e, Paris, \u00cele-de-France, France m\u00e9tropolitaine, 75014, France\n"
       ]
      },
      {
       "name": "stdout",
       "output_type": "stream",
       "stream": "stdout",
       "text": [
        "ok1 ?\n",
        "\n"
       ]
      },
      {
       "output_type": "stream",
       "stream": "stdout",
       "text": [
        "----\n",
        ">>  98\n",
        "addr :  Universite paris diderot condorcet Paris 75013 FRANCE\n",
        "loc : "
       ]
      },
      {
       "output_type": "stream",
       "stream": "stdout",
       "text": [
        " Condorcet (Universit\u00e9 Paris Diderot), Quai Panhard et Levassor, Gare, 13e, Paris, \u00cele-de-France, France m\u00e9tropolitaine, 75013, France\n"
       ]
      },
      {
       "name": "stdout",
       "output_type": "stream",
       "stream": "stdout",
       "text": [
        "ok1 ?\n",
        "\n"
       ]
      },
      {
       "output_type": "stream",
       "stream": "stdout",
       "text": [
        "----\n",
        ">>  99\n",
        "addr :  11-13 rue Pierre et Marie Curie Laboratoire de Physico-Chimie Paris 75005 FRANCE\n",
        "loc : "
       ]
      },
      {
       "output_type": "stream",
       "stream": "stdout",
       "text": [
        " Rue Pierre et Marie, Portiragnes, B\u00e9ziers, H\u00e9rault, Languedoc-Roussillon, France m\u00e9tropolitaine, 34420, France\n"
       ]
      },
      {
       "name": "stdout",
       "output_type": "stream",
       "stream": "stdout",
       "text": [
        "ok1 ?\n",
        "11-13 rue Pierre et Marie Curie Paris\n"
       ]
      },
      {
       "output_type": "stream",
       "stream": "stdout",
       "text": [
        "addr :  11-13 rue Pierre et Marie Curie Laboratoire de Physico-Chimie Paris 75005 FRANCE\n",
        "loc : "
       ]
      },
      {
       "output_type": "stream",
       "stream": "stdout",
       "text": [
        " Rue Pierre et Marie Curie, Val-de-Gr\u00e2ce, 5e, Paris, \u00cele-de-France, France m\u00e9tropolitaine, 75005, France\n"
       ]
      },
      {
       "name": "stdout",
       "output_type": "stream",
       "stream": "stdout",
       "text": [
        "ok1 ?\n",
        "\n"
       ]
      },
      {
       "output_type": "stream",
       "stream": "stdout",
       "text": [
        "----\n",
        ">>  100\n",
        "addr :  28 Rue du Dr. Roux Paris 75015 FRANCE\n",
        "loc : "
       ]
      },
      {
       "output_type": "stream",
       "stream": "stdout",
       "text": [
        " rue du Dr Roux, Plateau, Dakar, 6288 11524, Senegal\n"
       ]
      },
      {
       "name": "stdout",
       "output_type": "stream",
       "stream": "stdout",
       "text": [
        "ok1 ?\n",
        "28 Rue du Docteur Roux Paris\n"
       ]
      },
      {
       "output_type": "stream",
       "stream": "stdout",
       "text": [
        "addr :  28 Rue du Dr. Roux Paris 75015 FRANCE\n",
        "loc : "
       ]
      },
      {
       "output_type": "stream",
       "stream": "stdout",
       "text": [
        " 28, Rue du Docteur Roux, Necker, 15e, Paris, \u00cele-de-France, France m\u00e9tropolitaine, 75015, France\n"
       ]
      },
      {
       "name": "stdout",
       "output_type": "stream",
       "stream": "stdout",
       "text": [
        "ok1 ?\n",
        "\n"
       ]
      },
      {
       "output_type": "stream",
       "stream": "stdout",
       "text": [
        "----\n",
        ">>  101\n",
        "addr :  25 Rue du Dr. Roux Paris 75015 FRANCE\n",
        "loc : "
       ]
      },
      {
       "output_type": "stream",
       "stream": "stdout",
       "text": [
        " rue du Dr Roux, Plateau, Dakar, 6288 11524, Senegal\n"
       ]
      },
      {
       "name": "stdout",
       "output_type": "stream",
       "stream": "stdout",
       "text": [
        "ok1 ?\n",
        "25 Rue du Docteur Roux Paris\n"
       ]
      },
      {
       "output_type": "stream",
       "stream": "stdout",
       "text": [
        "addr :  25 Rue du Dr. Roux Paris 75015 FRANCE\n",
        "loc : "
       ]
      },
      {
       "output_type": "stream",
       "stream": "stdout",
       "text": [
        " 25, Rue du Docteur Roux, Necker, 15e, Paris, \u00cele-de-France, France m\u00e9tropolitaine, 75015, France\n"
       ]
      },
      {
       "name": "stdout",
       "output_type": "stream",
       "stream": "stdout",
       "text": [
        "ok1 ?\n",
        "\n"
       ]
      },
      {
       "output_type": "stream",
       "stream": "stdout",
       "text": [
        "----\n",
        ">>  102\n",
        "addr :  4, avenue de l\ufffdObservatoire Paris 75270  06 FRANCE\n"
       ]
      },
      {
       "name": "stdout",
       "output_type": "stream",
       "stream": "stdout",
       "text": [
        "ok2 ?\n",
        "4, avenue de l'Observatoire PAris\n"
       ]
      },
      {
       "output_type": "stream",
       "stream": "stdout",
       "text": [
        "addr :  4, avenue de l\ufffdObservatoire Paris 75270  06 FRANCE\n",
        "loc : "
       ]
      },
      {
       "output_type": "stream",
       "stream": "stdout",
       "text": [
        " 4, Avenue de l'Observatoire, Od\u00e9on, 6e, Paris, \u00cele-de-France, France m\u00e9tropolitaine, 75006, France\n"
       ]
      },
      {
       "name": "stdout",
       "output_type": "stream",
       "stream": "stdout",
       "text": [
        "ok1 ?\n",
        "\n"
       ]
      },
      {
       "output_type": "stream",
       "stream": "stdout",
       "text": [
        "----\n",
        ">>  103\n",
        "addr :  56 rue leblanc Paris 15eme 75015 FRANCE\n",
        "loc : "
       ]
      },
      {
       "name": "stdout",
       "output_type": "stream",
       "stream": "stdout",
       "text": [
        "ok2 ?\n",
        "56 rue leblanc Paris\n"
       ]
      },
      {
       "output_type": "stream",
       "stream": "stdout",
       "text": [
        " addr :  56 rue leblanc Paris 15eme 75015 FRANCE\n",
        "loc : "
       ]
      },
      {
       "output_type": "stream",
       "stream": "stdout",
       "text": [
        " 56, Rue Leblanc, Javel, 15e, Paris, \u00cele-de-France, France m\u00e9tropolitaine, 75015, France\n"
       ]
      },
      {
       "name": "stdout",
       "output_type": "stream",
       "stream": "stdout",
       "text": [
        "ok1 ?\n",
        "\n"
       ]
      },
      {
       "output_type": "stream",
       "stream": "stdout",
       "text": [
        "----\n",
        ">>  104\n",
        "addr :  2ter rue Alesia Paris 14 75014 FRANCE\n",
        "loc : "
       ]
      },
      {
       "name": "stdout",
       "output_type": "stream",
       "stream": "stdout",
       "text": [
        "ok2 ?\n",
        "2ter rue Alesia Paris\n"
       ]
      },
      {
       "output_type": "stream",
       "stream": "stdout",
       "text": [
        " addr :  2ter rue Alesia Paris 14 75014 FRANCE\n",
        "loc : "
       ]
      },
      {
       "output_type": "stream",
       "stream": "stdout",
       "text": [
        " Al\u00e9sia, 14e, Paris, \u00cele-de-France, France m\u00e9tropolitaine, 75014, France\n"
       ]
      },
      {
       "name": "stdout",
       "output_type": "stream",
       "stream": "stdout",
       "text": [
        "ok1 ?\n",
        "2 rue Alesia Paris\n"
       ]
      },
      {
       "output_type": "stream",
       "stream": "stdout",
       "text": [
        "addr :  2ter rue Alesia Paris 14 75014 FRANCE\n",
        "loc : "
       ]
      },
      {
       "output_type": "stream",
       "stream": "stdout",
       "text": [
        " Al\u00e9sia, 14e, Paris, \u00cele-de-France, France m\u00e9tropolitaine, 75014, France\n"
       ]
      },
      {
       "name": "stdout",
       "output_type": "stream",
       "stream": "stdout",
       "text": [
        "ok1 ?\n",
        "2, rue Alesia Paris\n"
       ]
      },
      {
       "output_type": "stream",
       "stream": "stdout",
       "text": [
        "addr :  2ter rue Alesia Paris 14 75014 FRANCE\n",
        "loc : "
       ]
      },
      {
       "output_type": "stream",
       "stream": "stdout",
       "text": [
        " Paris/Al\u00e9sia/33, Rue d'Al\u00e9sia, Montsouris, Parc-Montsouris, 14e, Paris, \u00cele-de-France, France m\u00e9tropolitaine, 75014, France\n"
       ]
      },
      {
       "name": "stdout",
       "output_type": "stream",
       "stream": "stdout",
       "text": [
        "ok1 ?\n",
        "\n"
       ]
      },
      {
       "output_type": "stream",
       "stream": "stdout",
       "text": [
        "----\n",
        ">>  105\n",
        "addr :  1 av Pierre Brossolette Chilly-Mazarin 91385 FRANCE\n",
        "loc : "
       ]
      },
      {
       "output_type": "stream",
       "stream": "stdout",
       "text": [
        " Avenue Pierre Brossolette, Les Quatre Fourchettes, Chilly-Mazarin, Palaiseau, Essonne, \u00cele-de-France, France m\u00e9tropolitaine, 91380, France\n"
       ]
      },
      {
       "name": "stdout",
       "output_type": "stream",
       "stream": "stdout",
       "text": [
        "ok1 ?\n",
        "\n"
       ]
      },
      {
       "output_type": "stream",
       "stream": "stdout",
       "text": [
        "----\n",
        ">>  106\n",
        "addr :  Le Bois-Marie 35, route de Chartres Bures-sur-Yvette 91440 FRANCE\n",
        "loc : "
       ]
      },
      {
       "name": "stdout",
       "output_type": "stream",
       "stream": "stdout",
       "text": [
        "ok2 ?\n",
        "Le Bois-Marie\n"
       ]
      },
      {
       "output_type": "stream",
       "stream": "stdout",
       "text": [
        " addr :  Le Bois-Marie 35, route de Chartres Bures-sur-Yvette 91440 FRANCE\n",
        "loc : "
       ]
      },
      {
       "output_type": "stream",
       "stream": "stdout",
       "text": [
        " Le Bois Marie, Foug\u00e8res-Vitr\u00e9, Ille-et-Vilaine, Bretagne, France m\u00e9tropolitaine, France\n"
       ]
      },
      {
       "name": "stdout",
       "output_type": "stream",
       "stream": "stdout",
       "text": [
        "ok1 ?\n",
        "Le Bois-Marie route de Chartres Bures-sur-Yvette\n"
       ]
      },
      {
       "output_type": "stream",
       "stream": "stdout",
       "text": [
        "addr :  Le Bois-Marie 35, route de Chartres Bures-sur-Yvette 91440 FRANCE\n",
        "loc : "
       ]
      },
      {
       "name": "stdout",
       "output_type": "stream",
       "stream": "stdout",
       "text": [
        "ok2 ?\n",
        "route de Chartres Bures-sur-Yvette\n"
       ]
      },
      {
       "output_type": "stream",
       "stream": "stdout",
       "text": [
        " addr :  Le Bois-Marie 35, route de Chartres Bures-sur-Yvette 91440 FRANCE\n",
        "loc : "
       ]
      },
      {
       "output_type": "stream",
       "stream": "stdout",
       "text": [
        " Route de Chartres, Bures Cottage, Montjay, Bures-sur-Yvette, Palaiseau, Essonne, \u00cele-de-France, France m\u00e9tropolitaine, 91440, France\n"
       ]
      },
      {
       "name": "stdout",
       "output_type": "stream",
       "stream": "stdout",
       "text": [
        "ok1 ?\n",
        "\n"
       ]
      },
      {
       "output_type": "stream",
       "stream": "stdout",
       "text": [
        "----\n",
        ">>  107\n",
        "addr :  CEA Saclay Bat 144 Gif Sur Yvette  91191 FRANCE\n",
        "loc : "
       ]
      },
      {
       "name": "stdout",
       "output_type": "stream",
       "stream": "stdout",
       "text": [
        "ok2 ?\n",
        "CEA Saclay\n"
       ]
      },
      {
       "output_type": "stream",
       "stream": "stdout",
       "text": [
        " addr :  CEA Saclay Bat 144 Gif Sur Yvette  91191 FRANCE\n",
        "loc : "
       ]
      },
      {
       "output_type": "stream",
       "stream": "stdout",
       "text": [
        " CEA Saclay, Ferme d'Orsigny, Saclay, Palaiseau, Essonne, \u00cele-de-France, France m\u00e9tropolitaine, 91400, France\n"
       ]
      },
      {
       "name": "stdout",
       "output_type": "stream",
       "stream": "stdout",
       "text": [
        "ok1 ?\n",
        "\n"
       ]
      },
      {
       "output_type": "stream",
       "stream": "stdout",
       "text": [
        "----\n",
        ">>  108\n",
        "addr :  25 Rue du Dr. Roux Paris 75015 FRANCE\n",
        "loc : "
       ]
      },
      {
       "output_type": "stream",
       "stream": "stdout",
       "text": [
        " rue du Dr Roux, Plateau, Dakar, 6288 11524, Senegal\n"
       ]
      },
      {
       "name": "stdout",
       "output_type": "stream",
       "stream": "stdout",
       "text": [
        "ok1 ?\n",
        "25 Rue du Docteur Roux Paris\n"
       ]
      },
      {
       "output_type": "stream",
       "stream": "stdout",
       "text": [
        "addr :  25 Rue du Dr. Roux Paris 75015 FRANCE\n",
        "loc : "
       ]
      },
      {
       "output_type": "stream",
       "stream": "stdout",
       "text": [
        " 25, Rue du Docteur Roux, Necker, 15e, Paris, \u00cele-de-France, France m\u00e9tropolitaine, 75015, France\n"
       ]
      },
      {
       "name": "stdout",
       "output_type": "stream",
       "stream": "stdout",
       "text": [
        "ok1 ?\n",
        "\n"
       ]
      },
      {
       "output_type": "stream",
       "stream": "stdout",
       "text": [
        "----\n",
        ">>  109\n",
        "addr :  Papeete 98713 FRENCHPOLYNESIA\n",
        "loc : "
       ]
      },
      {
       "name": "stdout",
       "output_type": "stream",
       "stream": "stdout",
       "text": [
        "ok2 ?\n",
        "Papeete\n"
       ]
      },
      {
       "output_type": "stream",
       "stream": "stdout",
       "text": [
        " addr :  Papeete 98713 FRENCHPOLYNESIA\n",
        "loc : "
       ]
      },
      {
       "output_type": "stream",
       "stream": "stdout",
       "text": [
        " Papeete, \u00celes du Vent, Polyn\u00e9sie Fran\u00e7aise, 98714, Polyn\u00e9sie fran\u00e7aise, \u00celes du Vent (eaux territoriales)\n"
       ]
      },
      {
       "name": "stdout",
       "output_type": "stream",
       "stream": "stdout",
       "text": [
        "ok1 ?\n",
        "\n"
       ]
      },
      {
       "output_type": "stream",
       "stream": "stdout",
       "text": [
        "----\n",
        ">>  110\n",
        "addr :  26 rue d'Ulm Paris 75005 FRANCE\n",
        "loc : "
       ]
      },
      {
       "output_type": "stream",
       "stream": "stdout",
       "text": [
        " Rue d'Ulm, 5e Arrondissement, 5e, Paris, \u00cele-de-France, France m\u00e9tropolitaine, 75005, France\n"
       ]
      },
      {
       "name": "stdout",
       "output_type": "stream",
       "stream": "stdout",
       "text": [
        "ok1 ?\n",
        "\n"
       ]
      },
      {
       "output_type": "stream",
       "stream": "stdout",
       "text": [
        "----\n",
        ">>  111\n",
        "addr :  10 rue Vauquelin Paris 75005 FRANCE\n",
        "loc : "
       ]
      },
      {
       "output_type": "stream",
       "stream": "stdout",
       "text": [
        " ESPCI, 10, Rue Vauquelin, Val-de-Gr\u00e2ce, 5e, Paris, \u00cele-de-France, France m\u00e9tropolitaine, 75005, France\n"
       ]
      },
      {
       "name": "stdout",
       "output_type": "stream",
       "stream": "stdout",
       "text": [
        "ok1 ?\n",
        "\n"
       ]
      },
      {
       "output_type": "stream",
       "stream": "stdout",
       "text": [
        "----\n",
        ">>  112\n",
        "addr :  46 rue d'Ulm Paris 75 005 FRANCE\n",
        "loc : "
       ]
      },
      {
       "output_type": "stream",
       "stream": "stdout",
       "text": [
        " 46, Rue d'Ulm, Val-de-Gr\u00e2ce, 5e, Paris, \u00cele-de-France, France m\u00e9tropolitaine, 75005, France\n"
       ]
      },
      {
       "name": "stdout",
       "output_type": "stream",
       "stream": "stdout",
       "text": [
        "ok1 ?\n",
        "\n"
       ]
      },
      {
       "output_type": "stream",
       "stream": "stdout",
       "text": [
        "----\n",
        ">>  113\n",
        "addr :  Universite paris diderot condorcet Paris 75013 FRANCE\n",
        "loc : "
       ]
      },
      {
       "output_type": "stream",
       "stream": "stdout",
       "text": [
        " Condorcet (Universit\u00e9 Paris Diderot), Quai Panhard et Levassor, Gare, 13e, Paris, \u00cele-de-France, France m\u00e9tropolitaine, 75013, France\n"
       ]
      },
      {
       "name": "stdout",
       "output_type": "stream",
       "stream": "stdout",
       "text": [
        "ok1 ?\n",
        "\n"
       ]
      },
      {
       "output_type": "stream",
       "stream": "stdout",
       "text": [
        "----\n",
        ">>  114\n",
        "addr :  190-198, Avenue de France Paris  13 75244 FRANCE\n",
        "loc : "
       ]
      },
      {
       "output_type": "stream",
       "stream": "stdout",
       "text": [
        " Avenue de France, Gare, 13e, Paris, \u00cele-de-France, France m\u00e9tropolitaine, 75013, France\n"
       ]
      },
      {
       "name": "stdout",
       "output_type": "stream",
       "stream": "stdout",
       "text": [
        "ok1 ?\n",
        "198, Avenue de France Paris\n"
       ]
      },
      {
       "output_type": "stream",
       "stream": "stdout",
       "text": [
        "addr :  190-198, Avenue de France Paris  13 75244 FRANCE\n",
        "loc : "
       ]
      },
      {
       "output_type": "stream",
       "stream": "stdout",
       "text": [
        " 198, Avenue de France, Gare, 13e, Paris, \u00cele-de-France, France m\u00e9tropolitaine, 75013, France\n"
       ]
      },
      {
       "name": "stdout",
       "output_type": "stream",
       "stream": "stdout",
       "text": [
        "ok1 ?\n",
        "\n"
       ]
      },
      {
       "output_type": "stream",
       "stream": "stdout",
       "text": [
        "----\n",
        ">>  115\n",
        "addr :  Av. de la Terrasse Gif sur Yvette 91198 FRANCE\n",
        "loc : "
       ]
      },
      {
       "output_type": "stream",
       "stream": "stdout",
       "text": [
        " Avenue de la Terrasse, L'Abbaye, Damiette, Gif-sur-Yvette, Palaiseau, Essonne, \u00cele-de-France, France m\u00e9tropolitaine, 91190, France\n"
       ]
      },
      {
       "name": "stdout",
       "output_type": "stream",
       "stream": "stdout",
       "text": [
        "ok1 ?\n",
        "\n"
       ]
      },
      {
       "output_type": "stream",
       "stream": "stdout",
       "text": [
        "----\n",
        ">>  116\n",
        "addr :  25 rue Dr Roux Paris. 75724 FRANCE\n",
        "loc : "
       ]
      },
      {
       "name": "stdout",
       "output_type": "stream",
       "stream": "stdout",
       "text": [
        "ok2 ?\n",
        "25 rue Docteur Roux Paris\n"
       ]
      },
      {
       "output_type": "stream",
       "stream": "stdout",
       "text": [
        " addr :  25 rue Dr Roux Paris. 75724 FRANCE\n",
        "loc : "
       ]
      },
      {
       "output_type": "stream",
       "stream": "stdout",
       "text": [
        " Rue Docteur Roux, Champigny-sur-M., Nogent-sur-Marne, Val-de-Marne, \u00cele-de-France, France m\u00e9tropolitaine, 94500, France\n"
       ]
      },
      {
       "name": "stdout",
       "output_type": "stream",
       "stream": "stdout",
       "text": [
        "ok1 ?\n",
        "25, rue Docteur Roux Paris\n"
       ]
      },
      {
       "output_type": "stream",
       "stream": "stdout",
       "text": [
        "addr :  25 rue Dr Roux Paris. 75724 FRANCE\n",
        "loc : "
       ]
      },
      {
       "output_type": "stream",
       "stream": "stdout",
       "text": [
        " Rue Docteur Roux, Champigny-sur-M., Nogent-sur-Marne, Val-de-Marne, \u00cele-de-France, France m\u00e9tropolitaine, 94500, France\n"
       ]
      },
      {
       "name": "stdout",
       "output_type": "stream",
       "stream": "stdout",
       "text": [
        "ok1 ?\n",
        "25 rue Docteur Roux, Paris\n"
       ]
      },
      {
       "output_type": "stream",
       "stream": "stdout",
       "text": [
        "addr :  25 rue Dr Roux Paris. 75724 FRANCE\n",
        "loc : "
       ]
      },
      {
       "output_type": "stream",
       "stream": "stdout",
       "text": [
        " Rue Docteur Roux, Champigny-sur-M., Nogent-sur-Marne, Val-de-Marne, \u00cele-de-France, France m\u00e9tropolitaine, 94500, France\n"
       ]
      },
      {
       "name": "stdout",
       "output_type": "stream",
       "stream": "stdout",
       "text": [
        "ok1 ?\n",
        "25, rue Docteur Roux, Paris\n"
       ]
      },
      {
       "output_type": "stream",
       "stream": "stdout",
       "text": [
        "addr :  25 rue Dr Roux Paris. 75724 FRANCE\n",
        "loc : "
       ]
      },
      {
       "output_type": "stream",
       "stream": "stdout",
       "text": [
        " Rue Docteur Roux, Champigny-sur-M., Nogent-sur-Marne, Val-de-Marne, \u00cele-de-France, France m\u00e9tropolitaine, 94500, France\n"
       ]
      },
      {
       "name": "stdout",
       "output_type": "stream",
       "stream": "stdout",
       "text": [
        "ok1 ?\n",
        "25 Rue du Docteur Roux Paris\n"
       ]
      },
      {
       "output_type": "stream",
       "stream": "stdout",
       "text": [
        "addr :  25 rue Dr Roux Paris. 75724 FRANCE\n",
        "loc : "
       ]
      },
      {
       "output_type": "stream",
       "stream": "stdout",
       "text": [
        " 25, Rue du Docteur Roux, Necker, 15e, Paris, \u00cele-de-France, France m\u00e9tropolitaine, 75015, France\n"
       ]
      },
      {
       "name": "stdout",
       "output_type": "stream",
       "stream": "stdout",
       "text": [
        "ok1 ?\n",
        "\n"
       ]
      },
      {
       "output_type": "stream",
       "stream": "stdout",
       "text": [
        "----\n",
        ">>  117\n",
        "addr :  25 rue du Docteur Roux Paris 75524 FRANCE\n",
        "loc : "
       ]
      },
      {
       "output_type": "stream",
       "stream": "stdout",
       "text": [
        " 25, Rue du Docteur Roux, Necker, 15e, Paris, \u00cele-de-France, France m\u00e9tropolitaine, 75015, France\n"
       ]
      },
      {
       "name": "stdout",
       "output_type": "stream",
       "stream": "stdout",
       "text": [
        "ok1 ?\n",
        "\n"
       ]
      },
      {
       "output_type": "stream",
       "stream": "stdout",
       "text": [
        "----\n",
        ">>  118\n",
        "addr :  1, Avenue du Petit Chateau Brunoy 91800 FRANCE\n",
        "loc : "
       ]
      },
      {
       "output_type": "stream",
       "stream": "stdout",
       "text": [
        " Avenue du Petit Ch\u00e2teau, Le Petit Ch\u00e2teau, Brunoy, \u00c9vry, Essonne, \u00cele-de-France, France m\u00e9tropolitaine, 91800, France\n"
       ]
      },
      {
       "name": "stdout",
       "output_type": "stream",
       "stream": "stdout",
       "text": [
        "ok1 ?\n",
        "\n"
       ]
      },
      {
       "output_type": "stream",
       "stream": "stdout",
       "text": [
        "----\n",
        ">>  120\n",
        "addr :  47 Bld de l'Hopital GH Pitie-Salpetriere - Batiment ICM Paris 75651 Paris  13 FRANCE\n",
        "loc : "
       ]
      },
      {
       "name": "stdout",
       "output_type": "stream",
       "stream": "stdout",
       "text": [
        "ok2 ?\n",
        "47 Boulevard de l'Hopital Paris\n"
       ]
      },
      {
       "output_type": "stream",
       "stream": "stdout",
       "text": [
        " addr :  47 Bld de l'Hopital GH Pitie-Salpetriere - Batiment ICM Paris 75651 Paris  13 FRANCE\n",
        "loc : "
       ]
      },
      {
       "output_type": "stream",
       "stream": "stdout",
       "text": [
        " 47, Boulevard de l'H\u00f4pital, Salp\u00eatri\u00e8re, 13e, Paris, \u00cele-de-France, France m\u00e9tropolitaine, 75013, France\n"
       ]
      },
      {
       "name": "stdout",
       "output_type": "stream",
       "stream": "stdout",
       "text": [
        "ok1 ?\n",
        "\n"
       ]
      },
      {
       "output_type": "stream",
       "stream": "stdout",
       "text": [
        "----\n",
        ">>  121\n",
        "addr :  4, place Jussieu Laboratoire d'Oceanographie et du Climat: Experimentations et approches numeriques. Paris 75252  5 FRANCE\n",
        "loc : "
       ]
      },
      {
       "name": "stdout",
       "output_type": "stream",
       "stream": "stdout",
       "text": [
        "ok2 ?\n",
        "4, place Jussieu Paris\n"
       ]
      },
      {
       "output_type": "stream",
       "stream": "stdout",
       "text": [
        " addr :  4, place Jussieu Laboratoire d'Oceanographie et du Climat: Experimentations et approches numeriques. Paris 75252  5 FRANCE\n",
        "loc : "
       ]
      },
      {
       "output_type": "stream",
       "stream": "stdout",
       "text": [
        " 4, Place Jussieu, St-Victor, 5e, Paris, \u00cele-de-France, France m\u00e9tropolitaine, 75005, France\n"
       ]
      },
      {
       "name": "stdout",
       "output_type": "stream",
       "stream": "stdout",
       "text": [
        "ok1 ?\n",
        "\n"
       ]
      },
      {
       "output_type": "stream",
       "stream": "stdout",
       "text": [
        "----\n",
        ">>  122\n",
        "addr :  8 rue Buffon UMR 7207 - CR2P Paris 75005 FRANCE\n",
        "loc : "
       ]
      },
      {
       "name": "stdout",
       "output_type": "stream",
       "stream": "stdout",
       "text": [
        "ok2 ?\n",
        "8 rue Buffon  Paris\n"
       ]
      },
      {
       "output_type": "stream",
       "stream": "stdout",
       "text": [
        " addr :  8 rue Buffon UMR 7207 - CR2P Paris 75005 FRANCE\n",
        "loc : "
       ]
      },
      {
       "output_type": "stream",
       "stream": "stdout",
       "text": [
        " Rue Buffon, Jardin des Plantes, 5e, Paris, \u00cele-de-France, France m\u00e9tropolitaine, 75005, France\n"
       ]
      },
      {
       "name": "stdout",
       "output_type": "stream",
       "stream": "stdout",
       "text": [
        "ok1 ?\n",
        "8, rue Buffon Paris\n"
       ]
      },
      {
       "output_type": "stream",
       "stream": "stdout",
       "text": [
        "addr :  8 rue Buffon UMR 7207 - CR2P Paris 75005 FRANCE\n",
        "loc : "
       ]
      },
      {
       "output_type": "stream",
       "stream": "stdout",
       "text": [
        " Rue Buffon, Jardin des Plantes, 5e, Paris, \u00cele-de-France, France m\u00e9tropolitaine, 75005, France\n"
       ]
      },
      {
       "name": "stdout",
       "output_type": "stream",
       "stream": "stdout",
       "text": [
        "ok1 ?\n",
        "\n"
       ]
      },
      {
       "output_type": "stream",
       "stream": "stdout",
       "text": [
        "----\n",
        ">>  123\n",
        "addr :  26 rue d'Ulm PARIS  05 75248 FRANCE\n",
        "loc : "
       ]
      },
      {
       "name": "stdout",
       "output_type": "stream",
       "stream": "stdout",
       "text": [
        "ok2 ?\n",
        "26, rue d'Ulm PARIS\n"
       ]
      },
      {
       "output_type": "stream",
       "stream": "stdout",
       "text": [
        " addr :  26 rue d'Ulm PARIS  05 75248 FRANCE\n",
        "loc : "
       ]
      },
      {
       "output_type": "stream",
       "stream": "stdout",
       "text": [
        " Rue d'Ulm, 5e Arrondissement, 5e, Paris, \u00cele-de-France, France m\u00e9tropolitaine, 75005, France\n"
       ]
      },
      {
       "name": "stdout",
       "output_type": "stream",
       "stream": "stdout",
       "text": [
        "ok1 ?\n",
        "\n"
       ]
      },
      {
       "output_type": "stream",
       "stream": "stdout",
       "text": [
        "----\n",
        ">>  124\n",
        "addr :  25, rue du Docteur Roux Paris 75015 FRANCE\n",
        "loc : "
       ]
      },
      {
       "output_type": "stream",
       "stream": "stdout",
       "text": [
        " 25, Rue du Docteur Roux, Necker, 15e, Paris, \u00cele-de-France, France m\u00e9tropolitaine, 75015, France\n"
       ]
      },
      {
       "name": "stdout",
       "output_type": "stream",
       "stream": "stdout",
       "text": [
        "ok1 ?\n",
        "\n"
       ]
      },
      {
       "output_type": "stream",
       "stream": "stdout",
       "text": [
        "----\n",
        ">>  125\n",
        "addr :  10 rue Vauquelin  75005 Paris Paris 75005 FRANCE\n",
        "loc : "
       ]
      },
      {
       "output_type": "stream",
       "stream": "stdout",
       "text": [
        " ESPCI, 10, Rue Vauquelin, Val-de-Gr\u00e2ce, 5e, Paris, \u00cele-de-France, France m\u00e9tropolitaine, 75005, France\n"
       ]
      },
      {
       "name": "stdout",
       "output_type": "stream",
       "stream": "stdout",
       "text": [
        "ok1 ?\n",
        "\n"
       ]
      },
      {
       "output_type": "stream",
       "stream": "stdout",
       "text": [
        "----\n",
        ">>  126\n",
        "addr :  25-28, rue du Docteur Roux Paris 75724 FRANCE\n",
        "loc : "
       ]
      },
      {
       "output_type": "stream",
       "stream": "stdout",
       "text": [
        " Rue du Docteur Roux, Necker, 15e, Paris, \u00cele-de-France, France m\u00e9tropolitaine, 75015, France\n"
       ]
      },
      {
       "name": "stdout",
       "output_type": "stream",
       "stream": "stdout",
       "text": [
        "ok1 ?\n",
        "\n"
       ]
      },
      {
       "output_type": "stream",
       "stream": "stdout",
       "text": [
        "----\n",
        ">>  127\n",
        "addr :  10 Rue Vauquelin Paris 75005 FRANCE\n",
        "loc : "
       ]
      },
      {
       "output_type": "stream",
       "stream": "stdout",
       "text": [
        " ESPCI, 10, Rue Vauquelin, Val-de-Gr\u00e2ce, 5e, Paris, \u00cele-de-France, France m\u00e9tropolitaine, 75005, France\n"
       ]
      },
      {
       "name": "stdout",
       "output_type": "stream",
       "stream": "stdout",
       "text": [
        "ok1 ?\n",
        "\n"
       ]
      },
      {
       "output_type": "stream",
       "stream": "stdout",
       "text": [
        "----\n",
        ">>  128\n",
        "addr :  Buffon (Universite Paris Diderot) Institut Jacques Monod - Bat. Buffon Paris  13 75205 FRANCE\n",
        "loc : "
       ]
      },
      {
       "name": "stdout",
       "output_type": "stream",
       "stream": "stdout",
       "text": [
        "ok2 ?\n",
        "Buffon (Universite Paris Diderot)\n"
       ]
      },
      {
       "output_type": "stream",
       "stream": "stdout",
       "text": [
        " addr :  Buffon (Universite Paris Diderot) Institut Jacques Monod - Bat. Buffon Paris  13 75205 FRANCE\n",
        "loc : "
       ]
      },
      {
       "output_type": "stream",
       "stream": "stdout",
       "text": [
        " Buffon (Universit\u00e9 Paris Diderot), Rue Alice Domont et L\u00e9onie Duquet, Gare, 13e, Paris, \u00cele-de-France, France m\u00e9tropolitaine, 75013, France\n"
       ]
      },
      {
       "name": "stdout",
       "output_type": "stream",
       "stream": "stdout",
       "text": [
        "ok1 ?\n",
        "\n"
       ]
      },
      {
       "output_type": "stream",
       "stream": "stdout",
       "text": [
        "----\n",
        ">>  129\n",
        "addr :  Buffon (Universite Paris Diderot) Paris 75013 FRANCE\n",
        "loc : "
       ]
      },
      {
       "output_type": "stream",
       "stream": "stdout",
       "text": [
        " Buffon (Universit\u00e9 Paris Diderot), Rue Alice Domont et L\u00e9onie Duquet, Gare, 13e, Paris, \u00cele-de-France, France m\u00e9tropolitaine, 75013, France\n"
       ]
      },
      {
       "name": "stdout",
       "output_type": "stream",
       "stream": "stdout",
       "text": [
        "ok1 ?\n",
        "\n"
       ]
      },
      {
       "output_type": "stream",
       "stream": "stdout",
       "text": [
        "----\n",
        ">>  130\n",
        "addr :  45 rue des Saints Peres 75006 75006 FRANCE\n",
        "loc : "
       ]
      },
      {
       "output_type": "stream",
       "stream": "stdout",
       "text": [
        " 45, Rue des Saints-P\u00e8res, Saint-Germain-des-Pr\u00e9s, Paris, \u00cele-de-France, France m\u00e9tropolitaine, 75006, France\n"
       ]
      },
      {
       "name": "stdout",
       "output_type": "stream",
       "stream": "stdout",
       "text": [
        "ok1 ?\n",
        "\n"
       ]
      },
      {
       "output_type": "stream",
       "stream": "stdout",
       "text": [
        "----\n",
        ">>  131\n",
        "addr :   45 rue des Saints Peres Paris 75006 FRANCE\n"
       ]
      },
      {
       "name": "stdout",
       "output_type": "stream",
       "stream": "stdout",
       "text": [
        "ok2 ?\n",
        "45 rue des Saints Peres Paris\n"
       ]
      },
      {
       "output_type": "stream",
       "stream": "stdout",
       "text": [
        "addr :   45 rue des Saints Peres Paris 75006 FRANCE\n",
        "loc : "
       ]
      },
      {
       "output_type": "stream",
       "stream": "stdout",
       "text": [
        " 45, Rue des Saints-P\u00e8res, Saint-Germain-des-Pr\u00e9s, Paris, \u00cele-de-France, France m\u00e9tropolitaine, 75006, France\n"
       ]
      },
      {
       "name": "stdout",
       "output_type": "stream",
       "stream": "stdout",
       "text": [
        "ok1 ?\n",
        "\n"
       ]
      },
      {
       "output_type": "stream",
       "stream": "stdout",
       "text": [
        "----\n",
        ">>  132\n",
        "addr :  156, rue de de Vaugirard Site Necker U1001 Faculte 2eme etage Paris 75015 FRANCE\n",
        "loc : "
       ]
      },
      {
       "name": "stdout",
       "output_type": "stream",
       "stream": "stdout",
       "text": [
        "ok2 ?\n",
        "156, rue de de Vaugirard Paris\n"
       ]
      },
      {
       "output_type": "stream",
       "stream": "stdout",
       "text": [
        " addr :  156, rue de de Vaugirard Site Necker U1001 Faculte 2eme etage Paris 75015 FRANCE\n",
        "loc : "
       ]
      },
      {
       "name": "stdout",
       "output_type": "stream",
       "stream": "stdout",
       "text": [
        "ok2 ?\n",
        "156, rue de de Vaugirard, Paris\n"
       ]
      },
      {
       "output_type": "stream",
       "stream": "stdout",
       "text": [
        " addr :  156, rue de de Vaugirard Site Necker U1001 Faculte 2eme etage Paris 75015 FRANCE\n",
        "loc : "
       ]
      },
      {
       "name": "stdout",
       "output_type": "stream",
       "stream": "stdout",
       "text": [
        "ok2 ?\n",
        "156, rue de Vaugirard Paris\n"
       ]
      },
      {
       "output_type": "stream",
       "stream": "stdout",
       "text": [
        " addr :  156, rue de de Vaugirard Site Necker U1001 Faculte 2eme etage Paris 75015 FRANCE\n",
        "loc : "
       ]
      },
      {
       "output_type": "stream",
       "stream": "stdout",
       "text": [
        " 156, Rue de Vaugirard, St-Lambert, 15e, Paris, \u00cele-de-France, France m\u00e9tropolitaine, 75015, France\n"
       ]
      },
      {
       "name": "stdout",
       "output_type": "stream",
       "stream": "stdout",
       "text": [
        "ok1 ?\n",
        "\n"
       ]
      },
      {
       "output_type": "stream",
       "stream": "stdout",
       "text": [
        "----\n",
        ">>  133\n",
        "addr :  2325, rue de l'Universite Quebec (Quebec) G1V 0A6 CANADA\n",
        "loc : "
       ]
      },
      {
       "output_type": "stream",
       "stream": "stdout",
       "text": [
        " Fou \u00c6LI\u00c9S, 2325, Rue de l'Universit\u00e9, Sillery, Qu\u00e9bec, G1V1T1, Canada\n"
       ]
      },
      {
       "name": "stdout",
       "output_type": "stream",
       "stream": "stdout",
       "text": [
        "ok1 ?\n",
        "2325, rue de l'Universite Quebec\n"
       ]
      },
      {
       "output_type": "stream",
       "stream": "stdout",
       "text": [
        "addr :  2325, rue de l'Universite Quebec (Quebec) G1V 0A6 CANADA\n",
        "loc : "
       ]
      },
      {
       "output_type": "stream",
       "stream": "stdout",
       "text": [
        " Fou \u00c6LI\u00c9S, 2325, Rue de l'Universit\u00e9, Sillery, Qu\u00e9bec, G1V1T1, Canada\n"
       ]
      },
      {
       "name": "stdout",
       "output_type": "stream",
       "stream": "stdout",
       "text": [
        "ok1 ?\n",
        "\n"
       ]
      },
      {
       "output_type": "stream",
       "stream": "stdout",
       "text": [
        "----\n",
        ">>  134\n",
        "addr :  Centre Pierre Guillaumat BP 60319 Compiegne 60203  FRANCE\n",
        "loc : "
       ]
      },
      {
       "name": "stdout",
       "output_type": "stream",
       "stream": "stdout",
       "text": [
        "ok2 ?\n",
        "Centre Pierre Guillaumat\n"
       ]
      },
      {
       "output_type": "stream",
       "stream": "stdout",
       "text": [
        " addr :  Centre Pierre Guillaumat BP 60319 Compiegne 60203  FRANCE\n",
        "loc : "
       ]
      },
      {
       "output_type": "stream",
       "stream": "stdout",
       "text": [
        " Rond-Point Pierre Guillaumat, Rangueil, Sauzelong, Pech David, Pouvourville, Toulouse Sud-Est, Toulouse, Haute-Garonne, Midi-Pyr\u00e9n\u00e9es, France m\u00e9tropolitaine, 31000;31100;31200;31300;31400;31500, France\n"
       ]
      },
      {
       "name": "stdout",
       "output_type": "stream",
       "stream": "stdout",
       "text": [
        "ok1 ?\n",
        "60319 Compiegne\n"
       ]
      },
      {
       "output_type": "stream",
       "stream": "stdout",
       "text": [
        "addr :  Centre Pierre Guillaumat BP 60319 Compiegne 60203  FRANCE\n",
        "loc : "
       ]
      },
      {
       "output_type": "stream",
       "stream": "stdout",
       "text": [
        " Compi\u00e8gne, Oise, Picardie, France m\u00e9tropolitaine, 60200, France\n"
       ]
      },
      {
       "name": "stdout",
       "output_type": "stream",
       "stream": "stdout",
       "text": [
        "ok1 ?\n",
        "Rue du Dr Schweitzer 60200 Compi\u00e8gne\n"
       ]
      },
      {
       "output_type": "stream",
       "stream": "stdout",
       "text": [
        "addr :  Centre Pierre Guillaumat BP 60319 Compiegne 60203  FRANCE\n",
        "loc : "
       ]
      },
      {
       "name": "stdout",
       "output_type": "stream",
       "stream": "stdout",
       "text": [
        "ok2 ?\n",
        "Rue du Docteur Schweitzer 60200 Compi\u00e8gne\n"
       ]
      },
      {
       "output_type": "stream",
       "stream": "stdout",
       "text": [
        " addr :  Centre Pierre Guillaumat BP 60319 Compiegne 60203  FRANCE\n",
        "loc : "
       ]
      },
      {
       "output_type": "stream",
       "stream": "stdout",
       "text": [
        " Rue du Docteur Schweitzer, Royallieu Village, Compi\u00e8gne, Oise, Picardie, France m\u00e9tropolitaine, 60200, France\n"
       ]
      },
      {
       "name": "stdout",
       "output_type": "stream",
       "stream": "stdout",
       "text": [
        "ok1 ?\n",
        "\n"
       ]
      },
      {
       "output_type": "stream",
       "stream": "stdout",
       "text": [
        "----\n",
        ">>  135\n",
        "addr :  1, rue Maurice Arnoux Montrouge 92120 FRANCE\n",
        "loc : "
       ]
      },
      {
       "output_type": "stream",
       "stream": "stdout",
       "text": [
        " \u00c9cole normale sup\u00e9rieure, 1, Rue Maurice Arnoux, Montrouge, Antony, Hauts-de-Seine, \u00cele-de-France, France m\u00e9tropolitaine, 92120, France\n"
       ]
      },
      {
       "name": "stdout",
       "output_type": "stream",
       "stream": "stdout",
       "text": [
        "ok1 ?\n",
        "\n"
       ]
      },
      {
       "output_type": "stream",
       "stream": "stdout",
       "text": [
        "----\n",
        ">>  136\n",
        "addr :  1, rue Maurice-Arnoux Montrouge 92120\n",
        "loc : "
       ]
      },
      {
       "output_type": "stream",
       "stream": "stdout",
       "text": [
        " \u00c9cole normale sup\u00e9rieure, 1, Rue Maurice Arnoux, Montrouge, Antony, Hauts-de-Seine, \u00cele-de-France, France m\u00e9tropolitaine, 92120, France\n"
       ]
      },
      {
       "name": "stdout",
       "output_type": "stream",
       "stream": "stdout",
       "text": [
        "ok1 ?\n",
        "\n"
       ]
      },
      {
       "output_type": "stream",
       "stream": "stdout",
       "text": [
        "----\n",
        ">>  137\n",
        "addr :  2 rue de la Liberte Universite Paris 8 Saint Denis 93200 FRANCE\n",
        "loc : "
       ]
      },
      {
       "output_type": "stream",
       "stream": "stdout",
       "text": [
        " 2, Rue de la Libert\u00e9, Am\u00e9rique, 19e, Paris, \u00cele-de-France, France m\u00e9tropolitaine, 75019, France\n"
       ]
      },
      {
       "name": "stdout",
       "output_type": "stream",
       "stream": "stdout",
       "text": [
        "ok1 ?\n",
        "2 rue de la Liberte, Saint Denis\n"
       ]
      },
      {
       "output_type": "stream",
       "stream": "stdout",
       "text": [
        "addr :  2 rue de la Liberte Universite Paris 8 Saint Denis 93200 FRANCE\n",
        "loc : "
       ]
      },
      {
       "output_type": "stream",
       "stream": "stdout",
       "text": [
        " Rue de la Libert\u00e9, Saint-Denis, Seine-Saint-Denis, \u00cele-de-France, France m\u00e9tropolitaine, 93200;93210, France\n"
       ]
      },
      {
       "name": "stdout",
       "output_type": "stream",
       "stream": "stdout",
       "text": [
        "ok1 ?\n",
        "\n"
       ]
      },
      {
       "output_type": "stream",
       "stream": "stdout",
       "text": [
        "----\n",
        ">>  138\n",
        "addr :  1, place Igor-Stravinsky Paris 75004 FRANCE\n",
        "loc : "
       ]
      },
      {
       "output_type": "stream",
       "stream": "stdout",
       "text": [
        " Place Igor Stravinsky, Beaubourg, St-Merri, 4e, Paris, \u00cele-de-France, France m\u00e9tropolitaine, 75004, France\n"
       ]
      },
      {
       "name": "stdout",
       "output_type": "stream",
       "stream": "stdout",
       "text": [
        "ok1 ?\n",
        "\n"
       ]
      },
      {
       "output_type": "stream",
       "stream": "stdout",
       "text": [
        "----\n",
        ">>  139\n",
        "addr :  47 bvd de l'hopital Hopital Pitie Salpetriere Paris 75013 FRANCE\n",
        "loc : "
       ]
      },
      {
       "output_type": "stream",
       "stream": "stdout",
       "text": [
        " H\u00f4pital Ignace Deen, Boulevard de Boulbinet, Camayenne, Conakry, Guin\u00e9e\n"
       ]
      },
      {
       "name": "stdout",
       "output_type": "stream",
       "stream": "stdout",
       "text": [
        "ok1 ?\n",
        "47 boulevard de l'hopital Paris\n"
       ]
      },
      {
       "output_type": "stream",
       "stream": "stdout",
       "text": [
        "addr :  47 bvd de l'hopital Hopital Pitie Salpetriere Paris 75013 FRANCE\n",
        "loc : "
       ]
      },
      {
       "output_type": "stream",
       "stream": "stdout",
       "text": [
        " 47, Boulevard de l'H\u00f4pital, Salp\u00eatri\u00e8re, 13e, Paris, \u00cele-de-France, France m\u00e9tropolitaine, 75013, France\n"
       ]
      },
      {
       "name": "stdout",
       "output_type": "stream",
       "stream": "stdout",
       "text": [
        "ok1 ?\n",
        "\n"
       ]
      },
      {
       "output_type": "stream",
       "stream": "stdout",
       "text": [
        "----\n",
        ">>  140\n",
        "addr :  9 South Parks Road Tinbergen Building Oxford OX1 3UD UNITED KINGDOM\n",
        "loc : "
       ]
      },
      {
       "name": "stdout",
       "output_type": "stream",
       "stream": "stdout",
       "text": [
        "ok2 ?\n",
        "9 South Parks Road Tinbergen Oxford\n"
       ]
      },
      {
       "output_type": "stream",
       "stream": "stdout",
       "text": [
        " addr :  9 South Parks Road Tinbergen Building Oxford OX1 3UD UNITED KINGDOM\n",
        "loc : "
       ]
      },
      {
       "name": "stdout",
       "output_type": "stream",
       "stream": "stdout",
       "text": [
        "ok2 ?\n",
        "9, South Parks Road Tinbergen\n"
       ]
      },
      {
       "output_type": "stream",
       "stream": "stdout",
       "text": [
        " addr :  9 South Parks Road Tinbergen Building Oxford OX1 3UD UNITED KINGDOM\n",
        "loc : "
       ]
      },
      {
       "name": "stdout",
       "output_type": "stream",
       "stream": "stdout",
       "text": [
        "ok2 ?\n",
        "Road Tinbergen Oxford\n"
       ]
      },
      {
       "output_type": "stream",
       "stream": "stdout",
       "text": [
        " addr :  9 South Parks Road Tinbergen Building Oxford OX1 3UD UNITED KINGDOM\n",
        "loc : "
       ]
      },
      {
       "output_type": "stream",
       "stream": "stdout",
       "text": [
        " Tinbergen Building, St Cross Road, Norham Manor, Oxford, Oxon, South East, England, OX1 3UL, United Kingdom\n"
       ]
      },
      {
       "name": "stdout",
       "output_type": "stream",
       "stream": "stdout",
       "text": [
        "ok1 ?\n",
        "\n"
       ]
      },
      {
       "output_type": "stream",
       "stream": "stdout",
       "text": [
        "----\n",
        ">>  141\n",
        "addr :  16 rue Henri Huchard Sorbonne Paris Cite, Faculte de Medecine Paris 75018 FRANCE\n",
        "loc : "
       ]
      },
      {
       "name": "stdout",
       "output_type": "stream",
       "stream": "stdout",
       "text": [
        "ok2 ?\n",
        "16 rue Henri Huchard, Paris\n"
       ]
      },
      {
       "output_type": "stream",
       "stream": "stdout",
       "text": [
        " addr :  16 rue Henri Huchard Sorbonne Paris Cite, Faculte de Medecine Paris 75018 FRANCE\n",
        "loc : "
       ]
      },
      {
       "output_type": "stream",
       "stream": "stdout",
       "text": [
        " Rue Henri Huchard, Grandes-Carri\u00e8res, 18e, Paris, \u00cele-de-France, France m\u00e9tropolitaine, 75018, France\n"
       ]
      },
      {
       "name": "stdout",
       "output_type": "stream",
       "stream": "stdout",
       "text": [
        "ok1 ?\n",
        "\n"
       ]
      },
      {
       "output_type": "stream",
       "stream": "stdout",
       "text": [
        "----\n",
        ">>  142\n",
        "addr :  10 Rue Vauquelin ESPCI Paris 75005 FRANCE\n",
        "loc : "
       ]
      },
      {
       "name": "stdout",
       "output_type": "stream",
       "stream": "stdout",
       "text": [
        "ok2 ?\n",
        "ESPCI\n"
       ]
      },
      {
       "output_type": "stream",
       "stream": "stdout",
       "text": [
        " addr :  10 Rue Vauquelin ESPCI Paris 75005 FRANCE\n",
        "loc : "
       ]
      },
      {
       "output_type": "stream",
       "stream": "stdout",
       "text": [
        " ESPCI, 10, Rue Vauquelin, Val-de-Gr\u00e2ce, 5e, Paris, \u00cele-de-France, France m\u00e9tropolitaine, 75005, France\n"
       ]
      },
      {
       "name": "stdout",
       "output_type": "stream",
       "stream": "stdout",
       "text": [
        "ok1 ?\n",
        "\n"
       ]
      },
      {
       "output_type": "stream",
       "stream": "stdout",
       "text": [
        "----\n",
        ">>  143\n",
        "addr :  56 rue Leblanc Paris - Centre de recherche Cardiovasculaire a l\ufffdHEGP  Inserm - UMR 970 Paris 75015 FRANCE\n",
        "loc : "
       ]
      },
      {
       "output_type": "stream",
       "stream": "stdout",
       "text": [
        " 56, Rue Leblanc, Javel, 15e, Paris, \u00cele-de-France, France m\u00e9tropolitaine, 75015, France\n"
       ]
      },
      {
       "name": "stdout",
       "output_type": "stream",
       "stream": "stdout",
       "text": [
        "ok1 ?\n",
        "\n"
       ]
      },
      {
       "output_type": "stream",
       "stream": "stdout",
       "text": [
        "----\n",
        ">>  144\n",
        "addr :  24 rue Lhomond Paris 75005 FRANCE\n",
        "loc : "
       ]
      },
      {
       "output_type": "stream",
       "stream": "stdout",
       "text": [
        " 24, Rue Lhomond, Val-de-Gr\u00e2ce, 5e, Paris, \u00cele-de-France, France m\u00e9tropolitaine, 75005, France\n"
       ]
      },
      {
       "name": "stdout",
       "output_type": "stream",
       "stream": "stdout",
       "text": [
        "ok1 ?\n",
        "\n"
       ]
      },
      {
       "output_type": "stream",
       "stream": "stdout",
       "text": [
        "----\n",
        ">>  145\n",
        "addr :  46 rue d'Ulm PARIS  05 F-75230 FRANCE\n",
        "loc : "
       ]
      },
      {
       "name": "stdout",
       "output_type": "stream",
       "stream": "stdout",
       "text": [
        "ok2 ?\n",
        "46, rue d'Ulm PARIS\n"
       ]
      },
      {
       "output_type": "stream",
       "stream": "stdout",
       "text": [
        " addr :  46 rue d'Ulm PARIS  05 F-75230 FRANCE\n",
        "loc : "
       ]
      },
      {
       "output_type": "stream",
       "stream": "stdout",
       "text": [
        " 46, Rue d'Ulm, Val-de-Gr\u00e2ce, 5e, Paris, \u00cele-de-France, France m\u00e9tropolitaine, 75005, France\n"
       ]
      },
      {
       "name": "stdout",
       "output_type": "stream",
       "stream": "stdout",
       "text": [
        "ok1 ?\n",
        "\n"
       ]
      },
      {
       "output_type": "stream",
       "stream": "stdout",
       "text": [
        "----\n",
        ">>  146\n",
        "addr :  Equipe Plante Thiverval Grignon F - 78850 FRANCE\n",
        "loc : "
       ]
      },
      {
       "name": "stdout",
       "output_type": "stream",
       "stream": "stdout",
       "text": [
        "ok2 ?\n",
        "Thiverval Grignon\n"
       ]
      },
      {
       "output_type": "stream",
       "stream": "stdout",
       "text": [
        " addr :  Equipe Plante Thiverval Grignon F - 78850 FRANCE\n",
        "loc : "
       ]
      },
      {
       "output_type": "stream",
       "stream": "stdout",
       "text": [
        " Thiverval-Grignon, Versailles, Yvelines, \u00cele-de-France, France m\u00e9tropolitaine, 78850, France\n"
       ]
      },
      {
       "name": "stdout",
       "output_type": "stream",
       "stream": "stdout",
       "text": [
        "ok1 ?\n",
        "\n"
       ]
      },
      {
       "output_type": "stream",
       "stream": "stdout",
       "text": [
        "----\n",
        ">>  147\n",
        "addr :  2 rue Lhomond Paris 75005 FRANCE\n",
        "loc : "
       ]
      },
      {
       "output_type": "stream",
       "stream": "stdout",
       "text": [
        " 2, Rue Lhomond, Val-de-Gr\u00e2ce, 5e, Paris, \u00cele-de-France, France m\u00e9tropolitaine, 75005, France\n"
       ]
      },
      {
       "name": "stdout",
       "output_type": "stream",
       "stream": "stdout",
       "text": [
        "ok1 ?\n",
        "\n"
       ]
      },
      {
       "output_type": "stream",
       "stream": "stdout",
       "text": [
        "----\n",
        ">>  148\n",
        "addr :  83 bd de l'hopital Paris 13e 75013 FRANCE\n",
        "loc : "
       ]
      },
      {
       "output_type": "stream",
       "stream": "stdout",
       "text": [
        " 83, Boulevard de l'H\u00f4pital, Salp\u00eatri\u00e8re, 13e, Paris, \u00cele-de-France, France m\u00e9tropolitaine, 75013, France\n"
       ]
      },
      {
       "name": "stdout",
       "output_type": "stream",
       "stream": "stdout",
       "text": [
        "ok1 ?\n",
        "\n"
       ]
      },
      {
       "output_type": "stream",
       "stream": "stdout",
       "text": [
        "----\n",
        ">>  149\n",
        "addr :  INRA Centre de Versailles-Grignon Route de St-Cyr (RD10) Versailles 78026 FRANCE\n",
        "loc : "
       ]
      },
      {
       "name": "stdout",
       "output_type": "stream",
       "stream": "stdout",
       "text": [
        "ok2 ?\n",
        "INRA Versailles-Grignon\n"
       ]
      },
      {
       "output_type": "stream",
       "stream": "stdout",
       "text": [
        " addr :  INRA Centre de Versailles-Grignon Route de St-Cyr (RD10) Versailles 78026 FRANCE\n",
        "loc : "
       ]
      },
      {
       "name": "stdout",
       "output_type": "stream",
       "stream": "stdout",
       "text": [
        "ok2 ?\n",
        "INRA\n"
       ]
      },
      {
       "output_type": "stream",
       "stream": "stdout",
       "text": [
        " addr :  INRA Centre de Versailles-Grignon Route de St-Cyr (RD10) Versailles 78026 FRANCE\n",
        "loc : "
       ]
      },
      {
       "output_type": "stream",
       "stream": "stdout",
       "text": [
        " INRA, Notre-Dame, Versailles, Yvelines, \u00cele-de-France, France m\u00e9tropolitaine, 78000, France\n"
       ]
      },
      {
       "name": "stdout",
       "output_type": "stream",
       "stream": "stdout",
       "text": [
        "ok1 ?\n",
        "\n"
       ]
      },
      {
       "output_type": "stream",
       "stream": "stdout",
       "text": [
        "----\n",
        ">>  150\n",
        "addr :  Universite paris diderot condorcet Batiment Condorcet Paris 75205 FRANCE\n",
        "loc : "
       ]
      },
      {
       "output_type": "stream",
       "stream": "stdout",
       "text": [
        " Coll\u00e8ge des Bernardins, Rue de Poissy, St-Victor, 5e, Paris, \u00cele-de-France, France m\u00e9tropolitaine, 75005, France\n"
       ]
      },
      {
       "name": "stdout",
       "output_type": "stream",
       "stream": "stdout",
       "text": [
        "ok1 ?\n",
        "paris diderot condorcet\n"
       ]
      },
      {
       "output_type": "stream",
       "stream": "stdout",
       "text": [
        "addr :  Universite paris diderot condorcet Batiment Condorcet Paris 75205 FRANCE\n",
        "loc : "
       ]
      },
      {
       "output_type": "stream",
       "stream": "stdout",
       "text": [
        " Condorcet (Universit\u00e9 Paris Diderot), Quai Panhard et Levassor, Gare, 13e, Paris, \u00cele-de-France, France m\u00e9tropolitaine, 75013, France\n"
       ]
      },
      {
       "name": "stdout",
       "output_type": "stream",
       "stream": "stdout",
       "text": [
        "ok1 ?\n",
        "\n"
       ]
      },
      {
       "output_type": "stream",
       "stream": "stdout",
       "text": [
        "----\n",
        ">>  151\n",
        "addr :  55 rue Buffon Paris 75005 FRANCE\n",
        "loc : "
       ]
      },
      {
       "output_type": "stream",
       "stream": "stdout",
       "text": [
        " 55, Rue Buffon, Jardin des Plantes, 5e, Paris, \u00cele-de-France, France m\u00e9tropolitaine, 75005, France\n"
       ]
      },
      {
       "name": "stdout",
       "output_type": "stream",
       "stream": "stdout",
       "text": [
        "ok1 ?\n",
        "\n"
       ]
      },
      {
       "output_type": "stream",
       "stream": "stdout",
       "text": [
        "----\n",
        ">>  152\n",
        "addr :  10 rue Vauquelin Paris 75005 FRANCE\n",
        "loc : "
       ]
      },
      {
       "output_type": "stream",
       "stream": "stdout",
       "text": [
        " ESPCI, 10, Rue Vauquelin, Val-de-Gr\u00e2ce, 5e, Paris, \u00cele-de-France, France m\u00e9tropolitaine, 75005, France\n"
       ]
      },
      {
       "name": "stdout",
       "output_type": "stream",
       "stream": "stdout",
       "text": [
        "ok1 ?\n",
        "\n"
       ]
      },
      {
       "output_type": "stream",
       "stream": "stdout",
       "text": [
        "----\n",
        ">>  153\n",
        "addr :  12 Rue Lhomond Paris 75005 FRANCE\n",
        "loc : "
       ]
      },
      {
       "output_type": "stream",
       "stream": "stdout",
       "text": [
        " 12, Rue Lhomond, Val-de-Gr\u00e2ce, 5e, Paris, \u00cele-de-France, France m\u00e9tropolitaine, 75005, France\n"
       ]
      },
      {
       "name": "stdout",
       "output_type": "stream",
       "stream": "stdout",
       "text": [
        "ok1 ?\n",
        "\n"
       ]
      },
      {
       "output_type": "stream",
       "stream": "stdout",
       "text": [
        "----\n",
        ">>  154\n",
        "addr :  1 rue Jussieu Paris 75005 FRANCE\n",
        "loc : "
       ]
      },
      {
       "output_type": "stream",
       "stream": "stdout",
       "text": [
        " Rue Jussieu, St-Victor, 5e, Paris, \u00cele-de-France, France m\u00e9tropolitaine, 75005, France\n"
       ]
      },
      {
       "name": "stdout",
       "output_type": "stream",
       "stream": "stdout",
       "text": [
        "ok1 ?\n",
        "\n"
       ]
      },
      {
       "output_type": "stream",
       "stream": "stdout",
       "text": [
        "----\n",
        ">>  155\n",
        "addr :  8 rue Buffon CP38 Museum national d'Histoire naturelle Paris 75005 FRANCE\n",
        "loc : "
       ]
      },
      {
       "name": "stdout",
       "output_type": "stream",
       "stream": "stdout",
       "text": [
        "ok2 ?\n",
        "8, rue Buffon Paris\n"
       ]
      },
      {
       "output_type": "stream",
       "stream": "stdout",
       "text": [
        " addr :  8 rue Buffon CP38 Museum national d'Histoire naturelle Paris 75005 FRANCE\n",
        "loc : "
       ]
      },
      {
       "output_type": "stream",
       "stream": "stdout",
       "text": [
        " Rue Buffon, Jardin des Plantes, 5e, Paris, \u00cele-de-France, France m\u00e9tropolitaine, 75005, France\n"
       ]
      },
      {
       "name": "stdout",
       "output_type": "stream",
       "stream": "stdout",
       "text": [
        "ok1 ?\n",
        "\n"
       ]
      },
      {
       "output_type": "stream",
       "stream": "stdout",
       "text": [
        "----\n",
        ">>  156\n",
        "addr :  Aristotle University of Thessaloniki Laboratory of Zoology, Department of Zoology, School of Biology Thessaloniki GR-54124 GREECE\n",
        "loc : "
       ]
      },
      {
       "name": "stdout",
       "output_type": "stream",
       "stream": "stdout",
       "text": [
        "ok2 ?\n",
        "Aristotle University of Thessaloniki\n"
       ]
      },
      {
       "output_type": "stream",
       "stream": "stdout",
       "text": [
        " addr :  Aristotle University of Thessaloniki Laboratory of Zoology, Department of Zoology, School of Biology Thessaloniki GR-54124 GREECE\n",
        "loc : "
       ]
      },
      {
       "output_type": "stream",
       "stream": "stdout",
       "text": [
        " \u0391\u03c1\u03b9\u03c3\u03c4\u03bf\u03c4\u03ad\u03bb\u03b5\u03b9\u03bf \u03a0\u03b1\u03bd\u03b5\u03c0\u03b9\u03c3\u03c4\u03ae\u03bc\u03b9\u03bf \u0398\u03b5\u03c3\u03c3\u03b1\u03bb\u03bf\u03bd\u03af\u03ba\u03b7\u03c2, \u0395\u03b3\u03bd\u03b1\u03c4\u03af\u03b1, \u0391\u0384 \u0394\u03b7\u03bc\u03bf\u03c4\u03b9\u03ba\u03ae \u039a\u03bf\u03b9\u03bd\u03cc\u03c4\u03b7\u03c4\u03b1 \u0398\u03b5\u03c3\u03c3\u03b1\u03bb\u03bf\u03bd\u03af\u03ba\u03b7\u03c2, \u0394\u03ae\u03bc\u03bf\u03c2 \u0398\u03b5\u03c3\u03c3\u03b1\u03bb\u03bf\u03bd\u03af\u03ba\u03b7\u03c2, \u03a0\u03b5\u03c1\u03b9\u03c6\u03b5\u03c1\u03b5\u03b9\u03b1\u03ba\u03ae \u0395\u03bd\u03cc\u03c4\u03b7\u03c4\u03b1 \u0398\u03b5\u03c3\u03c3\u03b1\u03bb\u03bf\u03bd\u03af\u03ba\u03b7\u03c2, \u03a0\u03b5\u03c1\u03b9\u03c6\u03ad\u03c1\u03b5\u03b9\u03b1 \u039a\u03b5\u03bd\u03c4\u03c1\u03b9\u03ba\u03ae\u03c2 \u039c\u03b1\u03ba\u03b5\u03b4\u03bf\u03bd\u03af\u03b1\u03c2, \u0391\u03c0\u03bf\u03ba\u03b5\u03bd\u03c4\u03c1\u03c9\u03bc\u03ad\u03bd\u03b7 \u0394\u03b9\u03bf\u03af\u03ba\u03b7\u03c3\u03b7 \u039c\u03b1\u03ba\u03b5\u03b4\u03bf\u03bd\u03af\u03b1\u03c2 - \u0398\u03c1\u03ac\u03ba\u03b7\u03c2, 54124, \u0395\u03bb\u03bb\u03ac\u03b4\u03b1\n"
       ]
      },
      {
       "name": "stdout",
       "output_type": "stream",
       "stream": "stdout",
       "text": [
        "ok1 ?\n",
        "\n"
       ]
      },
      {
       "output_type": "stream",
       "stream": "stdout",
       "text": [
        "----\n",
        ">>  157\n",
        "addr :  1 rue Jussieu, 75238 Paris  05, France Paris 75238  05 FRANCE\n",
        "loc : "
       ]
      },
      {
       "name": "stdout",
       "output_type": "stream",
       "stream": "stdout",
       "text": [
        "ok2 ?\n",
        "1 rue Jussieu, Paris\n"
       ]
      },
      {
       "output_type": "stream",
       "stream": "stdout",
       "text": [
        " addr :  1 rue Jussieu, 75238 Paris  05, France Paris 75238  05 FRANCE\n",
        "loc : "
       ]
      },
      {
       "output_type": "stream",
       "stream": "stdout",
       "text": [
        " Rue Jussieu, St-Victor, 5e, Paris, \u00cele-de-France, France m\u00e9tropolitaine, 75005, France\n"
       ]
      },
      {
       "name": "stdout",
       "output_type": "stream",
       "stream": "stdout",
       "text": [
        "ok1 ?\n",
        "\n"
       ]
      },
      {
       "output_type": "stream",
       "stream": "stdout",
       "text": [
        "----\n",
        ">>  158\n",
        "addr :  56 rue Leblanc, 75015 Paris Paris 75015 FRANCE\n",
        "loc : "
       ]
      },
      {
       "output_type": "stream",
       "stream": "stdout",
       "text": [
        " 56, Rue Leblanc, Javel, 15e, Paris, \u00cele-de-France, France m\u00e9tropolitaine, 75015, France\n"
       ]
      },
      {
       "name": "stdout",
       "output_type": "stream",
       "stream": "stdout",
       "text": [
        "ok1 ?\n",
        "\n"
       ]
      },
      {
       "output_type": "stream",
       "stream": "stdout",
       "text": [
        "----\n"
       ]
      }
     ],
     "prompt_number": 10
    },
    {
     "cell_type": "code",
     "collapsed": false,
     "input": [
      "df"
     ],
     "language": "python",
     "metadata": {},
     "outputs": [
      {
       "html": [
        "<div style=\"max-height:1000px;max-width:1500px;overflow:auto;\">\n",
        "<table border=\"1\" class=\"dataframe\">\n",
        "  <thead>\n",
        "    <tr style=\"text-align: right;\">\n",
        "      <th></th>\n",
        "      <th>Name</th>\n",
        "      <th>Promo</th>\n",
        "      <th>Lab</th>\n",
        "      <th>Website</th>\n",
        "      <th>Address</th>\n",
        "      <th>latitude</th>\n",
        "      <th>longitude</th>\n",
        "      <th>Clean_Adress</th>\n",
        "    </tr>\n",
        "  </thead>\n",
        "  <tbody>\n",
        "    <tr>\n",
        "      <th>0  </th>\n",
        "      <td>        ADRIEN</td>\n",
        "      <td> 2011</td>\n",
        "      <td>     Biological Crystallography and NMR Laboratory</td>\n",
        "      <td>            http://lcrbw.pharmacie.univ-paris5.fr/</td>\n",
        "      <td> 4, avenue de l'Observatoire Paris cedex 6 7527...</td>\n",
        "      <td> 48.843427</td>\n",
        "      <td>  2.336344</td>\n",
        "      <td> 4, Avenue de l'Observatoire, Od\u00e9on, 6e, Paris,...</td>\n",
        "    </tr>\n",
        "    <tr>\n",
        "      <th>1  </th>\n",
        "      <td>        ADRIEN</td>\n",
        "      <td> 2011</td>\n",
        "      <td>                    Statistical Physics Laboratory</td>\n",
        "      <td>                            http://www.lps.ens.fr/</td>\n",
        "      <td>       24, rue Lhomond Paris Cedex 05 75231 FRANCE</td>\n",
        "      <td> 48.843260</td>\n",
        "      <td>  2.346497</td>\n",
        "      <td> 24, Rue Lhomond, Val-de-Gr\u00e2ce, 5e, Paris, \u00cele-...</td>\n",
        "    </tr>\n",
        "    <tr>\n",
        "      <th>2  </th>\n",
        "      <td>       BONAZZI</td>\n",
        "      <td> 2011</td>\n",
        "      <td>        Compartimentation et dynamique cellulaires</td>\n",
        "      <td> http://umr144.curie.fr/en/research-groups/syst...</td>\n",
        "      <td>                 12 Rue Lhomond Paris 75005 FRANCE</td>\n",
        "      <td> 48.844044</td>\n",
        "      <td>  2.345675</td>\n",
        "      <td> 12, Rue Lhomond, Val-de-Gr\u00e2ce, 5e, Paris, \u00cele-...</td>\n",
        "    </tr>\n",
        "    <tr>\n",
        "      <th>3  </th>\n",
        "      <td>       BONAZZI</td>\n",
        "      <td> 2011</td>\n",
        "      <td>        Compartimentation et dynamique cellulaires</td>\n",
        "      <td>                            http://umr144.curie.fr</td>\n",
        "      <td>                 12 Rue Lhomond Paris 75005 FRANCE</td>\n",
        "      <td> 48.844044</td>\n",
        "      <td>  2.345675</td>\n",
        "      <td> 12, Rue Lhomond, Val-de-Gr\u00e2ce, 5e, Paris, \u00cele-...</td>\n",
        "    </tr>\n",
        "    <tr>\n",
        "      <th>4  </th>\n",
        "      <td>      BOUCCARA</td>\n",
        "      <td> 2011</td>\n",
        "      <td>                                              LPEM</td>\n",
        "      <td>                                 www.lpem.espci.fr</td>\n",
        "      <td>               10 rue Vauquelin Paris 75005 FRANCE</td>\n",
        "      <td> 48.841460</td>\n",
        "      <td>  2.346810</td>\n",
        "      <td> ESPCI, 10, Rue Vauquelin, Val-de-Gr\u00e2ce, 5e, Pa...</td>\n",
        "    </tr>\n",
        "    <tr>\n",
        "      <th>5  </th>\n",
        "      <td>       BOUCLET</td>\n",
        "      <td> 2011</td>\n",
        "      <td> Mechano-biology biophysics of Embryogenesis an...</td>\n",
        "      <td>                                               NaN</td>\n",
        "      <td> 11 rue Pierre et Marie Curie, 75005 Paris, Fra...</td>\n",
        "      <td> 48.844504</td>\n",
        "      <td>  2.344020</td>\n",
        "      <td> 11, Rue Pierre et Marie Curie, Val-de-Gr\u00e2ce, 5...</td>\n",
        "    </tr>\n",
        "    <tr>\n",
        "      <th>6  </th>\n",
        "      <td>         DASTE</td>\n",
        "      <td> 2011</td>\n",
        "      <td> Membrane Traffic in Neuronal &amp; Epithelial Morp...</td>\n",
        "      <td>          http://sites.google.com/site/insermu950/</td>\n",
        "      <td> Buffon (Universite Paris Diderot) Paris 75013 ...</td>\n",
        "      <td> 48.828131</td>\n",
        "      <td>  2.381793</td>\n",
        "      <td> Buffon (Universit\u00e9 Paris Diderot), Rue Alice D...</td>\n",
        "    </tr>\n",
        "    <tr>\n",
        "      <th>7  </th>\n",
        "      <td>      DECRULLE</td>\n",
        "      <td> 2011</td>\n",
        "      <td>                                      tamara's lab</td>\n",
        "      <td>            http://www.necker.fr/tamara/index.html</td>\n",
        "      <td> 24, rue du faubourg St Jacques Paris 75014 FRANCE</td>\n",
        "      <td> 48.837463</td>\n",
        "      <td>  2.338523</td>\n",
        "      <td> 24, Rue du Faubourg Saint-Jacques, Montparnass...</td>\n",
        "    </tr>\n",
        "    <tr>\n",
        "      <th>8  </th>\n",
        "      <td>        FAROUZ</td>\n",
        "      <td> 2011</td>\n",
        "      <td> Group of Microfluidic, Chemical organization a...</td>\n",
        "      <td>          http://www.chimie.ens.fr/Microfluidique/</td>\n",
        "      <td>             rue d'ulm Paris cedex 05 75231 FRANCE</td>\n",
        "      <td> 48.845052</td>\n",
        "      <td>  2.345573</td>\n",
        "      <td> Rue d'Ulm, 5e Arrondissement, 5e, Paris, \u00cele-d...</td>\n",
        "    </tr>\n",
        "    <tr>\n",
        "      <th>9  </th>\n",
        "      <td>        FLORES</td>\n",
        "      <td> 2011</td>\n",
        "      <td>        Mathematique, Informatique et Genome (MIG)</td>\n",
        "      <td>                           http://mig.jouy.inra.fr</td>\n",
        "      <td> INRA Domaine de Vilvert Jouy-en-Josas 78352 Ce...</td>\n",
        "      <td> 48.764106</td>\n",
        "      <td>  2.182858</td>\n",
        "      <td> INRA, Jouy-en-Josas, Versailles, Yvelines, \u00cele...</td>\n",
        "    </tr>\n",
        "    <tr>\n",
        "      <th>10 </th>\n",
        "      <td>        FLORES</td>\n",
        "      <td> 2011</td>\n",
        "      <td>                                           Micalis</td>\n",
        "      <td>                                    www.micalis.fr</td>\n",
        "      <td> INRA Domaine de Vilvert Jouy-en-Josas 78352 Ce...</td>\n",
        "      <td> 48.764106</td>\n",
        "      <td>  2.182858</td>\n",
        "      <td> INRA, Jouy-en-Josas, Versailles, Yvelines, \u00cele...</td>\n",
        "    </tr>\n",
        "    <tr>\n",
        "      <th>11 </th>\n",
        "      <td>        FReNOY</td>\n",
        "      <td> 2011</td>\n",
        "      <td>                                            TaMaRa</td>\n",
        "      <td>                      http://www.necker.fr/tamara/</td>\n",
        "      <td>           156 rue de Vaugirard PARIS 75015 FRANCE</td>\n",
        "      <td> 48.843464</td>\n",
        "      <td>  2.313964</td>\n",
        "      <td> 156, Rue de Vaugirard, St-Lambert, 15e, Paris,...</td>\n",
        "    </tr>\n",
        "    <tr>\n",
        "      <th>12 </th>\n",
        "      <td>       LADARRe</td>\n",
        "      <td> 2011</td>\n",
        "      <td>                      Laboratoire de Neurobiologie</td>\n",
        "      <td>                           http://www.bio.espci.fr</td>\n",
        "      <td>              10, rue Vauquelin Paris 75005 FRANCE</td>\n",
        "      <td> 48.841460</td>\n",
        "      <td>  2.346810</td>\n",
        "      <td> ESPCI, 10, Rue Vauquelin, Val-de-Gr\u00e2ce, 5e, Pa...</td>\n",
        "    </tr>\n",
        "    <tr>\n",
        "      <th>13 </th>\n",
        "      <td>       LE GROS</td>\n",
        "      <td> 2011</td>\n",
        "      <td>                                             CERSP</td>\n",
        "      <td>                        http://www2.mnhn.fr/cersp/</td>\n",
        "      <td>                  55 rue Buffon Paris 75005 FRANCE</td>\n",
        "      <td> 48.841535</td>\n",
        "      <td>  2.358175</td>\n",
        "      <td> 55, Rue Buffon, Jardin des Plantes, 5e, Paris,...</td>\n",
        "    </tr>\n",
        "    <tr>\n",
        "      <th>14 </th>\n",
        "      <td>       LE GROS</td>\n",
        "      <td> 2011</td>\n",
        "      <td>               Systematique, adaptation, evolution</td>\n",
        "      <td> http://www.upmc.fr/fr/recherche/pole_3/pole_te...</td>\n",
        "      <td>           7 Quai Saint-Bernard Paris 75005 FRANCE</td>\n",
        "      <td> 48.844761</td>\n",
        "      <td>  2.364028</td>\n",
        "      <td> Quai Saint-Bernard, Jardin des Plantes, 5e, Pa...</td>\n",
        "    </tr>\n",
        "    <tr>\n",
        "      <th>15 </th>\n",
        "      <td>         MIRAT</td>\n",
        "      <td> 2011</td>\n",
        "      <td>                                             CRICM</td>\n",
        "      <td>                         http://www.cricm.upmc.fr/</td>\n",
        "      <td>  47, bld de l'Hopital Paris Cedex 13 75651 FRANCE</td>\n",
        "      <td> 48.840212</td>\n",
        "      <td>  2.363200</td>\n",
        "      <td> 47, Boulevard de l'H\u00f4pital, Salp\u00eatri\u00e8re, 13e, ...</td>\n",
        "    </tr>\n",
        "    <tr>\n",
        "      <th>16 </th>\n",
        "      <td>        MONNET</td>\n",
        "      <td> 2011</td>\n",
        "      <td>                            Institut Jacques Monod</td>\n",
        "      <td>                             http://www.ijm.fr/en/</td>\n",
        "      <td> Buffon (Universite Paris Diderot) Paris CEDEX ...</td>\n",
        "      <td> 48.828131</td>\n",
        "      <td>  2.381793</td>\n",
        "      <td> Buffon (Universit\u00e9 Paris Diderot), Rue Alice D...</td>\n",
        "    </tr>\n",
        "    <tr>\n",
        "      <th>17 </th>\n",
        "      <td>      PEILLOUX</td>\n",
        "      <td> 2011</td>\n",
        "      <td>                              Physico-Chimie Curie</td>\n",
        "      <td> http://www.upmc.fr/fr/recherche/pole_2/pole_en...</td>\n",
        "      <td>                   26 rue d'Ulm Paris 75005 FRANCE</td>\n",
        "      <td> 48.845052</td>\n",
        "      <td>  2.345573</td>\n",
        "      <td> Rue d'Ulm, 5e Arrondissement, 5e, Paris, \u00cele-d...</td>\n",
        "    </tr>\n",
        "    <tr>\n",
        "      <th>18 </th>\n",
        "      <td>         SAUVE</td>\n",
        "      <td> 2011</td>\n",
        "      <td>                                           Bioemco</td>\n",
        "      <td>      http://www.biologie.ens.fr/bioemco/index.php</td>\n",
        "      <td>          46 rue d'Ulm Paris Cedex 05 75230 FRANCE</td>\n",
        "      <td> 48.842114</td>\n",
        "      <td>  2.344008</td>\n",
        "      <td> 46, Rue d'Ulm, Val-de-Gr\u00e2ce, 5e, Paris, \u00cele-de...</td>\n",
        "    </tr>\n",
        "    <tr>\n",
        "      <th>20 </th>\n",
        "      <td>       SEDDIKI</td>\n",
        "      <td> 2011</td>\n",
        "      <td>                     Matiere et Systemes Complexes</td>\n",
        "      <td>     http://www.msc.univ-paris-diderot.fr/?lang=en</td>\n",
        "      <td> Universite paris diderot condorcet Paris cedex...</td>\n",
        "      <td> 48.828907</td>\n",
        "      <td>  2.383384</td>\n",
        "      <td> Condorcet (Universit\u00e9 Paris Diderot), Quai Pan...</td>\n",
        "    </tr>\n",
        "    <tr>\n",
        "      <th>21 </th>\n",
        "      <td>       SEDDIKI</td>\n",
        "      <td> 2011</td>\n",
        "      <td>    Institut du Fer a Moulin, UMRS 839 INSERM/UPMC</td>\n",
        "      <td>                    http://www.u839.idf.inserm.fr/</td>\n",
        "      <td>         17 Rue du Fer a Moulin Paris 75005 FRANCE</td>\n",
        "      <td> 48.839084</td>\n",
        "      <td>  2.354392</td>\n",
        "      <td> 17, Rue du Fer \u00e0 Moulin, Jardin des Plantes, 5...</td>\n",
        "    </tr>\n",
        "    <tr>\n",
        "      <th>22 </th>\n",
        "      <td>       STRAUSS</td>\n",
        "      <td> 2011</td>\n",
        "      <td>                       Congnitve neuroimaging unit</td>\n",
        "      <td>                             http://www.unicog.org</td>\n",
        "      <td>           NeuroSpin GIF/Yvette Cedex 91191 FRANCE</td>\n",
        "      <td> 48.719782</td>\n",
        "      <td>  2.150957</td>\n",
        "      <td> B\u00e2timent 145, D 306, Saint-Aubin, Palaiseau, E...</td>\n",
        "    </tr>\n",
        "    <tr>\n",
        "      <th>23 </th>\n",
        "      <td>     VILARCHAO</td>\n",
        "      <td> 2011</td>\n",
        "      <td> Unite de Neurosciences, Information et Complexite</td>\n",
        "      <td>                      http://www.unic.cnrs-gif.fr/</td>\n",
        "      <td> 1 Avenue de la Terrasse Gif sur Yvette 91190 F...</td>\n",
        "      <td> 48.704724</td>\n",
        "      <td>  2.134047</td>\n",
        "      <td> 10A D\u00e9l\u00e9gation, 1, Avenue de la Terrasse, L'Ab...</td>\n",
        "    </tr>\n",
        "    <tr>\n",
        "      <th>24 </th>\n",
        "      <td>   VILLOUTREIX</td>\n",
        "      <td> 2011</td>\n",
        "      <td>                                    giuseppe longo</td>\n",
        "      <td>                                     www.di.ens.fr</td>\n",
        "      <td>                   45 rue d'Ulm Paris 75005 FRANCE</td>\n",
        "      <td> 48.842295</td>\n",
        "      <td>  2.344272</td>\n",
        "      <td> 45, Rue d'Ulm, Val-de-Gr\u00e2ce, 5e, Paris, \u00cele-de...</td>\n",
        "    </tr>\n",
        "    <tr>\n",
        "      <th>25 </th>\n",
        "      <td>         YATIM</td>\n",
        "      <td> 2011</td>\n",
        "      <td>          Immnuobiologie des Cellules Dendritiques</td>\n",
        "      <td> https://www.pasteur.fr/ip/easysite/pasteur/fr/...</td>\n",
        "      <td> Institut Pasteur 25 rue Docteur Roux- Batiment...</td>\n",
        "      <td> 48.840838</td>\n",
        "      <td>  2.310239</td>\n",
        "      <td> Institut Pasteur, Rue du Docteur Roux, Necker,...</td>\n",
        "    </tr>\n",
        "    <tr>\n",
        "      <th>28 </th>\n",
        "      <td>         ANDRE</td>\n",
        "      <td> 2012</td>\n",
        "      <td> Institut des cellules souches pour le traiteme...</td>\n",
        "      <td>                              http://www.istem.eu/</td>\n",
        "      <td>    5 rue Henri Desbrueres EVRY Cedex 91030 FRANCE</td>\n",
        "      <td> 48.612039</td>\n",
        "      <td>  2.446914</td>\n",
        "      <td> Rue Henri Desbru\u00e8res, Corbeil-Essonnes, \u00c9vry, ...</td>\n",
        "    </tr>\n",
        "    <tr>\n",
        "      <th>29 </th>\n",
        "      <td>        BERGEL</td>\n",
        "      <td> 2012</td>\n",
        "      <td>                               Cortex et Epilepsie</td>\n",
        "      <td>    http://www.chups.jussieu.fr/ext/u739/Home.html</td>\n",
        "      <td>   47 Bld de l'Hopital Paris cedex 13 75651 FRANCE</td>\n",
        "      <td> 48.840212</td>\n",
        "      <td>  2.363200</td>\n",
        "      <td> 47, Boulevard de l'H\u00f4pital, Salp\u00eatri\u00e8re, 13e, ...</td>\n",
        "    </tr>\n",
        "    <tr>\n",
        "      <th>30 </th>\n",
        "      <td>       BERGLAR</td>\n",
        "      <td> 2012</td>\n",
        "      <td>                   Plasticite du  Genome Bacterien</td>\n",
        "      <td>                 http://openwetware.org/wiki/Mazel</td>\n",
        "      <td>   25, rue du Dr. Roux Paris CEDEX 15 75015 FRANCE</td>\n",
        "      <td> 48.840838</td>\n",
        "      <td>  2.310239</td>\n",
        "      <td> Institut Pasteur, Rue du Docteur Roux, Necker,...</td>\n",
        "    </tr>\n",
        "    <tr>\n",
        "      <th>31 </th>\n",
        "      <td>        BODART</td>\n",
        "      <td> 2012</td>\n",
        "      <td>               Matiere et Systemes Complexes (MSC)</td>\n",
        "      <td>             http://www.msc.univ-paris-diderot.fr/</td>\n",
        "      <td> Universite paris diderot condorcet Paris 75205...</td>\n",
        "      <td> 48.828907</td>\n",
        "      <td>  2.383384</td>\n",
        "      <td> Condorcet (Universit\u00e9 Paris Diderot), Quai Pan...</td>\n",
        "    </tr>\n",
        "    <tr>\n",
        "      <th>32 </th>\n",
        "      <td>          CA\ufffdN</td>\n",
        "      <td> 2012</td>\n",
        "      <td> BASES MOLECULAIRES DE LA REPONSE AUX XENOBIOTI...</td>\n",
        "      <td> http://recherche.parisdescartes.fr/UMRS775/Tra...</td>\n",
        "      <td>       45, rue des Saints-Peres Paris 75006 FRANCE</td>\n",
        "      <td> 48.855550</td>\n",
        "      <td>  2.331287</td>\n",
        "      <td> 45, Rue des Saints-P\u00e8res, Saint-Germain-des-Pr...</td>\n",
        "    </tr>\n",
        "    <tr>\n",
        "      <th>...</th>\n",
        "      <td>...</td>\n",
        "      <td>...</td>\n",
        "      <td>...</td>\n",
        "      <td>...</td>\n",
        "      <td>...</td>\n",
        "      <td>...</td>\n",
        "      <td>...</td>\n",
        "      <td>...</td>\n",
        "    </tr>\n",
        "    <tr>\n",
        "      <th>129</th>\n",
        "      <td>       EDWARDS</td>\n",
        "      <td> 2014</td>\n",
        "      <td>                            Institut Jacques Monod</td>\n",
        "      <td>                                http://www.ijm.fr/</td>\n",
        "      <td> Buffon (Universite Paris Diderot) Paris 75013 ...</td>\n",
        "      <td> 48.828131</td>\n",
        "      <td>  2.381793</td>\n",
        "      <td> Buffon (Universit\u00e9 Paris Diderot), Rue Alice D...</td>\n",
        "    </tr>\n",
        "    <tr>\n",
        "      <th>130</th>\n",
        "      <td>        GAJOWA</td>\n",
        "      <td> 2014</td>\n",
        "      <td>                         Neurophotonics Laboratory</td>\n",
        "      <td> http://www.biomedicale.univ-paris5.fr/neurophy...</td>\n",
        "      <td>        45 rue des Saints Peres 75006 75006 FRANCE</td>\n",
        "      <td> 48.855550</td>\n",
        "      <td>  2.331287</td>\n",
        "      <td> 45, Rue des Saints-P\u00e8res, Saint-Germain-des-Pr...</td>\n",
        "    </tr>\n",
        "    <tr>\n",
        "      <th>131</th>\n",
        "      <td>        GAJOWA</td>\n",
        "      <td> 2014</td>\n",
        "      <td>                         Neurophotonics Laboratory</td>\n",
        "      <td> http://www.biomedicale.parisdescartes.fr/neuro...</td>\n",
        "      <td>        45 rue des Saints Peres Paris 75006 FRANCE</td>\n",
        "      <td> 48.855550</td>\n",
        "      <td>  2.331287</td>\n",
        "      <td> 45, Rue des Saints-P\u00e8res, Saint-Germain-des-Pr...</td>\n",
        "    </tr>\n",
        "    <tr>\n",
        "      <th>132</th>\n",
        "      <td>        GOUJET</td>\n",
        "      <td> 2014</td>\n",
        "      <td>      Molecular, Medical and Evolutionary Genetics</td>\n",
        "      <td>                                               NaN</td>\n",
        "      <td> 156, rue de de Vaugirard Site Necker U1001 Fac...</td>\n",
        "      <td> 48.843464</td>\n",
        "      <td>  2.313964</td>\n",
        "      <td> 156, Rue de Vaugirard, St-Lambert, 15e, Paris,...</td>\n",
        "    </tr>\n",
        "    <tr>\n",
        "      <th>133</th>\n",
        "      <td> GRUSON-DANIEL</td>\n",
        "      <td> 2014</td>\n",
        "      <td>     Departement d'information et de communication</td>\n",
        "      <td>             http://www.com.ulaval.ca/departement/</td>\n",
        "      <td> 2325, rue de l'Universite Quebec (Quebec) G1V ...</td>\n",
        "      <td> 46.779024</td>\n",
        "      <td>-71.270165</td>\n",
        "      <td> Fou \u00c6LI\u00c9S, 2325, Rue de l'Universit\u00e9, Sillery,...</td>\n",
        "    </tr>\n",
        "    <tr>\n",
        "      <th>134</th>\n",
        "      <td> GRUSON-DANIEL</td>\n",
        "      <td> 2014</td>\n",
        "      <td>  Connaissance, Organisation, Systemes techniques,</td>\n",
        "      <td>              http://www.utc.fr/costech/?page_id=6</td>\n",
        "      <td> Centre Pierre Guillaumat BP 60319 Compiegne 60...</td>\n",
        "      <td> 49.399251</td>\n",
        "      <td>  2.799850</td>\n",
        "      <td> Rue du Docteur Schweitzer, Royallieu Village, ...</td>\n",
        "    </tr>\n",
        "    <tr>\n",
        "      <th>135</th>\n",
        "      <td>         GUEDJ</td>\n",
        "      <td> 2014</td>\n",
        "      <td>                       Fondation La Main a la pate</td>\n",
        "      <td>                           www.fondation-lamap.org</td>\n",
        "      <td>      1, rue Maurice Arnoux Montrouge 92120 FRANCE</td>\n",
        "      <td> 48.821386</td>\n",
        "      <td>  2.314593</td>\n",
        "      <td> \u00c9cole normale sup\u00e9rieure, 1, Rue Maurice Arnou...</td>\n",
        "    </tr>\n",
        "    <tr>\n",
        "      <th>136</th>\n",
        "      <td>         GUEDJ</td>\n",
        "      <td> 2014</td>\n",
        "      <td>                       Fondation La Main a La Pate</td>\n",
        "      <td>                    http://www.fondation-lamap.org</td>\n",
        "      <td>             1, rue Maurice-Arnoux Montrouge 92120</td>\n",
        "      <td> 48.821386</td>\n",
        "      <td>  2.314593</td>\n",
        "      <td> \u00c9cole normale sup\u00e9rieure, 1, Rue Maurice Arnou...</td>\n",
        "    </tr>\n",
        "    <tr>\n",
        "      <th>137</th>\n",
        "      <td>       HOBEIKA</td>\n",
        "      <td> 2014</td>\n",
        "      <td>                   Structures formelles du langage</td>\n",
        "      <td>         http://www.umr7023.cnrs.fr/index.php.html</td>\n",
        "      <td> 2 rue de la Liberte Universite Paris 8 Saint D...</td>\n",
        "      <td> 48.943856</td>\n",
        "      <td>  2.365427</td>\n",
        "      <td> Rue de la Libert\u00e9, Saint-Denis, Seine-Saint-De...</td>\n",
        "    </tr>\n",
        "    <tr>\n",
        "      <th>138</th>\n",
        "      <td>       HOBEIKA</td>\n",
        "      <td> 2014</td>\n",
        "      <td> Sciences et technologies de la musique et du s...</td>\n",
        "      <td>                http://www.ircam.fr/stms.html?&amp;L=1</td>\n",
        "      <td>       1, place Igor-Stravinsky Paris 75004 FRANCE</td>\n",
        "      <td> 48.859481</td>\n",
        "      <td>  2.351692</td>\n",
        "      <td> Place Igor Stravinsky, Beaubourg, St-Merri, 4e...</td>\n",
        "    </tr>\n",
        "    <tr>\n",
        "      <th>139</th>\n",
        "      <td>          JAHN</td>\n",
        "      <td> 2014</td>\n",
        "      <td>      Institut du Cerveau et de la Moelle Epiniere</td>\n",
        "      <td>                         http://icm-institute.org/</td>\n",
        "      <td> 47 bvd de l'hopital Hopital Pitie Salpetriere ...</td>\n",
        "      <td> 48.840212</td>\n",
        "      <td>  2.363200</td>\n",
        "      <td> 47, Boulevard de l'H\u00f4pital, Salp\u00eatri\u00e8re, 13e, ...</td>\n",
        "    </tr>\n",
        "    <tr>\n",
        "      <th>140</th>\n",
        "      <td>          JAHN</td>\n",
        "      <td> 2014</td>\n",
        "      <td>             Department of Experimental Psychology</td>\n",
        "      <td>                           http://www.psy.ox.ac.uk</td>\n",
        "      <td> 9 South Parks Road Tinbergen Building Oxford O...</td>\n",
        "      <td> 51.758660</td>\n",
        "      <td> -1.250517</td>\n",
        "      <td> Tinbergen Building, St Cross Road, Norham Mano...</td>\n",
        "    </tr>\n",
        "    <tr>\n",
        "      <th>141</th>\n",
        "      <td>        KEMBLE</td>\n",
        "      <td> 2014</td>\n",
        "      <td> Infection, Antimicrobiens, Modelisation, Evolu...</td>\n",
        "      <td> http://www.bichat.inserm.fr/equipes/emi0339/u7...</td>\n",
        "      <td> 16 rue Henri Huchard Sorbonne Paris Cite, Facu...</td>\n",
        "      <td> 48.899123</td>\n",
        "      <td>  2.335177</td>\n",
        "      <td> Rue Henri Huchard, Grandes-Carri\u00e8res, 18e, Par...</td>\n",
        "    </tr>\n",
        "    <tr>\n",
        "      <th>142</th>\n",
        "      <td>        KEMBLE</td>\n",
        "      <td> 2014</td>\n",
        "      <td>                      Chimie, Biologie, Innovation</td>\n",
        "      <td>                                   IN CONSTRUCTION</td>\n",
        "      <td>         10 Rue Vauquelin ESPCI Paris 75005 FRANCE</td>\n",
        "      <td> 48.841460</td>\n",
        "      <td>  2.346810</td>\n",
        "      <td> ESPCI, 10, Rue Vauquelin, Val-de-Gr\u00e2ce, 5e, Pa...</td>\n",
        "    </tr>\n",
        "    <tr>\n",
        "      <th>143</th>\n",
        "      <td>     KENNOUCHE</td>\n",
        "      <td> 2014</td>\n",
        "      <td>      Paris-Cardiovascular research Center (PARCC)</td>\n",
        "      <td>                           http://parcc.inserm.fr/</td>\n",
        "      <td> 56 rue Leblanc Paris - Centre de recherche Car...</td>\n",
        "      <td> 48.838204</td>\n",
        "      <td>  2.275562</td>\n",
        "      <td> 56, Rue Leblanc, Javel, 15e, Paris, \u00cele-de-Fra...</td>\n",
        "    </tr>\n",
        "    <tr>\n",
        "      <th>144</th>\n",
        "      <td>        MARCOU</td>\n",
        "      <td> 2014</td>\n",
        "      <td>             Laboratoire de Physique Theorique ENS</td>\n",
        "      <td>                                   www.phys.ens.fr</td>\n",
        "      <td>                 24 rue Lhomond Paris 75005 FRANCE</td>\n",
        "      <td> 48.843260</td>\n",
        "      <td>  2.346497</td>\n",
        "      <td> 24, Rue Lhomond, Val-de-Gr\u00e2ce, 5e, Paris, \u00cele-...</td>\n",
        "    </tr>\n",
        "    <tr>\n",
        "      <th>145</th>\n",
        "      <td>     PRECIGOUT</td>\n",
        "      <td> 2014</td>\n",
        "      <td>             Institut de Biologie de l_ENS (IBENS)</td>\n",
        "      <td>                  http://www.ibens.ens.fr/?lang=fr</td>\n",
        "      <td>        46 rue d'Ulm PARIS Cedex 05 F-75230 FRANCE</td>\n",
        "      <td> 48.842114</td>\n",
        "      <td>  2.344008</td>\n",
        "      <td> 46, Rue d'Ulm, Val-de-Gr\u00e2ce, 5e, Paris, \u00cele-de...</td>\n",
        "    </tr>\n",
        "    <tr>\n",
        "      <th>146</th>\n",
        "      <td>     PRECIGOUT</td>\n",
        "      <td> 2014</td>\n",
        "      <td>                      Ecologie et Grandes Cultures</td>\n",
        "      <td>        http://www6.versailles-grignon.inra.fr/egc</td>\n",
        "      <td>  Equipe Plante Thiverval Grignon F - 78850 FRANCE</td>\n",
        "      <td> 48.848959</td>\n",
        "      <td>  1.917372</td>\n",
        "      <td> Thiverval-Grignon, Versailles, Yvelines, \u00cele-d...</td>\n",
        "    </tr>\n",
        "    <tr>\n",
        "      <th>147</th>\n",
        "      <td>      RANDRIAN</td>\n",
        "      <td> 2014</td>\n",
        "      <td>                                Immunite et Cancer</td>\n",
        "      <td>                                      www.curie.fr</td>\n",
        "      <td>                  2 rue Lhomond Paris 75005 FRANCE</td>\n",
        "      <td> 48.844807</td>\n",
        "      <td>  2.344981</td>\n",
        "      <td> 2, Rue Lhomond, Val-de-Gr\u00e2ce, 5e, Paris, \u00cele-d...</td>\n",
        "    </tr>\n",
        "    <tr>\n",
        "      <th>148</th>\n",
        "      <td>         RITVO</td>\n",
        "      <td> 2014</td>\n",
        "      <td>      Immunology - Immunopathology - Immunotherapy</td>\n",
        "      <td>                                               NaN</td>\n",
        "      <td>         83 bd de l'hopital Paris 13e 75013 FRANCE</td>\n",
        "      <td> 48.838741</td>\n",
        "      <td>  2.361249</td>\n",
        "      <td> 83, Boulevard de l'H\u00f4pital, Salp\u00eatri\u00e8re, 13e, ...</td>\n",
        "    </tr>\n",
        "    <tr>\n",
        "      <th>149</th>\n",
        "      <td>       RIVIeRE</td>\n",
        "      <td> 2014</td>\n",
        "      <td>                      Institut Jean-Pierre Bourgin</td>\n",
        "      <td>               http://www-ijpb.versailles.inra.fr/</td>\n",
        "      <td> INRA Centre de Versailles-Grignon Route de St-...</td>\n",
        "      <td> 48.806399</td>\n",
        "      <td>  2.085668</td>\n",
        "      <td> INRA, Notre-Dame, Versailles, Yvelines, \u00cele-de...</td>\n",
        "    </tr>\n",
        "    <tr>\n",
        "      <th>150</th>\n",
        "      <td>       RIVIeRE</td>\n",
        "      <td> 2014</td>\n",
        "      <td>         Laboratoire Matiere et Systemes Complexes</td>\n",
        "      <td>              http://www.msc.univ-paris-diderot.fr</td>\n",
        "      <td> Universite paris diderot condorcet Batiment Co...</td>\n",
        "      <td> 48.828907</td>\n",
        "      <td>  2.383384</td>\n",
        "      <td> Condorcet (Universit\u00e9 Paris Diderot), Quai Pan...</td>\n",
        "    </tr>\n",
        "    <tr>\n",
        "      <th>151</th>\n",
        "      <td>        SEGALL</td>\n",
        "      <td> 2014</td>\n",
        "      <td> Mecanismes adaptatifs: des organismes aux comm...</td>\n",
        "      <td>                      http://www.mabiodiv.cnrs.fr/</td>\n",
        "      <td>                  55 rue Buffon Paris 75005 FRANCE</td>\n",
        "      <td> 48.841535</td>\n",
        "      <td>  2.358175</td>\n",
        "      <td> 55, Rue Buffon, Jardin des Plantes, 5e, Paris,...</td>\n",
        "    </tr>\n",
        "    <tr>\n",
        "      <th>152</th>\n",
        "      <td>        SEGALL</td>\n",
        "      <td> 2014</td>\n",
        "      <td>     Physique et Mecanique des Milieux Heterogenes</td>\n",
        "      <td>               http://www.pmmh.espci.fr/?-Accueil-</td>\n",
        "      <td>               10 rue Vauquelin Paris 75005 FRANCE</td>\n",
        "      <td> 48.841460</td>\n",
        "      <td>  2.346810</td>\n",
        "      <td> ESPCI, 10, Rue Vauquelin, Val-de-Gr\u00e2ce, 5e, Pa...</td>\n",
        "    </tr>\n",
        "    <tr>\n",
        "      <th>153</th>\n",
        "      <td>       STANEVA</td>\n",
        "      <td> 2014</td>\n",
        "      <td>      Subcellular structures and cellular dynamics</td>\n",
        "      <td>                         http://umr144.curie.fr/en</td>\n",
        "      <td>                 12 Rue Lhomond Paris 75005 FRANCE</td>\n",
        "      <td> 48.844044</td>\n",
        "      <td>  2.345675</td>\n",
        "      <td> 12, Rue Lhomond, Val-de-Gr\u00e2ce, 5e, Paris, \u00cele-...</td>\n",
        "    </tr>\n",
        "    <tr>\n",
        "      <th>154</th>\n",
        "      <td>     THOUVENIN</td>\n",
        "      <td> 2014</td>\n",
        "      <td>                                 Institut Langevin</td>\n",
        "      <td>                    www.institut-langevin.espci.fr</td>\n",
        "      <td>                  1 rue Jussieu Paris 75005 FRANCE</td>\n",
        "      <td> 48.847387</td>\n",
        "      <td>  2.353075</td>\n",
        "      <td> Rue Jussieu, St-Victor, 5e, Paris, \u00cele-de-Fran...</td>\n",
        "    </tr>\n",
        "    <tr>\n",
        "      <th>155</th>\n",
        "      <td>     TOUSSAINT</td>\n",
        "      <td> 2014</td>\n",
        "      <td> CR2P - Centre de Recherche sur la Paleobiodive...</td>\n",
        "      <td>                             http://paleo.mnhn.fr/</td>\n",
        "      <td> 8 rue Buffon CP38 Museum national d'Histoire n...</td>\n",
        "      <td> 48.841990</td>\n",
        "      <td>  2.359117</td>\n",
        "      <td> Rue Buffon, Jardin des Plantes, 5e, Paris, \u00cele...</td>\n",
        "    </tr>\n",
        "    <tr>\n",
        "      <th>156</th>\n",
        "      <td>     TOUSSAINT</td>\n",
        "      <td> 2014</td>\n",
        "      <td>                             Laboratory of Zoology</td>\n",
        "      <td> http://www.bio.auth.gr/en/content/laboratory-z...</td>\n",
        "      <td> Aristotle University of Thessaloniki Laborator...</td>\n",
        "      <td> 40.629838</td>\n",
        "      <td> 22.958855</td>\n",
        "      <td> \u0391\u03c1\u03b9\u03c3\u03c4\u03bf\u03c4\u03ad\u03bb\u03b5\u03b9\u03bf \u03a0\u03b1\u03bd\u03b5\u03c0\u03b9\u03c3\u03c4\u03ae\u03bc\u03b9\u03bf \u0398\u03b5\u03c3\u03c3\u03b1\u03bb\u03bf\u03bd\u03af\u03ba\u03b7\u03c2, \u0395\u03b3\u03bd\u03b1\u03c4\u03af...</td>\n",
        "    </tr>\n",
        "    <tr>\n",
        "      <th>157</th>\n",
        "      <td>     VILLEMAIN</td>\n",
        "      <td> 2014</td>\n",
        "      <td>             Institut Langevin - ParisTech (ESPCI)</td>\n",
        "      <td>        http://www.institut-langevin.espci.fr/home</td>\n",
        "      <td> 1 rue Jussieu, 75238 Paris Cedex 05, France Pa...</td>\n",
        "      <td> 48.847387</td>\n",
        "      <td>  2.353075</td>\n",
        "      <td> Rue Jussieu, St-Victor, 5e, Paris, \u00cele-de-Fran...</td>\n",
        "    </tr>\n",
        "    <tr>\n",
        "      <th>158</th>\n",
        "      <td>     VILLEMAIN</td>\n",
        "      <td> 2014</td>\n",
        "      <td>                                      PARCC (HEGP)</td>\n",
        "      <td>                           http://parcc.inserm.fr/</td>\n",
        "      <td>    56 rue Leblanc, 75015 Paris Paris 75015 FRANCE</td>\n",
        "      <td> 48.838204</td>\n",
        "      <td>  2.275562</td>\n",
        "      <td> 56, Rue Leblanc, Javel, 15e, Paris, \u00cele-de-Fra...</td>\n",
        "    </tr>\n",
        "  </tbody>\n",
        "</table>\n",
        "<p>152 rows \u00d7 8 columns</p>\n",
        "</div>"
       ],
       "metadata": {},
       "output_type": "pyout",
       "prompt_number": 11,
       "text": [
        "              Name  Promo                                                Lab  \\\n",
        "0           ADRIEN   2011      Biological Crystallography and NMR Laboratory   \n",
        "1           ADRIEN   2011                     Statistical Physics Laboratory   \n",
        "2          BONAZZI   2011         Compartimentation et dynamique cellulaires   \n",
        "3          BONAZZI   2011         Compartimentation et dynamique cellulaires   \n",
        "4         BOUCCARA   2011                                               LPEM   \n",
        "5          BOUCLET   2011  Mechano-biology biophysics of Embryogenesis an...   \n",
        "6            DASTE   2011  Membrane Traffic in Neuronal & Epithelial Morp...   \n",
        "7         DECRULLE   2011                                       tamara's lab   \n",
        "8           FAROUZ   2011  Group of Microfluidic, Chemical organization a...   \n",
        "9           FLORES   2011         Mathematique, Informatique et Genome (MIG)   \n",
        "10          FLORES   2011                                            Micalis   \n",
        "11          FReNOY   2011                                             TaMaRa   \n",
        "12         LADARRe   2011                       Laboratoire de Neurobiologie   \n",
        "13         LE GROS   2011                                              CERSP   \n",
        "14         LE GROS   2011                Systematique, adaptation, evolution   \n",
        "15           MIRAT   2011                                              CRICM   \n",
        "16          MONNET   2011                             Institut Jacques Monod   \n",
        "17        PEILLOUX   2011                               Physico-Chimie Curie   \n",
        "18           SAUVE   2011                                            Bioemco   \n",
        "20         SEDDIKI   2011                      Matiere et Systemes Complexes   \n",
        "21         SEDDIKI   2011     Institut du Fer a Moulin, UMRS 839 INSERM/UPMC   \n",
        "22         STRAUSS   2011                        Congnitve neuroimaging unit   \n",
        "23       VILARCHAO   2011  Unite de Neurosciences, Information et Complexite   \n",
        "24     VILLOUTREIX   2011                                     giuseppe longo   \n",
        "25           YATIM   2011           Immnuobiologie des Cellules Dendritiques   \n",
        "28           ANDRE   2012  Institut des cellules souches pour le traiteme...   \n",
        "29          BERGEL   2012                                Cortex et Epilepsie   \n",
        "30         BERGLAR   2012                    Plasticite du  Genome Bacterien   \n",
        "31          BODART   2012                Matiere et Systemes Complexes (MSC)   \n",
        "32            CA\ufffdN   2012  BASES MOLECULAIRES DE LA REPONSE AUX XENOBIOTI...   \n",
        "..             ...    ...                                                ...   \n",
        "129        EDWARDS   2014                             Institut Jacques Monod   \n",
        "130         GAJOWA   2014                          Neurophotonics Laboratory   \n",
        "131         GAJOWA   2014                          Neurophotonics Laboratory   \n",
        "132         GOUJET   2014       Molecular, Medical and Evolutionary Genetics   \n",
        "133  GRUSON-DANIEL   2014      Departement d'information et de communication   \n",
        "134  GRUSON-DANIEL   2014   Connaissance, Organisation, Systemes techniques,   \n",
        "135          GUEDJ   2014                        Fondation La Main a la pate   \n",
        "136          GUEDJ   2014                        Fondation La Main a La Pate   \n",
        "137        HOBEIKA   2014                    Structures formelles du langage   \n",
        "138        HOBEIKA   2014  Sciences et technologies de la musique et du s...   \n",
        "139           JAHN   2014       Institut du Cerveau et de la Moelle Epiniere   \n",
        "140           JAHN   2014              Department of Experimental Psychology   \n",
        "141         KEMBLE   2014  Infection, Antimicrobiens, Modelisation, Evolu...   \n",
        "142         KEMBLE   2014                       Chimie, Biologie, Innovation   \n",
        "143      KENNOUCHE   2014       Paris-Cardiovascular research Center (PARCC)   \n",
        "144         MARCOU   2014              Laboratoire de Physique Theorique ENS   \n",
        "145      PRECIGOUT   2014              Institut de Biologie de l_ENS (IBENS)   \n",
        "146      PRECIGOUT   2014                       Ecologie et Grandes Cultures   \n",
        "147       RANDRIAN   2014                                 Immunite et Cancer   \n",
        "148          RITVO   2014       Immunology - Immunopathology - Immunotherapy   \n",
        "149        RIVIeRE   2014                       Institut Jean-Pierre Bourgin   \n",
        "150        RIVIeRE   2014          Laboratoire Matiere et Systemes Complexes   \n",
        "151         SEGALL   2014  Mecanismes adaptatifs: des organismes aux comm...   \n",
        "152         SEGALL   2014      Physique et Mecanique des Milieux Heterogenes   \n",
        "153        STANEVA   2014       Subcellular structures and cellular dynamics   \n",
        "154      THOUVENIN   2014                                  Institut Langevin   \n",
        "155      TOUSSAINT   2014  CR2P - Centre de Recherche sur la Paleobiodive...   \n",
        "156      TOUSSAINT   2014                              Laboratory of Zoology   \n",
        "157      VILLEMAIN   2014              Institut Langevin - ParisTech (ESPCI)   \n",
        "158      VILLEMAIN   2014                                       PARCC (HEGP)   \n",
        "\n",
        "                                               Website  \\\n",
        "0               http://lcrbw.pharmacie.univ-paris5.fr/   \n",
        "1                               http://www.lps.ens.fr/   \n",
        "2    http://umr144.curie.fr/en/research-groups/syst...   \n",
        "3                               http://umr144.curie.fr   \n",
        "4                                    www.lpem.espci.fr   \n",
        "5                                                  NaN   \n",
        "6             http://sites.google.com/site/insermu950/   \n",
        "7               http://www.necker.fr/tamara/index.html   \n",
        "8             http://www.chimie.ens.fr/Microfluidique/   \n",
        "9                              http://mig.jouy.inra.fr   \n",
        "10                                      www.micalis.fr   \n",
        "11                        http://www.necker.fr/tamara/   \n",
        "12                             http://www.bio.espci.fr   \n",
        "13                          http://www2.mnhn.fr/cersp/   \n",
        "14   http://www.upmc.fr/fr/recherche/pole_3/pole_te...   \n",
        "15                           http://www.cricm.upmc.fr/   \n",
        "16                               http://www.ijm.fr/en/   \n",
        "17   http://www.upmc.fr/fr/recherche/pole_2/pole_en...   \n",
        "18        http://www.biologie.ens.fr/bioemco/index.php   \n",
        "20       http://www.msc.univ-paris-diderot.fr/?lang=en   \n",
        "21                      http://www.u839.idf.inserm.fr/   \n",
        "22                               http://www.unicog.org   \n",
        "23                        http://www.unic.cnrs-gif.fr/   \n",
        "24                                       www.di.ens.fr   \n",
        "25   https://www.pasteur.fr/ip/easysite/pasteur/fr/...   \n",
        "28                                http://www.istem.eu/   \n",
        "29      http://www.chups.jussieu.fr/ext/u739/Home.html   \n",
        "30                   http://openwetware.org/wiki/Mazel   \n",
        "31               http://www.msc.univ-paris-diderot.fr/   \n",
        "32   http://recherche.parisdescartes.fr/UMRS775/Tra...   \n",
        "..                                                 ...   \n",
        "129                                 http://www.ijm.fr/   \n",
        "130  http://www.biomedicale.univ-paris5.fr/neurophy...   \n",
        "131  http://www.biomedicale.parisdescartes.fr/neuro...   \n",
        "132                                                NaN   \n",
        "133              http://www.com.ulaval.ca/departement/   \n",
        "134               http://www.utc.fr/costech/?page_id=6   \n",
        "135                            www.fondation-lamap.org   \n",
        "136                     http://www.fondation-lamap.org   \n",
        "137          http://www.umr7023.cnrs.fr/index.php.html   \n",
        "138                 http://www.ircam.fr/stms.html?&L=1   \n",
        "139                          http://icm-institute.org/   \n",
        "140                            http://www.psy.ox.ac.uk   \n",
        "141  http://www.bichat.inserm.fr/equipes/emi0339/u7...   \n",
        "142                                    IN CONSTRUCTION   \n",
        "143                            http://parcc.inserm.fr/   \n",
        "144                                    www.phys.ens.fr   \n",
        "145                   http://www.ibens.ens.fr/?lang=fr   \n",
        "146         http://www6.versailles-grignon.inra.fr/egc   \n",
        "147                                       www.curie.fr   \n",
        "148                                                NaN   \n",
        "149                http://www-ijpb.versailles.inra.fr/   \n",
        "150               http://www.msc.univ-paris-diderot.fr   \n",
        "151                       http://www.mabiodiv.cnrs.fr/   \n",
        "152                http://www.pmmh.espci.fr/?-Accueil-   \n",
        "153                          http://umr144.curie.fr/en   \n",
        "154                     www.institut-langevin.espci.fr   \n",
        "155                              http://paleo.mnhn.fr/   \n",
        "156  http://www.bio.auth.gr/en/content/laboratory-z...   \n",
        "157         http://www.institut-langevin.espci.fr/home   \n",
        "158                            http://parcc.inserm.fr/   \n",
        "\n",
        "                                               Address   latitude  longitude  \\\n",
        "0    4, avenue de l'Observatoire Paris cedex 6 7527...  48.843427   2.336344   \n",
        "1          24, rue Lhomond Paris Cedex 05 75231 FRANCE  48.843260   2.346497   \n",
        "2                    12 Rue Lhomond Paris 75005 FRANCE  48.844044   2.345675   \n",
        "3                    12 Rue Lhomond Paris 75005 FRANCE  48.844044   2.345675   \n",
        "4                  10 rue Vauquelin Paris 75005 FRANCE  48.841460   2.346810   \n",
        "5    11 rue Pierre et Marie Curie, 75005 Paris, Fra...  48.844504   2.344020   \n",
        "6    Buffon (Universite Paris Diderot) Paris 75013 ...  48.828131   2.381793   \n",
        "7    24, rue du faubourg St Jacques Paris 75014 FRANCE  48.837463   2.338523   \n",
        "8                rue d'ulm Paris cedex 05 75231 FRANCE  48.845052   2.345573   \n",
        "9    INRA Domaine de Vilvert Jouy-en-Josas 78352 Ce...  48.764106   2.182858   \n",
        "10   INRA Domaine de Vilvert Jouy-en-Josas 78352 Ce...  48.764106   2.182858   \n",
        "11             156 rue de Vaugirard PARIS 75015 FRANCE  48.843464   2.313964   \n",
        "12                10, rue Vauquelin Paris 75005 FRANCE  48.841460   2.346810   \n",
        "13                    55 rue Buffon Paris 75005 FRANCE  48.841535   2.358175   \n",
        "14             7 Quai Saint-Bernard Paris 75005 FRANCE  48.844761   2.364028   \n",
        "15    47, bld de l'Hopital Paris Cedex 13 75651 FRANCE  48.840212   2.363200   \n",
        "16   Buffon (Universite Paris Diderot) Paris CEDEX ...  48.828131   2.381793   \n",
        "17                     26 rue d'Ulm Paris 75005 FRANCE  48.845052   2.345573   \n",
        "18            46 rue d'Ulm Paris Cedex 05 75230 FRANCE  48.842114   2.344008   \n",
        "20   Universite paris diderot condorcet Paris cedex...  48.828907   2.383384   \n",
        "21           17 Rue du Fer a Moulin Paris 75005 FRANCE  48.839084   2.354392   \n",
        "22             NeuroSpin GIF/Yvette Cedex 91191 FRANCE  48.719782   2.150957   \n",
        "23   1 Avenue de la Terrasse Gif sur Yvette 91190 F...  48.704724   2.134047   \n",
        "24                     45 rue d'Ulm Paris 75005 FRANCE  48.842295   2.344272   \n",
        "25   Institut Pasteur 25 rue Docteur Roux- Batiment...  48.840838   2.310239   \n",
        "28      5 rue Henri Desbrueres EVRY Cedex 91030 FRANCE  48.612039   2.446914   \n",
        "29     47 Bld de l'Hopital Paris cedex 13 75651 FRANCE  48.840212   2.363200   \n",
        "30     25, rue du Dr. Roux Paris CEDEX 15 75015 FRANCE  48.840838   2.310239   \n",
        "31   Universite paris diderot condorcet Paris 75205...  48.828907   2.383384   \n",
        "32         45, rue des Saints-Peres Paris 75006 FRANCE  48.855550   2.331287   \n",
        "..                                                 ...        ...        ...   \n",
        "129  Buffon (Universite Paris Diderot) Paris 75013 ...  48.828131   2.381793   \n",
        "130         45 rue des Saints Peres 75006 75006 FRANCE  48.855550   2.331287   \n",
        "131         45 rue des Saints Peres Paris 75006 FRANCE  48.855550   2.331287   \n",
        "132  156, rue de de Vaugirard Site Necker U1001 Fac...  48.843464   2.313964   \n",
        "133  2325, rue de l'Universite Quebec (Quebec) G1V ...  46.779024 -71.270165   \n",
        "134  Centre Pierre Guillaumat BP 60319 Compiegne 60...  49.399251   2.799850   \n",
        "135       1, rue Maurice Arnoux Montrouge 92120 FRANCE  48.821386   2.314593   \n",
        "136              1, rue Maurice-Arnoux Montrouge 92120  48.821386   2.314593   \n",
        "137  2 rue de la Liberte Universite Paris 8 Saint D...  48.943856   2.365427   \n",
        "138        1, place Igor-Stravinsky Paris 75004 FRANCE  48.859481   2.351692   \n",
        "139  47 bvd de l'hopital Hopital Pitie Salpetriere ...  48.840212   2.363200   \n",
        "140  9 South Parks Road Tinbergen Building Oxford O...  51.758660  -1.250517   \n",
        "141  16 rue Henri Huchard Sorbonne Paris Cite, Facu...  48.899123   2.335177   \n",
        "142          10 Rue Vauquelin ESPCI Paris 75005 FRANCE  48.841460   2.346810   \n",
        "143  56 rue Leblanc Paris - Centre de recherche Car...  48.838204   2.275562   \n",
        "144                  24 rue Lhomond Paris 75005 FRANCE  48.843260   2.346497   \n",
        "145         46 rue d'Ulm PARIS Cedex 05 F-75230 FRANCE  48.842114   2.344008   \n",
        "146   Equipe Plante Thiverval Grignon F - 78850 FRANCE  48.848959   1.917372   \n",
        "147                   2 rue Lhomond Paris 75005 FRANCE  48.844807   2.344981   \n",
        "148          83 bd de l'hopital Paris 13e 75013 FRANCE  48.838741   2.361249   \n",
        "149  INRA Centre de Versailles-Grignon Route de St-...  48.806399   2.085668   \n",
        "150  Universite paris diderot condorcet Batiment Co...  48.828907   2.383384   \n",
        "151                   55 rue Buffon Paris 75005 FRANCE  48.841535   2.358175   \n",
        "152                10 rue Vauquelin Paris 75005 FRANCE  48.841460   2.346810   \n",
        "153                  12 Rue Lhomond Paris 75005 FRANCE  48.844044   2.345675   \n",
        "154                   1 rue Jussieu Paris 75005 FRANCE  48.847387   2.353075   \n",
        "155  8 rue Buffon CP38 Museum national d'Histoire n...  48.841990   2.359117   \n",
        "156  Aristotle University of Thessaloniki Laborator...  40.629838  22.958855   \n",
        "157  1 rue Jussieu, 75238 Paris Cedex 05, France Pa...  48.847387   2.353075   \n",
        "158     56 rue Leblanc, 75015 Paris Paris 75015 FRANCE  48.838204   2.275562   \n",
        "\n",
        "                                          Clean_Adress  \n",
        "0    4, Avenue de l'Observatoire, Od\u00e9on, 6e, Paris,...  \n",
        "1    24, Rue Lhomond, Val-de-Gr\u00e2ce, 5e, Paris, \u00cele-...  \n",
        "2    12, Rue Lhomond, Val-de-Gr\u00e2ce, 5e, Paris, \u00cele-...  \n",
        "3    12, Rue Lhomond, Val-de-Gr\u00e2ce, 5e, Paris, \u00cele-...  \n",
        "4    ESPCI, 10, Rue Vauquelin, Val-de-Gr\u00e2ce, 5e, Pa...  \n",
        "5    11, Rue Pierre et Marie Curie, Val-de-Gr\u00e2ce, 5...  \n",
        "6    Buffon (Universit\u00e9 Paris Diderot), Rue Alice D...  \n",
        "7    24, Rue du Faubourg Saint-Jacques, Montparnass...  \n",
        "8    Rue d'Ulm, 5e Arrondissement, 5e, Paris, \u00cele-d...  \n",
        "9    INRA, Jouy-en-Josas, Versailles, Yvelines, \u00cele...  \n",
        "10   INRA, Jouy-en-Josas, Versailles, Yvelines, \u00cele...  \n",
        "11   156, Rue de Vaugirard, St-Lambert, 15e, Paris,...  \n",
        "12   ESPCI, 10, Rue Vauquelin, Val-de-Gr\u00e2ce, 5e, Pa...  \n",
        "13   55, Rue Buffon, Jardin des Plantes, 5e, Paris,...  \n",
        "14   Quai Saint-Bernard, Jardin des Plantes, 5e, Pa...  \n",
        "15   47, Boulevard de l'H\u00f4pital, Salp\u00eatri\u00e8re, 13e, ...  \n",
        "16   Buffon (Universit\u00e9 Paris Diderot), Rue Alice D...  \n",
        "17   Rue d'Ulm, 5e Arrondissement, 5e, Paris, \u00cele-d...  \n",
        "18   46, Rue d'Ulm, Val-de-Gr\u00e2ce, 5e, Paris, \u00cele-de...  \n",
        "20   Condorcet (Universit\u00e9 Paris Diderot), Quai Pan...  \n",
        "21   17, Rue du Fer \u00e0 Moulin, Jardin des Plantes, 5...  \n",
        "22   B\u00e2timent 145, D 306, Saint-Aubin, Palaiseau, E...  \n",
        "23   10A D\u00e9l\u00e9gation, 1, Avenue de la Terrasse, L'Ab...  \n",
        "24   45, Rue d'Ulm, Val-de-Gr\u00e2ce, 5e, Paris, \u00cele-de...  \n",
        "25   Institut Pasteur, Rue du Docteur Roux, Necker,...  \n",
        "28   Rue Henri Desbru\u00e8res, Corbeil-Essonnes, \u00c9vry, ...  \n",
        "29   47, Boulevard de l'H\u00f4pital, Salp\u00eatri\u00e8re, 13e, ...  \n",
        "30   Institut Pasteur, Rue du Docteur Roux, Necker,...  \n",
        "31   Condorcet (Universit\u00e9 Paris Diderot), Quai Pan...  \n",
        "32   45, Rue des Saints-P\u00e8res, Saint-Germain-des-Pr...  \n",
        "..                                                 ...  \n",
        "129  Buffon (Universit\u00e9 Paris Diderot), Rue Alice D...  \n",
        "130  45, Rue des Saints-P\u00e8res, Saint-Germain-des-Pr...  \n",
        "131  45, Rue des Saints-P\u00e8res, Saint-Germain-des-Pr...  \n",
        "132  156, Rue de Vaugirard, St-Lambert, 15e, Paris,...  \n",
        "133  Fou \u00c6LI\u00c9S, 2325, Rue de l'Universit\u00e9, Sillery,...  \n",
        "134  Rue du Docteur Schweitzer, Royallieu Village, ...  \n",
        "135  \u00c9cole normale sup\u00e9rieure, 1, Rue Maurice Arnou...  \n",
        "136  \u00c9cole normale sup\u00e9rieure, 1, Rue Maurice Arnou...  \n",
        "137  Rue de la Libert\u00e9, Saint-Denis, Seine-Saint-De...  \n",
        "138  Place Igor Stravinsky, Beaubourg, St-Merri, 4e...  \n",
        "139  47, Boulevard de l'H\u00f4pital, Salp\u00eatri\u00e8re, 13e, ...  \n",
        "140  Tinbergen Building, St Cross Road, Norham Mano...  \n",
        "141  Rue Henri Huchard, Grandes-Carri\u00e8res, 18e, Par...  \n",
        "142  ESPCI, 10, Rue Vauquelin, Val-de-Gr\u00e2ce, 5e, Pa...  \n",
        "143  56, Rue Leblanc, Javel, 15e, Paris, \u00cele-de-Fra...  \n",
        "144  24, Rue Lhomond, Val-de-Gr\u00e2ce, 5e, Paris, \u00cele-...  \n",
        "145  46, Rue d'Ulm, Val-de-Gr\u00e2ce, 5e, Paris, \u00cele-de...  \n",
        "146  Thiverval-Grignon, Versailles, Yvelines, \u00cele-d...  \n",
        "147  2, Rue Lhomond, Val-de-Gr\u00e2ce, 5e, Paris, \u00cele-d...  \n",
        "148  83, Boulevard de l'H\u00f4pital, Salp\u00eatri\u00e8re, 13e, ...  \n",
        "149  INRA, Notre-Dame, Versailles, Yvelines, \u00cele-de...  \n",
        "150  Condorcet (Universit\u00e9 Paris Diderot), Quai Pan...  \n",
        "151  55, Rue Buffon, Jardin des Plantes, 5e, Paris,...  \n",
        "152  ESPCI, 10, Rue Vauquelin, Val-de-Gr\u00e2ce, 5e, Pa...  \n",
        "153  12, Rue Lhomond, Val-de-Gr\u00e2ce, 5e, Paris, \u00cele-...  \n",
        "154  Rue Jussieu, St-Victor, 5e, Paris, \u00cele-de-Fran...  \n",
        "155  Rue Buffon, Jardin des Plantes, 5e, Paris, \u00cele...  \n",
        "156  \u0391\u03c1\u03b9\u03c3\u03c4\u03bf\u03c4\u03ad\u03bb\u03b5\u03b9\u03bf \u03a0\u03b1\u03bd\u03b5\u03c0\u03b9\u03c3\u03c4\u03ae\u03bc\u03b9\u03bf \u0398\u03b5\u03c3\u03c3\u03b1\u03bb\u03bf\u03bd\u03af\u03ba\u03b7\u03c2, \u0395\u03b3\u03bd\u03b1\u03c4\u03af...  \n",
        "157  Rue Jussieu, St-Victor, 5e, Paris, \u00cele-de-Fran...  \n",
        "158  56, Rue Leblanc, Javel, 15e, Paris, \u00cele-de-Fra...  \n",
        "\n",
        "[152 rows x 8 columns]"
       ]
      }
     ],
     "prompt_number": 11
    },
    {
     "cell_type": "markdown",
     "metadata": {},
     "source": [
      "Fix some mis-encoded characters"
     ]
    },
    {
     "cell_type": "code",
     "collapsed": false,
     "input": [
      "df.loc[32, \"Name\"] = \"CAEN\"\n",
      "df.loc[33, \"Name\"] = \"CAEN\"\n",
      "df.loc[42, \"Address\"] = \"4, place Jussieu Boite 100 PARIS Cedex 05 75005 FRANCE\"\n",
      "df.loc[56, \"Lab\"] = 'Laboratoire Colloides et Materiaux Divises (LCMD)'\n",
      "df.loc[66, \"Lab\"] = \"Centre de Recherche de l'Institut du Cerveau et de la Moelle epiniere\"\n",
      "df.loc[67, \"Lab\"] = \"Centre de Recherche de l'Institut du Cerveau et de la Moelle epiniere\"\n",
      "df.loc[77, \"Lab\"] = 'Subcellular structure and cellular dynamics, Institut Curie'\n",
      "df.loc[85, 'Address'] = \"Av. Ramon y Cajal, s/n Instituto de Neurociencias CSIC - UMH Sant Joan d'Alacant 03550 SPAIN\"\n",
      "df.loc[102, \"Address\"] = \"4, avenue de l'Observatoire Paris 75270 Cedex 06 FRANCE\"\n",
      "df.loc[143, \"Address\"] = \"56 rue Leblanc Paris - Centre de recherche Cardiovasculaire a l'HEGP  Inserm - UMR 970 Paris 75015 FRANCE\""
     ],
     "language": "python",
     "metadata": {},
     "outputs": [],
     "prompt_number": 266
    },
    {
     "cell_type": "code",
     "collapsed": false,
     "input": [
      "df.to_csv(\"fdv_address_clean.txt\", sep=\"\\t\", index=None, encoding=\"utf8\")"
     ],
     "language": "python",
     "metadata": {},
     "outputs": [],
     "prompt_number": 282
    },
    {
     "cell_type": "code",
     "collapsed": false,
     "input": [
      "c = df.columns.tolist()"
     ],
     "language": "python",
     "metadata": {},
     "outputs": [],
     "prompt_number": 166
    },
    {
     "cell_type": "code",
     "collapsed": false,
     "input": [
      "c"
     ],
     "language": "python",
     "metadata": {},
     "outputs": [
      {
       "metadata": {},
       "output_type": "pyout",
       "prompt_number": 167,
       "text": [
        "['Name',\n",
        " 'Promo',\n",
        " 'Lab',\n",
        " 'Website',\n",
        " 'Address',\n",
        " 'latitude',\n",
        " 'longitude',\n",
        " 'Clean_Adress']"
       ]
      }
     ],
     "prompt_number": 167
    },
    {
     "cell_type": "code",
     "collapsed": false,
     "input": [
      "col = c[5:7] + c[0:4] + [c[-1]]"
     ],
     "language": "python",
     "metadata": {},
     "outputs": [],
     "prompt_number": 389
    },
    {
     "cell_type": "markdown",
     "metadata": {},
     "source": [
      "re-order dataframe, and remove addresses"
     ]
    },
    {
     "cell_type": "code",
     "collapsed": false,
     "input": [
      "df_out = df[col]"
     ],
     "language": "python",
     "metadata": {},
     "outputs": [],
     "prompt_number": 409
    },
    {
     "cell_type": "markdown",
     "metadata": {},
     "source": [
      "Remove coma to export in csv."
     ]
    },
    {
     "cell_type": "code",
     "collapsed": false,
     "input": [
      "df_out.replace({\",\":\"\"}, regex=True, inplace=1)"
     ],
     "language": "python",
     "metadata": {},
     "outputs": [],
     "prompt_number": 410
    },
    {
     "cell_type": "markdown",
     "metadata": {},
     "source": [
      "name index"
     ]
    },
    {
     "cell_type": "code",
     "collapsed": false,
     "input": [
      "df_out.index.name = \"id\""
     ],
     "language": "python",
     "metadata": {},
     "outputs": [],
     "prompt_number": 411
    },
    {
     "cell_type": "code",
     "collapsed": false,
     "input": [
      "df_out[\"true_latitude\"] = df[\"latitude\"].copy()\n",
      "df_out[\"true_longitude\"] = df[\"longitude\"].copy()"
     ],
     "language": "python",
     "metadata": {},
     "outputs": [],
     "prompt_number": 412
    },
    {
     "cell_type": "markdown",
     "metadata": {},
     "source": [
      "Add jittering so marker at same position do not overlap 100%"
     ]
    },
    {
     "cell_type": "code",
     "collapsed": false,
     "input": [
      "rad_Earth  = 6378.137;\n",
      "one_degree = (2 * np.pi * rad_Earth) / 360.;\n",
      "one_km     = 1 / float(one_degree);\n",
      " \n",
      "  \n",
      "def randomInRange(fro, to):\n",
      "    return (np.random.random() * (to - fro) + fro)\n",
      "\n",
      "\n",
      "def jitter(lat, lng, r=\"both\", kms=0.010):\n",
      "    lat = randomInRange(lat - (kms * one_km), \n",
      "                        lat + (kms * one_km)\n",
      "                        )\n",
      "    \n",
      "    lng = randomInRange(lng - (kms * one_km),\n",
      "                        lng + (kms * one_km))\n",
      "    if r==\"both\":\n",
      "        return lat, lng\n",
      "    elif r==\"lat\":\n",
      "        return lat\n",
      "    elif r==\"lng\":\n",
      "        return lng"
     ],
     "language": "python",
     "metadata": {},
     "outputs": [],
     "prompt_number": 413
    },
    {
     "cell_type": "code",
     "collapsed": false,
     "input": [
      "df_out[\"longitude\"] = df_out.apply(lambda x: jitter(x[\"true_latitude\"], x[\"true_longitude\"], \"lng\"), axis=1)\n",
      "df_out[\"latitude\"] = df_out.apply(lambda x: jitter(x[\"true_latitude\"], x[\"true_longitude\"], \"lat\"), axis=1)"
     ],
     "language": "python",
     "metadata": {},
     "outputs": [],
     "prompt_number": 414
    },
    {
     "cell_type": "markdown",
     "metadata": {},
     "source": [
      "Add full description to have in mapbox. We can only put one field for the description"
     ]
    },
    {
     "cell_type": "code",
     "collapsed": false,
     "input": [
      "full_desc = df_out[[\"Lab\", \"Website\", \"Clean_Adress\"]].apply(lambda x: \"\\n\".join([str(i) if isinstance(i, float)\n",
      "                                                                      else i.encode('utf-8') for i in x]), axis=1)"
     ],
     "language": "python",
     "metadata": {},
     "outputs": [],
     "prompt_number": 421
    },
    {
     "cell_type": "code",
     "collapsed": false,
     "input": [
      "df_out[\"full_description\"] = full_desc"
     ],
     "language": "python",
     "metadata": {},
     "outputs": [],
     "prompt_number": 422
    },
    {
     "cell_type": "code",
     "collapsed": false,
     "input": [],
     "language": "python",
     "metadata": {},
     "outputs": []
    },
    {
     "cell_type": "code",
     "collapsed": false,
     "input": [
      "df_out.drop_duplicates(subset=[\"Name\", \"true_latitude\"], inplace=1)\n",
      "df_out.to_csv(\"address_ok.csv\", encoding=\"utf8\")"
     ],
     "language": "python",
     "metadata": {},
     "outputs": [],
     "prompt_number": 423
    },
    {
     "cell_type": "markdown",
     "metadata": {},
     "source": [
      "Export file per Promo so I can import them separetly in Mapbox and easily give them a color."
     ]
    },
    {
     "cell_type": "code",
     "collapsed": false,
     "input": [
      "for i in df_out.Promo.unique():\n",
      "    df_out[df_out.Promo==i].to_csv(\"address_\"+str(i)+\".csv\", encoding=\"utf8\")"
     ],
     "language": "python",
     "metadata": {},
     "outputs": [],
     "prompt_number": 424
    },
    {
     "cell_type": "markdown",
     "metadata": {},
     "source": [
      "# Mapbox\n",
      "\n",
      "I created an account in Mapbox, create a new project, and import the 4 promo files independantly and gave them a single color for each.\n",
      "\n",
      "I added the clustering features from here:\n",
      "https://www.mapbox.com/mapbox.js/example/v1.0.0/"
     ]
    }
   ],
   "metadata": {}
  }
 ]
}